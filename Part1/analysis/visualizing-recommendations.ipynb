{
 "cells": [
  {
   "cell_type": "markdown",
   "metadata": {},
   "source": [
    "# Visualizing Recommendations\n",
    "\n",
    "Use this notebook to quickly visualize recommendations. It is assumed that you have saved and loaded your item similarity matrix and full_mat."
   ]
  },
  {
   "cell_type": "code",
   "execution_count": null,
   "metadata": {
    "collapsed": true
   },
   "outputs": [],
   "source": [
    "from PIL import Image\n",
    "import urllib.request\n",
    "from IPython.display import display, Image, HTML\n",
    "import matplotlib.pyplot as plt\n",
    "%matplotlib inline"
   ]
  },
  {
   "cell_type": "code",
   "execution_count": null,
   "metadata": {
    "collapsed": true
   },
   "outputs": [],
   "source": [
    "def getmrec(full_mat, user_id, item_similarity, k, m, idict,  cov = False):\n",
    "    '''\n",
    "        This function takes in the full_matrix, user_id and other arguments\n",
    "        and returns the list of read and recommended books respectively.\n",
    "    '''\n",
    "    \n",
    "    n = item_similarity.shape[0]\n",
    "    nzero = full_mat[user_id].nonzero()[0]\n",
    "    \n",
    "    preds = {}\n",
    "    for row in range(n):\n",
    "        preds[row] = predict(user_id, row, full_mat, item_similarity, amean, umean, imean, k)\n",
    "    \n",
    "    flipped_dict = dict(zip(idict.values(), idict.keys()))\n",
    "    \n",
    "    books_read = []    \n",
    "    \n",
    "    if not cov:\n",
    "\n",
    "        for i in nzero:\n",
    "            books_read.append(flipped_dict[i])\n",
    "            del preds[i]\n",
    "    \n",
    "    \n",
    "    res = sorted(preds.items(), key=lambda x: x[1], reverse = True)\n",
    "    \n",
    "    ans = [flipped_dict[i[0]] for i in res[:m]]\n",
    "    \n",
    "    return books_read, ans"
   ]
  },
  {
   "cell_type": "code",
   "execution_count": null,
   "metadata": {},
   "outputs": [],
   "source": [
    "# Get the list of books for a given user\n",
    "\n",
    "books_read, ans = getmrec(full_mat, udict[227520], item_similarity, 5, 3, idict)"
   ]
  },
  {
   "cell_type": "code",
   "execution_count": null,
   "metadata": {},
   "outputs": [],
   "source": [
    "# Create a database of de-deduplicated titles\n",
    "\n",
    "books_db = books[books['Book-Title'].duplicated() == False]"
   ]
  },
  {
   "cell_type": "code",
   "execution_count": null,
   "metadata": {},
   "outputs": [],
   "source": [
    "users = [227520]  # Populate this will multiple user IDs if you want out put for more than one users\n",
    "\n",
    "for user in users:\n",
    "    \n",
    "    books_read, ans = getmrec(full_mat, udict[user], item_similarity, 5, 3, idict)\n",
    "    \n",
    "    print('User: ' + str(user))\n",
    "    print('\\n =x=x=x=x=x=x=x=x=x=x= BOOKS READ =x=x=x=x=x=x=x=x=x=x=')\n",
    "    \n",
    "    books_read_urls = list(books_db[books_db['Book-Title'].isin(books_read)]['Image-URL-L'])\n",
    "    i=0\n",
    "    for URL in books_read_urls:\n",
    "        i+=1\n",
    "        display(Image(URL, width=100))\n",
    "    \n",
    "    print('\\n\\n =x=x=x=x=x=x=x=x=x=x= BOOKS RECOMMENDED =x=x=x=x=x=x=x=x=x=x=')\n",
    "    \n",
    "    recommended_urls = list(books_db[books_db['Book-Title'].isin(ans)]['Image-URL-L'])\n",
    "    i=0\n",
    "    for URL in recommended_urls:\n",
    "        i+=1\n",
    "        display(Image(URL, width=100))"
   ]
  }
 ],
 "metadata": {
  "anaconda-cloud": {},
  "hide_input": false,
  "kernelspec": {
   "display_name": "Python [default]",
   "language": "python",
   "name": "python3"
  },
  "language_info": {
   "codemirror_mode": {
    "name": "ipython",
    "version": 3
   },
   "file_extension": ".py",
   "mimetype": "text/x-python",
   "name": "python",
   "nbconvert_exporter": "python",
   "pygments_lexer": "ipython3",
   "version": "3.6.2"
  },
  "varInspector": {
   "cols": {
    "lenName": 16,
    "lenType": 16,
    "lenVar": 40
   },
   "kernels_config": {
    "python": {
     "delete_cmd_postfix": "",
     "delete_cmd_prefix": "del ",
     "library": "var_list.py",
     "varRefreshCmd": "print(var_dic_list())"
    },
    "r": {
     "delete_cmd_postfix": ") ",
     "delete_cmd_prefix": "rm(",
     "library": "var_list.r",
     "varRefreshCmd": "cat(var_dic_list()) "
    }
   },
   "types_to_exclude": [
    "module",
    "function",
    "builtin_function_or_method",
    "instance",
    "_Feature"
   ],
   "window_display": false
  }
 },
 "nbformat": 4,
 "nbformat_minor": 2
}
