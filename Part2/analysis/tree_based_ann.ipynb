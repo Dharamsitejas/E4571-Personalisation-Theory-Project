{
 "cells": [
  {
   "cell_type": "code",
   "execution_count": 95,
   "metadata": {
    "collapsed": true
   },
   "outputs": [],
   "source": [
    "import time\n",
    "import pandas as pd\n",
    "import numpy as np\n",
    "from sklearn.model_selection import train_test_split\n",
    "from scipy.spatial.distance import cosine\n",
    "from sklearn.metrics.pairwise import cosine_similarity, pairwise_distances\n",
    "from sklearn.model_selection import KFold\n",
    "from sklearn.metrics import mean_squared_error, mean_absolute_error\n",
    "import time\n",
    "import matplotlib.pyplot as plt\n",
    "from sklearn.ensemble import RandomTreesEmbedding\n",
    "import pickle\n",
    "%matplotlib inline"
   ]
  },
  {
   "cell_type": "markdown",
   "metadata": {},
   "source": [
    "### Loading the Book Ratings Dataset\n",
    "\n",
    "Loading directly the pre-processed dataset."
   ]
  },
  {
   "cell_type": "code",
   "execution_count": 485,
   "metadata": {
    "collapsed": true
   },
   "outputs": [],
   "source": [
    "data = pd.read_csv('../created_datasets/Combine.csv')"
   ]
  },
  {
   "cell_type": "code",
   "execution_count": 316,
   "metadata": {
    "collapsed": true
   },
   "outputs": [],
   "source": [
    "rows = data.user_id.unique()\n",
    "cols = data['isbn'].unique()"
   ]
  },
  {
   "cell_type": "code",
   "execution_count": 317,
   "metadata": {},
   "outputs": [
    {
     "name": "stdout",
     "output_type": "stream",
     "text": [
      "Sparsity : 99.21241009430905\n"
     ]
    }
   ],
   "source": [
    "print(\"Sparsity :\", 100 - (data.shape[0]/(len(cols)*len(rows)) * 100))"
   ]
  },
  {
   "cell_type": "code",
   "execution_count": 318,
   "metadata": {
    "collapsed": true
   },
   "outputs": [],
   "source": [
    "idict  = dict(zip(cols, range(len(cols))))\n",
    "udict = dict(zip(rows, range(len(rows))))\n",
    "\n",
    "data.user_id = [\n",
    "    udict[i] for i in data.user_id\n",
    "]\n",
    "data['isbn'] = [\n",
    "    idict[i] for i in data['isbn']#['Book-Title'] ##\n",
    "]\n",
    "\n",
    "nmat = data.as_matrix()\n"
   ]
  },
  {
   "cell_type": "markdown",
   "metadata": {},
   "source": [
    "#### Function for Evaluation Metrics: MAE and RMSE"
   ]
  },
  {
   "cell_type": "code",
   "execution_count": 319,
   "metadata": {
    "collapsed": true
   },
   "outputs": [],
   "source": [
    "def rmse(ypred, ytrue):\n",
    "    ypred = ypred[ytrue.nonzero()].flatten()\n",
    "    ytrue = ytrue[ytrue.nonzero()].flatten()\n",
    "    return np.sqrt(mean_squared_error(ypred, ytrue))\n",
    "\n",
    "def mae(ypred, ytrue):\n",
    "    ypred = ypred[ytrue.nonzero()].flatten()\n",
    "    ytrue = ytrue[ytrue.nonzero()].flatten()\n",
    "    return mean_absolute_error(ypred, ytrue)"
   ]
  },
  {
   "cell_type": "markdown",
   "metadata": {},
   "source": [
    "Our Naive Baseline for any user i, item j prediction is to assign it with (sum of mean rating given by user i (umean[i]), mean rating received by item j (imean[j]) substracting average rating over entire dataset. (amean)) <br><br>\n",
    "-------------- Naive Baseline ---------------\n"
   ]
  },
  {
   "cell_type": "code",
   "execution_count": 320,
   "metadata": {
    "collapsed": true
   },
   "outputs": [],
   "source": [
    "def predict_naive(user, item):\n",
    "    prediction = imean1[item] + umean1[user] - amean1\n",
    "    return prediction"
   ]
  },
  {
   "cell_type": "code",
   "execution_count": 321,
   "metadata": {},
   "outputs": [
    {
     "name": "stderr",
     "output_type": "stream",
     "text": [
      "C:\\Users\\apawar\\AppData\\Local\\Continuum\\anaconda3\\lib\\site-packages\\ipykernel_launcher.py:10: RuntimeWarning: invalid value encountered in true_divide\n",
      "  # Remove the CWD from sys.path while we load stuff.\n"
     ]
    },
    {
     "name": "stdout",
     "output_type": "stream",
     "text": [
      "Naive---\n",
      "rmse 0.8252\n",
      "mae 0.6209\n",
      "\n"
     ]
    }
   ],
   "source": [
    "x1, x2 = train_test_split(nmat, test_size = 0.2, random_state =42)\n",
    "naive = np.zeros((len(rows),len(cols)))\n",
    "for row in x1:\n",
    "    naive[row[0].astype(int), row[1].astype(int)] = row[2]\n",
    "\n",
    "predictions = []\n",
    "targets = []\n",
    "\n",
    "amean1 = np.mean(naive[naive!=0])\n",
    "umean1 = sum(naive.T) / sum((naive!=0).T)\n",
    "imean1 = sum(naive) / sum((naive!=0))\n",
    "\n",
    "umean1 = np.where(np.isnan(umean1), amean1, umean1)\n",
    "imean1 = np.where(np.isnan(imean1), amean1, imean1)\n",
    "\n",
    "\n",
    "print('Naive---')\n",
    "for row in x2:\n",
    "    user, item, actual = row[0], row[1], row[2]\n",
    "    predictions.append(predict_naive(user.astype(int), item.astype(int)))\n",
    "    targets.append(actual)\n",
    "\n",
    "print('rmse %.4f' % rmse(np.array(predictions), np.array(targets)))\n",
    "print('mae %.4f' % mae(np.array(predictions), np.array(targets)))\n",
    "print()"
   ]
  },
  {
   "cell_type": "markdown",
   "metadata": {},
   "source": [
    "Following are the functions to calculate pairwise similarity between two items : Cosine, Adjusted Cosine, Euclidean, Pearson Corelation."
   ]
  },
  {
   "cell_type": "code",
   "execution_count": 135,
   "metadata": {
    "collapsed": true
   },
   "outputs": [],
   "source": [
    "def cos(mat, a, b):\n",
    "    if a == b:\n",
    "        return 1\n",
    "    aval = mat.T[a].nonzero()\n",
    "    bval = mat.T[b].nonzero()\n",
    "    corated = np.intersect1d(aval, bval)\n",
    "    if len(corated) == 0:\n",
    "        return 0\n",
    "    avec = np.take(mat.T[a], corated)\n",
    "    bvec = np.take(mat.T[b], corated)\n",
    "    val = 1 - cosine(avec, bvec)\n",
    "    if np.isnan(val):\n",
    "        return 0\n",
    "    return val"
   ]
  },
  {
   "cell_type": "code",
   "execution_count": 136,
   "metadata": {
    "collapsed": true
   },
   "outputs": [],
   "source": [
    "def adjcos(mat, a, b, umean):\n",
    "    if a == b:\n",
    "        return 1\n",
    "    aval = mat.T[a].nonzero()\n",
    "    bval = mat.T[b].nonzero()\n",
    "    corated = np.intersect1d(aval, bval)\n",
    "    if len(corated) == 0:\n",
    "        return 0\n",
    "    avec = np.take(mat.T[a], corated)\n",
    "    bvec = np.take(mat.T[b], corated)\n",
    "    avec1 = avec - umean[corated]\n",
    "    bvec1 = bvec - umean[corated]\n",
    "    val = 1 - cosine(avec1, bvec1)\n",
    "    if np.isnan(val):\n",
    "        return 0\n",
    "    return val"
   ]
  },
  {
   "cell_type": "code",
   "execution_count": 137,
   "metadata": {
    "collapsed": true
   },
   "outputs": [],
   "source": [
    "def pr(mat, a, b, imean):\n",
    "    if a == b:\n",
    "        return 1\n",
    "    aval = mat.T[a].nonzero()\n",
    "    bval = mat.T[b].nonzero()\n",
    "    corated = np.intersect1d(aval, bval)\n",
    "    if len(corated) < 2:\n",
    "        return 0\n",
    "    avec = np.take(mat.T[a], corated)\n",
    "    bvec = np.take(mat.T[b], corated)\n",
    "    avec1 = avec - imean[a]\n",
    "    bvec1 = bvec - imean[b]\n",
    "    val = 1 - cosine(avec1, bvec1)\n",
    "    if np.isnan(val):\n",
    "        return 0\n",
    "    return val"
   ]
  },
  {
   "cell_type": "code",
   "execution_count": 138,
   "metadata": {
    "collapsed": true
   },
   "outputs": [],
   "source": [
    "def euc(mat, a, b):\n",
    "    if a == b:\n",
    "        return 1\n",
    "    aval = mat.T[a].nonzero()\n",
    "    bval = mat.T[b].nonzero()\n",
    "    corated = np.intersect1d(aval, bval)\n",
    "    if len(corated) == 0:\n",
    "        return 0\n",
    "    avec = np.take(mat.T[a], corated)\n",
    "    bvec = np.take(mat.T[b], corated)\n",
    "    dist = np.sqrt(np.sum(a-b)**2)\n",
    "    val = 1/(1+dist)\n",
    "    if np.isnan(val):\n",
    "        return 0\n",
    "    return val"
   ]
  },
  {
   "cell_type": "markdown",
   "metadata": {},
   "source": [
    "Predict function is used to get recommended rating by user i for item j."
   ]
  },
  {
   "cell_type": "code",
   "execution_count": 139,
   "metadata": {
    "collapsed": true
   },
   "outputs": [],
   "source": [
    "def predict(user, item, mat, item_similarity, amean, umean, imean,  k=20):\n",
    "    nzero = mat[user].nonzero()[0]\n",
    "    if len(nzero) == 0:\n",
    "        return amean\n",
    "    baseline = imean + umean[user] - amean\n",
    "    choice = nzero[item_similarity[item, nzero].argsort()[::-1][1:k+1]]\n",
    "    prediction = ((mat[user, choice] - baseline[choice]).dot(item_similarity[item, choice])/ sum(item_similarity[item, choice])) + baseline[item]\n",
    "        \n",
    "    if np.isnan(prediction):\n",
    "        prediction = amean\n",
    "    if prediction > 10:\n",
    "        prediction = 10\n",
    "    if prediction < 1:\n",
    "        prediction = 1\n",
    "    return prediction"
   ]
  },
  {
   "cell_type": "markdown",
   "metadata": {},
   "source": [
    "itemsimilar function is used to get similarities between items"
   ]
  },
  {
   "cell_type": "code",
   "execution_count": 360,
   "metadata": {
    "collapsed": true
   },
   "outputs": [],
   "source": [
    "def itemsimilar(mat, option, indices='nope'): #item-item\n",
    "    amean = np.mean(mat[mat!=0])\n",
    "    umean = sum(mat.T) / sum((mat!=0).T)\n",
    "    imean = sum(mat) / sum((mat!=0))\n",
    "    \n",
    "    umean = np.where(np.isnan(umean), amean, umean)\n",
    "    imean = np.where(np.isnan(imean), amean, imean)\n",
    "    \n",
    "    n = mat.shape[1]\n",
    "    sim_mat = np.ones((n, n))*0\n",
    "    \n",
    "    if option == 'pr':\n",
    "        for i in range(n):\n",
    "            for j in range(n):\n",
    "                sim_mat[i][j] = pr(mat, i, j, imean)\n",
    "        sim_mat = (sim_mat + 1)/2\n",
    "    elif option == 'cos':\n",
    "        for i in range(n):\n",
    "            for j in range(n):\n",
    "                sim_mat[i][j] = cos(mat, i, j)\n",
    "    elif option == 'adjcos':\n",
    "        for i in range(n):\n",
    "            for j in range(n):\n",
    "                sim_mat[i][j] = adjcos(mat, i, j, umean)\n",
    "        sim_mat = (sim_mat + 1)/2\n",
    "    elif option == 'euc':\n",
    "        if indices=='nope':\n",
    "            for i in range(n):\n",
    "                for j in range(n):\n",
    "                    sim_mat[i][j] = euc(mat, i, j)            \n",
    "        else:\n",
    "            for i in indices:\n",
    "                for j in indices:\n",
    "                    sim_mat[i][j] = euc(mat, i, j)\n",
    "    else:\n",
    "        sim_mat = cosine_similarity(mat.T)\n",
    "    \n",
    "    return sim_mat, amean, umean, imean"
   ]
  },
  {
   "cell_type": "markdown",
   "metadata": {},
   "source": [
    "itemsimilar_ann() uses itemsimilar() to find closest items using tree based ANN"
   ]
  },
  {
   "cell_type": "code",
   "execution_count": 481,
   "metadata": {
    "collapsed": true
   },
   "outputs": [],
   "source": [
    "def itemsimilar_ann(tree, mat, k, items, recalculate=False):\n",
    "    n=tree.shape[1]\n",
    "    for i in range(n):\n",
    "        indices = np.argwhere(tree[:, i]==1).flatten()\n",
    "        indices_none = np.argwhere(tree[:, i]!=1).flatten()\n",
    "        if recalculate==True:\n",
    "            item_similarity1, amean1, umean1, imean1 = itemsimilar(mat, 'cos', indices)\n",
    "        else:\n",
    "            item_similarity1 = items.copy()\n",
    "            for m in indices_none:\n",
    "                item_similarity1[m] = 0\n",
    "        if i==0:\n",
    "            item_similarity_all = item_similarity1.copy()\n",
    "            item_similarity_all[:,:] = 0\n",
    "            item_similarity_agg = item_similarity_all.copy()\n",
    "            closest_items = item_similarity_all.copy()\n",
    "            item_similarity_final = item_similarity_all.copy()\n",
    "\n",
    "        no_data = item_similarity_all==0\n",
    "        item_similarity_all[no_data] = item_similarity_all[no_data] + item_similarity1[no_data] \n",
    "\n",
    "        for j in indices:\n",
    "            a = item_similarity1[j].copy()\n",
    "            # item_similarity_agg counts number of times the item came as closest to the jth item.\n",
    "            item_similarity_agg[j] = item_similarity_agg[j] + (a>=np.amax([0.00001, (-1*np.partition(-a, k-1, axis=-1)[k-1])])).astype(int)\n",
    "\n",
    "    for j in range(mat.shape[1]):\n",
    "        b = item_similarity_agg[j].copy()\n",
    "        closest_items[j] = (b>=np.amax([0.00001, (-1*np.partition(-b, k-1, axis=-1)[k-1])])).astype(int)\n",
    "\n",
    "    item_similarity_final[closest_items>0] = item_similarity_all[closest_items>0]\n",
    "    return(item_similarity_final)"
   ]
  },
  {
   "cell_type": "markdown",
   "metadata": {},
   "source": [
    "### Grid Search for best K for item-item CF using all the similarity metric implemented."
   ]
  },
  {
   "cell_type": "code",
   "execution_count": 219,
   "metadata": {},
   "outputs": [
    {
     "name": "stdout",
     "output_type": "stream",
     "text": [
      "1.3355786800384521\n"
     ]
    }
   ],
   "source": [
    "start = time.time()\n",
    "full_mat = np.zeros((len(rows), len(cols)))\n",
    "\n",
    "for row in nmat:\n",
    "    full_mat[row[0].astype(int), row[1].astype(int)] = row[2]\n",
    "\n",
    "#item_similarity, amean, umean, imean = itemsimilar(full_mat, 'cos')\n",
    "\n",
    "# this .pkl file can be accessed on google drive. Takes 5-10 hours to create this file: http://bit.ly/2CkBOjk\n",
    "item_similarity = pickle.load(open(\"items_similarity_mat.pkl\", \"rb\" )) "
   ]
  },
  {
   "cell_type": "code",
   "execution_count": 338,
   "metadata": {
    "collapsed": true
   },
   "outputs": [],
   "source": [
    "amean = np.mean(full_mat[full_mat!=0])\n",
    "umean = sum(full_mat.T) / sum((full_mat!=0).T)\n",
    "imean = sum(full_mat) / sum((full_mat!=0))\n",
    "\n",
    "umean = np.where(np.isnan(umean), amean, umean)\n",
    "imean = np.where(np.isnan(imean), amean, imean)"
   ]
  },
  {
   "cell_type": "code",
   "execution_count": 340,
   "metadata": {},
   "outputs": [
    {
     "data": {
      "text/plain": [
       "(4959, 10)"
      ]
     },
     "execution_count": 340,
     "metadata": {},
     "output_type": "execute_result"
    }
   ],
   "source": [
    "from sklearn.random_projection import GaussianRandomProjection\n",
    "grp = GaussianRandomProjection(n_components=10, eps=0.1, random_state=None)\n",
    "W = grp.fit_transform(np.transpose(full_mat))\n",
    "print(W.shape)"
   ]
  },
  {
   "cell_type": "code",
   "execution_count": 447,
   "metadata": {},
   "outputs": [
    {
     "name": "stdout",
     "output_type": "stream",
     "text": [
      "(4959, 25)\n"
     ]
    },
    {
     "data": {
      "text/plain": [
       "array([   94.,   514.,   118.,   197.,  1353.,  2683.,   833.,   169.,\n",
       "          39.,   934.,   140.,   452.,   107.,    52.,   645.,  1588.,\n",
       "         151.,  4808.])"
      ]
     },
     "execution_count": 447,
     "metadata": {},
     "output_type": "execute_result"
    }
   ],
   "source": [
    "rte = RandomTreesEmbedding(n_estimators=10, max_depth=1000, min_samples_split=30, min_samples_leaf=30,sparse_output=False, random_state=12)\n",
    "tree = rte.fit_transform(W)#np.transpose(full_mat)\n",
    "print(tree.shape)\n",
    "tree = tree[:,~(sum(tree)==tree.shape[0])]\n",
    "sum(tree)"
   ]
  },
  {
   "cell_type": "code",
   "execution_count": 482,
   "metadata": {},
   "outputs": [
    {
     "name": "stdout",
     "output_type": "stream",
     "text": [
      "Item similarity for items in same leaf computed\n"
     ]
    },
    {
     "name": "stderr",
     "output_type": "stream",
     "text": [
      "C:\\Users\\apawar\\AppData\\Local\\Continuum\\anaconda3\\lib\\site-packages\\ipykernel_launcher.py:7: RuntimeWarning: invalid value encountered in double_scalars\n",
      "  import sys\n"
     ]
    },
    {
     "name": "stdout",
     "output_type": "stream",
     "text": [
      "2\n",
      "Errors\n",
      "RMSE : 0.9081\n",
      "MAE : 0.7151\n",
      "Item similarity for items in same leaf computed\n",
      "3\n",
      "Errors\n",
      "RMSE : 0.8872\n",
      "MAE : 0.6893\n",
      "Item similarity for items in same leaf computed\n",
      "5\n",
      "Errors\n",
      "RMSE : 0.8425\n",
      "MAE : 0.6371\n",
      "Item similarity for items in same leaf computed\n",
      "8\n",
      "Errors\n",
      "RMSE : 0.7909\n",
      "MAE : 0.5811\n",
      "Item similarity for items in same leaf computed\n",
      "10\n",
      "Errors\n",
      "RMSE : 0.7736\n",
      "MAE : 0.5622\n",
      "Item similarity for items in same leaf computed\n",
      "15\n",
      "Errors\n",
      "RMSE : 0.7629\n",
      "MAE : 0.5511\n",
      "Item similarity for items in same leaf computed\n",
      "20\n",
      "Errors\n",
      "RMSE : 0.7618\n",
      "MAE : 0.5502\n",
      "Item similarity for items in same leaf computed\n",
      "25\n",
      "Errors\n",
      "RMSE : 0.7616\n",
      "MAE : 0.5501\n"
     ]
    }
   ],
   "source": [
    "ks = [2, 3, 5, 8, 10, 15, 20, 25]\n",
    "trmse_list = []\n",
    "tmae_list = []\n",
    "for k in ks:\n",
    "    preds = []\n",
    "    real = []\n",
    "    item_similarity_ann = itemsimilar_ann(tree, full_mat, k=k, items = item_similarity)\n",
    "    print('Item similarity for items in same leaf computed')\n",
    "    for row in nmat:\n",
    "        user_id, isbn, rating = row[0], row[1], row[2]\n",
    "        preds.append(predict(user_id.astype(int), isbn.astype(int), full_mat, item_similarity_ann, amean, umean, imean, k=20))\n",
    "        real.append(rating)\n",
    "\n",
    "    err1 = rmse(np.array(preds), np.array(real))\n",
    "    err2 = mae(np.array(preds), np.array(real))\n",
    "    trmse_list.append(err1)\n",
    "    tmae_list.append(err2)\n",
    "    \n",
    "    print(k)\n",
    "    print('Errors')\n",
    "    print('RMSE : %.4f' % err1)\n",
    "    print('MAE : %.4f' % err2)"
   ]
  },
  {
   "cell_type": "code",
   "execution_count": 426,
   "metadata": {},
   "outputs": [
    {
     "data": {
      "text/html": [
       "<div>\n",
       "<style>\n",
       "    .dataframe thead tr:only-child th {\n",
       "        text-align: right;\n",
       "    }\n",
       "\n",
       "    .dataframe thead th {\n",
       "        text-align: left;\n",
       "    }\n",
       "\n",
       "    .dataframe tbody tr th {\n",
       "        vertical-align: top;\n",
       "    }\n",
       "</style>\n",
       "<table border=\"1\" class=\"dataframe\">\n",
       "  <thead>\n",
       "    <tr style=\"text-align: right;\">\n",
       "      <th></th>\n",
       "      <th>MAE</th>\n",
       "      <th>RMSE</th>\n",
       "      <th>k</th>\n",
       "    </tr>\n",
       "  </thead>\n",
       "  <tbody>\n",
       "    <tr>\n",
       "      <th>0</th>\n",
       "      <td>0.715068</td>\n",
       "      <td>0.908105</td>\n",
       "      <td>2</td>\n",
       "    </tr>\n",
       "    <tr>\n",
       "      <th>1</th>\n",
       "      <td>0.689320</td>\n",
       "      <td>0.887227</td>\n",
       "      <td>3</td>\n",
       "    </tr>\n",
       "    <tr>\n",
       "      <th>2</th>\n",
       "      <td>0.637110</td>\n",
       "      <td>0.842530</td>\n",
       "      <td>5</td>\n",
       "    </tr>\n",
       "    <tr>\n",
       "      <th>3</th>\n",
       "      <td>0.581148</td>\n",
       "      <td>0.790932</td>\n",
       "      <td>8</td>\n",
       "    </tr>\n",
       "    <tr>\n",
       "      <th>4</th>\n",
       "      <td>0.562190</td>\n",
       "      <td>0.773646</td>\n",
       "      <td>10</td>\n",
       "    </tr>\n",
       "    <tr>\n",
       "      <th>5</th>\n",
       "      <td>0.551109</td>\n",
       "      <td>0.762926</td>\n",
       "      <td>15</td>\n",
       "    </tr>\n",
       "    <tr>\n",
       "      <th>6</th>\n",
       "      <td>0.550237</td>\n",
       "      <td>0.761786</td>\n",
       "      <td>20</td>\n",
       "    </tr>\n",
       "    <tr>\n",
       "      <th>7</th>\n",
       "      <td>0.550105</td>\n",
       "      <td>0.761574</td>\n",
       "      <td>25</td>\n",
       "    </tr>\n",
       "  </tbody>\n",
       "</table>\n",
       "</div>"
      ],
      "text/plain": [
       "        MAE      RMSE   k\n",
       "0  0.715068  0.908105   2\n",
       "1  0.689320  0.887227   3\n",
       "2  0.637110  0.842530   5\n",
       "3  0.581148  0.790932   8\n",
       "4  0.562190  0.773646  10\n",
       "5  0.551109  0.762926  15\n",
       "6  0.550237  0.761786  20\n",
       "7  0.550105  0.761574  25"
      ]
     },
     "execution_count": 426,
     "metadata": {},
     "output_type": "execute_result"
    }
   ],
   "source": [
    "df_results = pd.DataFrame({'k':ks, 'MAE':tmae_list, 'RMSE':trmse_list})\n",
    "df_results"
   ]
  },
  {
   "cell_type": "code",
   "execution_count": 440,
   "metadata": {},
   "outputs": [
    {
     "data": {
      "text/plain": [
       "<matplotlib.axes._subplots.AxesSubplot at 0x1e7a4c05978>"
      ]
     },
     "execution_count": 440,
     "metadata": {},
     "output_type": "execute_result"
    },
    {
     "data": {
      "image/png": "[encoded data removed]",
      "text/plain": [
       "<matplotlib.figure.Figure at 0x1e7a4c12cc0>"
      ]
     },
     "metadata": {},
     "output_type": "display_data"
    }
   ],
   "source": [
    "plot1 = results_df1.plot(x='Nearest Neighbors', y=['MAE', 'RMSE'], ylim=(0,1), title = 'Item-Item CF: Metrics over different K')\n",
    "df_results.plot(x='k', y=['MAE', 'RMSE'], ylim=(0,1), title = 'Tree Based ANN: Metrics over different K')"
   ]
  },
  {
   "cell_type": "code",
   "execution_count": 448,
   "metadata": {},
   "outputs": [
    {
     "name": "stdout",
     "output_type": "stream",
     "text": [
      "0.9692893706615664\n"
     ]
    }
   ],
   "source": [
    "# Code to compare timings\n",
    "n=tree.shape[1]\n",
    "check_mat = np.zeros(item_similarity.shape)\n",
    "\n",
    "for k in range(n):\n",
    "    indices = np.argwhere(tree[:, k]==1).flatten()\n",
    "    for i in indices:\n",
    "        for j in indices:\n",
    "            check_mat[i][j] = 1\n",
    "\n",
    "print(len(check_mat[check_mat==1].flatten())/(4959*4959))"
   ]
  }
 ],
 "metadata": {
  "kernelspec": {
   "display_name": "Python 3",
   "language": "python",
   "name": "python3"
  },
  "language_info": {
   "codemirror_mode": {
    "name": "ipython",
    "version": 3
   },
   "file_extension": ".py",
   "mimetype": "text/x-python",
   "name": "python",
   "nbconvert_exporter": "python",
   "pygments_lexer": "ipython3",
   "version": "3.6.2"
  }
 },
 "nbformat": 4,
 "nbformat_minor": 1
}
