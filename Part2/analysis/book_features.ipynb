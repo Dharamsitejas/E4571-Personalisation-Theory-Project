{
 "cells": [
  {
   "cell_type": "code",
   "execution_count": 1,
   "metadata": {
    "collapsed": true
   },
   "outputs": [],
   "source": [
    "import pandas as pd\n",
    "import matplotlib.pyplot as plt\n",
    "import re\n",
    "from scipy.sparse import csr_matrix, coo_matrix\n",
    "import numpy as np\n",
    "\n",
    "%matplotlib inline"
   ]
  },
  {
   "cell_type": "code",
   "execution_count": 2,
   "metadata": {
    "collapsed": false
   },
   "outputs": [],
   "source": [
    "import pickle\n",
    "bookinfo = pd.read_pickle(\"ibsn_features_full.pickle\")"
   ]
  },
  {
   "cell_type": "code",
   "execution_count": 3,
   "metadata": {
    "collapsed": false
   },
   "outputs": [],
   "source": [
    "\n",
    "\n",
    "import sys\n",
    "\n",
    "\n",
    "def is_isbn10_valid(isbn):\n",
    "    \"\"\"\n",
    "    Check ISBN-10 is valid.\n",
    "    Code Implementaion from:\n",
    "    http://en.wikipedia.org/wiki/International_Standard_Book_Number\n",
    "    \"\"\"\n",
    "    if len(isbn) != 10:\n",
    "        return False\n",
    "    if ((not isbn[0:9].isdigit()) or\n",
    "            ((isbn[-1] != 'X') and (not isbn[-1].isdigit()))):\n",
    "        return False\n",
    "    result = sum((10 - i) * (int(x) if x != 'X' else 10)\n",
    "                 for i, x in enumerate(isbn))\n",
    "    return result % 11 == 0\n",
    "\n",
    "\n",
    "def is_isbn13_valid(isbn):\n",
    "    \"\"\"\n",
    "    Check ISBN-13 is valid.\n",
    "    Code Implemetation from:\n",
    "    http://en.wikipedia.org/wiki/International_Standard_Book_Number\n",
    "    \"\"\"\n",
    "    if len(isbn) != 13 or isbn.isdigit() is not True:\n",
    "        return False\n",
    "    check = (10 - (sum(int(digit) * (3 if idx % 2 else 1)\n",
    "                       for idx, digit in enumerate(isbn[:12])) % 10)) % 10\n",
    "    return check == int(isbn[-1])\n",
    "\n",
    "\n",
    "def isbn13_to_isbn10(isbn13_str):\n",
    "    \"\"\"\n",
    "    Convert ISBN-13 to ISBN-10.\n",
    "    \"\"\"\n",
    "    num = 11 - sum((10 - i) * (int(x))\n",
    "                   for i, x in enumerate(isbn13_str[3:12])) % 11\n",
    "    if num == 10:\n",
    "        check_digit = 'X'\n",
    "    elif num == 11:\n",
    "        check_digit = 0\n",
    "    else:\n",
    "        check_digit = num\n",
    "    return isbn13_str[3:12] + str(check_digit)\n",
    "\n",
    "\n",
    "def isbn10_to_isbn13(isbn10_str):\n",
    "    \"\"\"\n",
    "    Convert ISBN-10 to ISBN-13.\n",
    "    \"\"\"\n",
    "    check_digit = (\n",
    "        10 - (sum(int(digit) * (3 if idx % 2 else 1)\n",
    "                  for idx, digit in enumerate('978' + isbn10_str[:9])\n",
    "                  ) % 10)) % 10\n",
    "    return '978' + isbn10_str[:9] + str(check_digit)\n",
    "\n",
    "\n",
    "def isbn_converter(isbn):\n",
    "    \"\"\"\n",
    "    Convert isbn format to another format.\n",
    "    \"\"\"\n",
    "    if is_isbn10_valid(isbn):\n",
    "        result = isbn10_to_isbn13(isbn)\n",
    "    elif is_isbn13_valid(isbn):\n",
    "        result = isbn13_to_isbn10(isbn)\n",
    "    else:\n",
    "        return None\n",
    "    return result"
   ]
  },
  {
   "cell_type": "code",
   "execution_count": 4,
   "metadata": {
    "collapsed": true
   },
   "outputs": [],
   "source": [
    "import re\n",
    "def striphtml(data):\n",
    "    p = re.compile('<.*?>')\n",
    "    try:\n",
    "        return p.sub('', data)\n",
    "    except:\n",
    "        return None"
   ]
  },
  {
   "cell_type": "markdown",
   "metadata": {},
   "source": [
    "Download google's word2vec model before running next line"
   ]
  },
  {
   "cell_type": "code",
   "execution_count": 5,
   "metadata": {
    "collapsed": false
   },
   "outputs": [],
   "source": [
    "import gensim\n",
    "model = gensim.models.KeyedVectors.load_word2vec_format('GoogleNews-vectors-negative300.bin', binary=True)  "
   ]
  },
  {
   "cell_type": "code",
   "execution_count": 6,
   "metadata": {
    "collapsed": false
   },
   "outputs": [],
   "source": [
    "genres = ['Science','Satire','Drama','Action','Romance','Mystery','Horror','Travel','Children','Religion','History','Biography','Autobiography','Fantasy']"
   ]
  },
  {
   "cell_type": "code",
   "execution_count": 7,
   "metadata": {
    "collapsed": false
   },
   "outputs": [],
   "source": [
    "bookinfo['description'] = bookinfo['description'].apply(lambda x: striphtml(x))\n",
    "bookinfo['description'] = bookinfo['description'].str.strip()\n",
    "bookinfo['description'] = bookinfo['description'].str.replace('“','').str.replace(',','').str.replace('\"','')"
   ]
  },
  {
   "cell_type": "code",
   "execution_count": 8,
   "metadata": {
    "collapsed": false
   },
   "outputs": [],
   "source": [
    "from nltk.corpus import stopwords\n",
    "filtereddesc = []\n",
    "stops = set(stopwords.words(\"english\"))\n",
    "for desc in bookinfo['description']:\n",
    "    try:\n",
    "        words = desc.split()\n",
    "        filtereddesc.append([word for word in words if word not in stops])\n",
    "    except:\n",
    "        filtereddesc.append(None)"
   ]
  },
  {
   "cell_type": "code",
   "execution_count": 9,
   "metadata": {
    "collapsed": false
   },
   "outputs": [],
   "source": [
    "bookinfo['filtered_description'] = filtereddesc\n",
    "wordlist = []\n",
    "for descs in bookinfo['filtered_description']:\n",
    "    sentence = []\n",
    "    if descs is not None:\n",
    "        for word in descs:\n",
    "            sentence.append(word)\n",
    "    wordlist.append(sentence)"
   ]
  },
  {
   "cell_type": "code",
   "execution_count": 10,
   "metadata": {
    "collapsed": true
   },
   "outputs": [],
   "source": [
    "scores = []\n",
    "for desc in bookinfo['filtered_description']:\n",
    "    if desc is not None:\n",
    "        gscore = []\n",
    "        for genre in genres:\n",
    "            simsum = 0\n",
    "            n = 0\n",
    "            for word in desc:\n",
    "                try:\n",
    "                    simsum = simsum + model.similarity(word,genre)\n",
    "                    n = n + 1\n",
    "                except:\n",
    "                    continue\n",
    "            if n!=0:\n",
    "                gscore.append((simsum)/n)\n",
    "            else:\n",
    "                gscore.append(0)\n",
    "        scores.append(gscore)\n",
    "    else:\n",
    "        scores.append(None)"
   ]
  },
  {
   "cell_type": "code",
   "execution_count": 11,
   "metadata": {
    "collapsed": true
   },
   "outputs": [],
   "source": [
    "editedscores = []\n",
    "for score in scores:\n",
    "    if score is not None:\n",
    "        editedscores.append(score)\n",
    "    else:\n",
    "        editedscores.append([0] * 14)"
   ]
  },
  {
   "cell_type": "code",
   "execution_count": 12,
   "metadata": {
    "collapsed": true
   },
   "outputs": [],
   "source": [
    "scoredf = pd.DataFrame(editedscores,columns = [genre + '_Score' for genre in genres])"
   ]
  },
  {
   "cell_type": "code",
   "execution_count": 13,
   "metadata": {
    "collapsed": false
   },
   "outputs": [],
   "source": [
    "scoredf['isbn'] = bookinfo.isbn\n",
    "scoredf['title'] = bookinfo.title"
   ]
  },
  {
   "cell_type": "code",
   "execution_count": 14,
   "metadata": {
    "collapsed": false
   },
   "outputs": [
    {
     "data": {
      "text/plain": [
       "(4959, 16)"
      ]
     },
     "execution_count": 14,
     "metadata": {},
     "output_type": "execute_result"
    }
   ],
   "source": [
    "scoredf.shape"
   ]
  },
  {
   "cell_type": "code",
   "execution_count": 15,
   "metadata": {
    "collapsed": true
   },
   "outputs": [],
   "source": [
    "scoredf.to_csv('book_features.csv')"
   ]
  }
 ],
 "metadata": {
  "anaconda-cloud": {},
  "kernelspec": {
   "display_name": "Python 3",
   "language": "python",
   "name": "python3"
  },
  "language_info": {
   "codemirror_mode": {
    "name": "ipython",
    "version": 3
   },
   "file_extension": ".py",
   "mimetype": "text/x-python",
   "name": "python",
   "nbconvert_exporter": "python",
   "pygments_lexer": "ipython3",
   "version": "3.4.4"
  }
 },
 "nbformat": 4,
 "nbformat_minor": 0
}
