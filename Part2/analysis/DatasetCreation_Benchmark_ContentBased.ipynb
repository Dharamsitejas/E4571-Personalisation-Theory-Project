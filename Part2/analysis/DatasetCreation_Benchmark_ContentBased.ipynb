{
 "cells": [
  {
   "cell_type": "code",
   "execution_count": 218,
   "metadata": {
    "collapsed": false
   },
   "outputs": [],
   "source": [
    "import time\n",
    "import pandas as pd\n",
    "import numpy as np\n",
    "from sklearn.model_selection import train_test_split\n",
    "from scipy.spatial.distance import cosine\n",
    "from sklearn.metrics.pairwise import cosine_similarity, pairwise_distances\n",
    "from sklearn.model_selection import KFold\n",
    "from sklearn.metrics import mean_squared_error, mean_absolute_error\n",
    "\n",
    "%matplotlib inline"
   ]
  },
  {
   "cell_type": "markdown",
   "metadata": {},
   "source": [
    "### Loading the Book Ratings Dataset"
   ]
  },
  {
   "cell_type": "code",
   "execution_count": 219,
   "metadata": {
    "collapsed": true
   },
   "outputs": [],
   "source": [
    "ratings = pd.read_csv('../raw-data/BX-Book-Ratings.csv', encoding='iso-8859-1', sep = ';')\n",
    "ratings.columns = ['user_id', 'isbn', 'book_rating']"
   ]
  },
  {
   "cell_type": "code",
   "execution_count": 220,
   "metadata": {
    "collapsed": false
   },
   "outputs": [
    {
     "name": "stdout",
     "output_type": "stream",
     "text": [
      "user_id         int64\n",
      "isbn           object\n",
      "book_rating     int64\n",
      "dtype: object\n",
      "\n",
      "   user_id        isbn  book_rating\n",
      "0   276725  034545104X            0\n",
      "1   276726  0155061224            5\n",
      "2   276727  0446520802            0\n",
      "3   276729  052165615X            3\n",
      "4   276729  0521795028            6\n",
      "\n",
      "Data Points : 1149780\n"
     ]
    }
   ],
   "source": [
    "print(ratings.dtypes)\n",
    "print()\n",
    "print(ratings.head())\n",
    "print()\n",
    "print(\"Data Points :\", ratings.shape[0])"
   ]
  },
  {
   "cell_type": "markdown",
   "metadata": {},
   "source": [
    "### Loading the Books Dataset"
   ]
  },
  {
   "cell_type": "code",
   "execution_count": 221,
   "metadata": {
    "collapsed": true
   },
   "outputs": [],
   "source": [
    "books = pd.read_csv('../raw-data/BX-Books.csv', sep=';', encoding = 'iso-8859-1', dtype =str)\n",
    "del books['Image-URL-L']\n",
    "del books['Image-URL-M']\n",
    "del books['Image-URL-S']\n",
    "del books['Book-Author']\n",
    "del books['Publisher']"
   ]
  },
  {
   "cell_type": "markdown",
   "metadata": {},
   "source": [
    "Some Books don't have unique ISBN, creating a 1:1 maping between books-title and ISBN"
   ]
  },
  {
   "cell_type": "code",
   "execution_count": 222,
   "metadata": {
    "collapsed": false
   },
   "outputs": [
    {
     "name": "stdout",
     "output_type": "stream",
     "text": [
      "Number of Books == Number of ISBN ?  False\n",
      "Number of Books == Number of ISBN ?  True\n"
     ]
    }
   ],
   "source": [
    "print('Number of Books == Number of ISBN ? ', books[\"Book-Title\"].nunique() == books[\"ISBN\"].nunique())\n",
    "book_dict = books[[\"Book-Title\",\"ISBN\"]].set_index(\"Book-Title\").to_dict()[\"ISBN\"]\n",
    "books['new_isbn'] = books[\"Book-Title\"].apply(lambda x: book_dict[x])\n",
    "print('Number of Books == Number of ISBN ? ', books[\"Book-Title\"].nunique() == books[\"new_isbn\"].nunique())"
   ]
  },
  {
   "cell_type": "code",
   "execution_count": 223,
   "metadata": {
    "collapsed": false
   },
   "outputs": [],
   "source": [
    "books['isbn'] = books['new_isbn']\n",
    "\n",
    "del books['ISBN']\n",
    "del books['new_isbn']"
   ]
  },
  {
   "cell_type": "code",
   "execution_count": 224,
   "metadata": {
    "collapsed": false
   },
   "outputs": [
    {
     "data": {
      "text/plain": [
       "(271379, 3)"
      ]
     },
     "execution_count": 224,
     "metadata": {},
     "output_type": "execute_result"
    }
   ],
   "source": [
    "books.shape"
   ]
  },
  {
   "cell_type": "markdown",
   "metadata": {},
   "source": [
    "### Data Preparation/ Cleaning <br>\n",
    "\n",
    "Removing ratings equal to zero, since Book Crossing Dataset has rating scale from 1-10. Taking Inner Join with books dataframe to maintain books whose details exist."
   ]
  },
  {
   "cell_type": "code",
   "execution_count": 225,
   "metadata": {
    "collapsed": false
   },
   "outputs": [
    {
     "name": "stdout",
     "output_type": "stream",
     "text": [
      "(293111, 5)\n"
     ]
    }
   ],
   "source": [
    "newdf = ratings[ratings.book_rating>0]\n",
    "joined = books.merge(newdf, on ='isbn')\n",
    "print(joined.shape)"
   ]
  },
  {
   "cell_type": "code",
   "execution_count": 226,
   "metadata": {
    "collapsed": false
   },
   "outputs": [
    {
     "name": "stdout",
     "output_type": "stream",
     "text": [
      "52097 129168\n"
     ]
    }
   ],
   "source": [
    "rows = joined.user_id.unique()\n",
    "cols = joined['Book-Title'].unique()\n",
    "print(joined.user_id.nunique(), joined.isbn.nunique())"
   ]
  },
  {
   "cell_type": "code",
   "execution_count": 227,
   "metadata": {
    "collapsed": false
   },
   "outputs": [
    {
     "name": "stdout",
     "output_type": "stream",
     "text": [
      "Sparsity : 99.9999564423474\n"
     ]
    }
   ],
   "source": [
    "print(\"Sparsity :\", 100 - (joined.shape[0]/(joined.user_id.nunique()* joined.isbn.nunique())))"
   ]
  },
  {
   "cell_type": "code",
   "execution_count": 228,
   "metadata": {
    "collapsed": true
   },
   "outputs": [],
   "source": [
    "data1 = pd.read_csv('../clean-data/ratings_Books.csv', )"
   ]
  },
  {
   "cell_type": "code",
   "execution_count": 229,
   "metadata": {
    "collapsed": false
   },
   "outputs": [],
   "source": [
    "data1.columns = ['user_id', 'isbn', 'book_rating', 'timestamp']"
   ]
  },
  {
   "cell_type": "code",
   "execution_count": 230,
   "metadata": {
    "collapsed": false
   },
   "outputs": [
    {
     "name": "stdout",
     "output_type": "stream",
     "text": [
      "8026324 2330066\n",
      "Sparsity : 99.99999879652889\n"
     ]
    }
   ],
   "source": [
    "rows = data1.user_id.unique()\n",
    "cols = data1.isbn.unique()\n",
    "print(data1.user_id.nunique(), data1.isbn.nunique())\n",
    "print(\"Sparsity :\", 100 - (data1.shape[0]/(data1.user_id.nunique()* data1.isbn.nunique())))"
   ]
  },
  {
   "cell_type": "code",
   "execution_count": 232,
   "metadata": {
    "collapsed": true
   },
   "outputs": [],
   "source": [
    "data1 = data1[['user_id', 'isbn', 'book_rating']]"
   ]
  },
  {
   "cell_type": "code",
   "execution_count": 233,
   "metadata": {
    "collapsed": false
   },
   "outputs": [
    {
     "data": {
      "text/plain": [
       "(22507154, 3)"
      ]
     },
     "execution_count": 233,
     "metadata": {},
     "output_type": "execute_result"
    }
   ],
   "source": [
    "data1.shape"
   ]
  },
  {
   "cell_type": "code",
   "execution_count": 234,
   "metadata": {
    "collapsed": false
   },
   "outputs": [],
   "source": [
    "data2 = joined[['user_id', 'isbn', 'book_rating']]"
   ]
  },
  {
   "cell_type": "code",
   "execution_count": 235,
   "metadata": {
    "collapsed": false
   },
   "outputs": [
    {
     "name": "stderr",
     "output_type": "stream",
     "text": [
      "/Library/Frameworks/Python.framework/Versions/3.4/lib/python3.4/site-packages/pandas/core/generic.py:3643: SettingWithCopyWarning: \n",
      "A value is trying to be set on a copy of a slice from a DataFrame.\n",
      "Try using .loc[row_indexer,col_indexer] = value instead\n",
      "\n",
      "See the caveats in the documentation: http://pandas.pydata.org/pandas-docs/stable/indexing.html#indexing-view-versus-copy\n",
      "  self[name] = value\n"
     ]
    }
   ],
   "source": [
    "data2.book_rating = data2.book_rating / 2.0"
   ]
  },
  {
   "cell_type": "code",
   "execution_count": 236,
   "metadata": {
    "collapsed": false
   },
   "outputs": [
    {
     "data": {
      "text/plain": [
       "(293111, 3)"
      ]
     },
     "execution_count": 236,
     "metadata": {},
     "output_type": "execute_result"
    }
   ],
   "source": [
    "data2.shape"
   ]
  },
  {
   "cell_type": "code",
   "execution_count": 237,
   "metadata": {
    "collapsed": false
   },
   "outputs": [],
   "source": [
    "data2 = data2.drop_duplicates()"
   ]
  },
  {
   "cell_type": "code",
   "execution_count": 238,
   "metadata": {
    "collapsed": false
   },
   "outputs": [
    {
     "data": {
      "text/plain": [
       "(261676, 3)"
      ]
     },
     "execution_count": 238,
     "metadata": {},
     "output_type": "execute_result"
    }
   ],
   "source": [
    "data2.shape"
   ]
  },
  {
   "cell_type": "code",
   "execution_count": 239,
   "metadata": {
    "collapsed": true
   },
   "outputs": [],
   "source": [
    "data3 = pd.concat((data1, data2))"
   ]
  },
  {
   "cell_type": "code",
   "execution_count": 240,
   "metadata": {
    "collapsed": false
   },
   "outputs": [
    {
     "data": {
      "text/plain": [
       "(22768830, 3)"
      ]
     },
     "execution_count": 240,
     "metadata": {},
     "output_type": "execute_result"
    }
   ],
   "source": [
    "data3.shape"
   ]
  },
  {
   "cell_type": "code",
   "execution_count": 241,
   "metadata": {
    "collapsed": false
   },
   "outputs": [
    {
     "name": "stdout",
     "output_type": "stream",
     "text": [
      "12053\n",
      "4959\n"
     ]
    }
   ],
   "source": [
    "temp = data3[data3['isbn'].isin(data3['isbn'].value_counts()[data3['isbn'].value_counts()>50].index)]\n",
    "# print(len(temp.user_id.unique()))\n",
    "# print(len(temp.isbn.unique()))\n",
    "temp1 = temp[temp['user_id'].isin(temp['user_id'].value_counts()[temp['user_id'].value_counts()>49].index)]\n",
    "# print(len(temp1.user_id.unique()))\n",
    "# print(len(temp1.isbn.unique()))\n",
    "temp2 = temp1[temp1['isbn'].isin(temp1['isbn'].value_counts()[temp1['isbn'].value_counts()>53].index)]\n",
    "print(len(temp2.user_id.unique()))\n",
    "print(len(temp2.isbn.unique()))"
   ]
  },
  {
   "cell_type": "code",
   "execution_count": 242,
   "metadata": {
    "collapsed": false
   },
   "outputs": [
    {
     "name": "stdout",
     "output_type": "stream",
     "text": [
      "39.0565834232\n",
      "94.9282113329\n"
     ]
    }
   ],
   "source": [
    "print(temp2.groupby(['user_id']).count()['book_rating'].mean())\n",
    "print(temp2.groupby(['isbn']).count()['book_rating'].mean())"
   ]
  },
  {
   "cell_type": "markdown",
   "metadata": {},
   "source": [
    "# Algo 1: Memory Based Algorithm : Item-Item CF Algorithm"
   ]
  },
  {
   "cell_type": "markdown",
   "metadata": {},
   "source": [
    "Since average number of books rated by an user was around 3.3, we decided to use item-item CF as our memory based algorithm. Our implementation of item-item algorithm is below:"
   ]
  },
  {
   "cell_type": "code",
   "execution_count": 243,
   "metadata": {
    "collapsed": false
   },
   "outputs": [
    {
     "name": "stdout",
     "output_type": "stream",
     "text": [
      "12053 4959\n"
     ]
    }
   ],
   "source": [
    "data = temp2\n",
    "rows = data.user_id.unique()\n",
    "cols = data.isbn.unique()\n",
    "print(data.user_id.nunique(), data.isbn.nunique())\n",
    "data = data[['user_id', 'isbn', 'book_rating']]\n",
    "data.to_csv('Combine.csv')"
   ]
  },
  {
   "cell_type": "code",
   "execution_count": 244,
   "metadata": {
    "collapsed": false
   },
   "outputs": [
    {
     "name": "stdout",
     "output_type": "stream",
     "text": [
      "Sparsity : 99.21241009430905\n"
     ]
    }
   ],
   "source": [
    "print(\"Sparsity :\", 100 - (data.shape[0]/(len(cols)*len(rows)) * 100))"
   ]
  },
  {
   "cell_type": "code",
   "execution_count": 245,
   "metadata": {
    "collapsed": false
   },
   "outputs": [],
   "source": [
    "idict  = dict(zip(cols, range(len(cols))))\n",
    "udict = dict(zip(rows, range(len(rows))))\n",
    "\n",
    "data.user_id = [\n",
    "    udict[i] for i in data.user_id\n",
    "]\n",
    "data['isbn'] = [\n",
    "    idict[i] for i in data['isbn']\n",
    "]\n",
    "\n",
    "nmat = data.as_matrix()\n"
   ]
  },
  {
   "cell_type": "code",
   "execution_count": 246,
   "metadata": {
    "collapsed": false
   },
   "outputs": [
    {
     "data": {
      "text/plain": [
       "(470749, 3)"
      ]
     },
     "execution_count": 246,
     "metadata": {},
     "output_type": "execute_result"
    }
   ],
   "source": [
    "nmat = nmat.astype(int)\n",
    "nmat.shape"
   ]
  },
  {
   "cell_type": "markdown",
   "metadata": {},
   "source": [
    "#### Function for Evaluation Metrics: MAE and RMSE"
   ]
  },
  {
   "cell_type": "code",
   "execution_count": 247,
   "metadata": {
    "collapsed": false
   },
   "outputs": [],
   "source": [
    "def rmse(ypred, ytrue):\n",
    "    ypred = ypred[ytrue.nonzero()].flatten()\n",
    "    ytrue = ytrue[ytrue.nonzero()].flatten()\n",
    "    return np.sqrt(mean_squared_error(ypred, ytrue))\n",
    "\n",
    "def mae(ypred, ytrue):\n",
    "    ypred = ypred[ytrue.nonzero()].flatten()\n",
    "    ytrue = ytrue[ytrue.nonzero()].flatten()\n",
    "    return mean_absolute_error(ypred, ytrue)"
   ]
  },
  {
   "cell_type": "markdown",
   "metadata": {},
   "source": [
    "Our Naive Baseline for any user i, item j prediction is to assign it with (sum of mean rating given by user i (umean[i]), mean rating received by item j (imean[j]) substracting average rating over entire dataset. (amean)) <br><br>\n",
    "-------------- Naive Baseline ---------------\n"
   ]
  },
  {
   "cell_type": "code",
   "execution_count": 248,
   "metadata": {
    "collapsed": false
   },
   "outputs": [],
   "source": [
    "def predict_naive(user, item):\n",
    "    prediction = imean1[item] + umean1[user] - amean1\n",
    "    return prediction"
   ]
  },
  {
   "cell_type": "code",
   "execution_count": 249,
   "metadata": {
    "collapsed": false
   },
   "outputs": [
    {
     "name": "stderr",
     "output_type": "stream",
     "text": [
      "/Library/Frameworks/Python.framework/Versions/3.4/lib/python3.4/site-packages/ipykernel/__main__.py:10: RuntimeWarning: invalid value encountered in true_divide\n"
     ]
    },
    {
     "name": "stdout",
     "output_type": "stream",
     "text": [
      "Naive---\n",
      "rmse 0.8252\n",
      "mae 0.6209\n",
      "\n"
     ]
    }
   ],
   "source": [
    "x1, x2 = train_test_split(nmat, test_size = 0.2, random_state =42)\n",
    "naive = np.zeros((len(rows),len(cols)))\n",
    "for row in x1:\n",
    "    naive[row[0], row[1]] = row[2]\n",
    "\n",
    "predictions = []\n",
    "targets = []\n",
    "\n",
    "amean1 = np.mean(naive[naive!=0])\n",
    "umean1 = sum(naive.T) / sum((naive!=0).T)\n",
    "imean1 = sum(naive) / sum((naive!=0))\n",
    "\n",
    "umean1 = np.where(np.isnan(umean1), amean1, umean1)\n",
    "imean1 = np.where(np.isnan(imean1), amean1, imean1)\n",
    "\n",
    "\n",
    "print('Naive---')\n",
    "for row in x2:\n",
    "    user, item, actual = row[0], row[1], row[2]\n",
    "    predictions.append(predict_naive(user, item))\n",
    "    targets.append(actual)\n",
    "\n",
    "print('rmse %.4f' % rmse(np.array(predictions), np.array(targets)))\n",
    "print('mae %.4f' % mae(np.array(predictions), np.array(targets)))\n",
    "print()"
   ]
  },
  {
   "cell_type": "markdown",
   "metadata": {},
   "source": [
    "Following are the functions to calculate pairwise similarity between two items : Cosine, Adjusted Cosine, Euclidean, Pearson Corelation."
   ]
  },
  {
   "cell_type": "code",
   "execution_count": 250,
   "metadata": {
    "collapsed": true
   },
   "outputs": [],
   "source": [
    "def cos(mat, a, b):\n",
    "    if a == b:\n",
    "        return 1\n",
    "    aval = mat.T[a].nonzero()\n",
    "    bval = mat.T[b].nonzero()\n",
    "    corated = np.intersect1d(aval, bval)\n",
    "    if len(corated) == 0:\n",
    "        return 0\n",
    "    avec = np.take(mat.T[a], corated)\n",
    "    bvec = np.take(mat.T[b], corated)\n",
    "    val = 1 - cosine(avec, bvec)\n",
    "    if np.isnan(val):\n",
    "        return 0\n",
    "    return val"
   ]
  },
  {
   "cell_type": "code",
   "execution_count": 251,
   "metadata": {
    "collapsed": false
   },
   "outputs": [],
   "source": [
    "def adjcos(mat, a, b, umean):\n",
    "    if a == b:\n",
    "        return 1\n",
    "    aval = mat.T[a].nonzero()\n",
    "    bval = mat.T[b].nonzero()\n",
    "    corated = np.intersect1d(aval, bval)\n",
    "    if len(corated) == 0:\n",
    "        return 0\n",
    "    avec = np.take(mat.T[a], corated)\n",
    "    bvec = np.take(mat.T[b], corated)\n",
    "    avec1 = avec - umean[corated]\n",
    "    bvec1 = bvec - umean[corated]\n",
    "    val = 1 - cosine(avec1, bvec1)\n",
    "    if np.isnan(val):\n",
    "        return 0\n",
    "    return val"
   ]
  },
  {
   "cell_type": "code",
   "execution_count": 252,
   "metadata": {
    "collapsed": false
   },
   "outputs": [],
   "source": [
    "def pr(mat, a, b, imean):\n",
    "    if a == b:\n",
    "        return 1\n",
    "    aval = mat.T[a].nonzero()\n",
    "    bval = mat.T[b].nonzero()\n",
    "    corated = np.intersect1d(aval, bval)\n",
    "    if len(corated) < 2:\n",
    "        return 0\n",
    "    avec = np.take(mat.T[a], corated)\n",
    "    bvec = np.take(mat.T[b], corated)\n",
    "    avec1 = avec - imean[a]\n",
    "    bvec1 = bvec - imean[b]\n",
    "    val = 1 - cosine(avec1, bvec1)\n",
    "    if np.isnan(val):\n",
    "        return 0\n",
    "    return val"
   ]
  },
  {
   "cell_type": "code",
   "execution_count": 253,
   "metadata": {
    "collapsed": true
   },
   "outputs": [],
   "source": [
    "def euc(mat, a, b):\n",
    "    if a == b:\n",
    "        return 1\n",
    "    aval = mat.T[a].nonzero()\n",
    "    bval = mat.T[b].nonzero()\n",
    "    corated = np.intersect1d(aval, bval)\n",
    "    if len(corated) == 0:\n",
    "        return 0\n",
    "    avec = np.take(mat.T[a], corated)\n",
    "    bvec = np.take(mat.T[b], corated)\n",
    "    dist = np.sqrt(np.sum(a-b)**2)\n",
    "    val = 1/(1+dist)\n",
    "    if np.isnan(val):\n",
    "        return 0\n",
    "    return val"
   ]
  },
  {
   "cell_type": "markdown",
   "metadata": {},
   "source": [
    "Function item similar returns matrix of pairwise similarity between all items based on the option provided. Also return amean (global mean rating), umean (average rating of each user), imean (Average rating of each item)"
   ]
  },
  {
   "cell_type": "code",
   "execution_count": 254,
   "metadata": {
    "collapsed": false
   },
   "outputs": [],
   "source": [
    "def itemsimilar(mat, option):\n",
    "    amean = np.mean(mat[mat!=0])\n",
    "    umean = sum(mat.T) / sum((mat!=0).T)\n",
    "    imean = sum(mat) / sum((mat!=0))\n",
    "    \n",
    "    umean = np.where(np.isnan(umean), amean, umean)\n",
    "    imean = np.where(np.isnan(imean), amean, imean)\n",
    "    \n",
    "    n = mat.shape[1]\n",
    "    sim_mat = np.zeros((n, n))\n",
    "    \n",
    "    if option == 'pr':\n",
    "        #print(\"PR\")\n",
    "        for i in range(n):\n",
    "            for j in range(n):\n",
    "                sim_mat[i][j] = pr(mat, i, j, imean)\n",
    "        sim_mat = (sim_mat + 1)/2\n",
    "    elif option == 'cos':\n",
    "        #print(\"COS\")\n",
    "        print(n)\n",
    "        for i in range(n):\n",
    "            if(i%100 == 0):\n",
    "                print(i)\n",
    "            for j in range(n):\n",
    "                sim_mat[i][j] = cos(mat, i, j)\n",
    "    elif option == 'adjcos':\n",
    "        #print(\"ADJCOS\")\n",
    "        for i in range(n):\n",
    "            for j in range(n):\n",
    "                sim_mat[i][j] = adjcos(mat, i, j, umean)\n",
    "        sim_mat = (sim_mat + 1)/2\n",
    "    elif option == 'euc':\n",
    "        #print(\"EUCLIDEAN\")\n",
    "        for i in range(n):\n",
    "            for j in range(n):\n",
    "                sim_mat[i][j] = euc(mat, i, j)\n",
    "    else:\n",
    "        #print(\"Hello\")\n",
    "        sim_mat = cosine_similarity(mat.T)\n",
    "    \n",
    "    return sim_mat, amean, umean, imean\n",
    "        "
   ]
  },
  {
   "cell_type": "code",
   "execution_count": 37,
   "metadata": {
    "collapsed": false
   },
   "outputs": [
    {
     "name": "stderr",
     "output_type": "stream",
     "text": [
      "/Library/Frameworks/Python.framework/Versions/3.4/lib/python3.4/site-packages/ipykernel/__main__.py:3: RuntimeWarning: invalid value encountered in true_divide\n",
      "  app.launch_new_instance()\n"
     ]
    },
    {
     "name": "stdout",
     "output_type": "stream",
     "text": [
      "4959\n",
      "0\n",
      "100\n",
      "200\n",
      "300\n",
      "400\n",
      "500\n",
      "600\n",
      "700\n",
      "800\n",
      "900\n",
      "1000\n",
      "1100\n",
      "1200\n",
      "1300\n",
      "1400\n",
      "1500\n",
      "1600\n",
      "1700\n",
      "1800\n",
      "1900\n",
      "2000\n",
      "2100\n",
      "2200\n",
      "2300\n",
      "2400\n",
      "2500\n",
      "2600\n",
      "2700\n",
      "2800\n",
      "2900\n",
      "3000\n",
      "3100\n",
      "3200\n",
      "3300\n",
      "3400\n",
      "3500\n",
      "3600\n",
      "3700\n",
      "3800\n",
      "3900\n",
      "4000\n",
      "4100\n",
      "4200\n",
      "4300\n",
      "4400\n",
      "4500\n",
      "4600\n",
      "4700\n",
      "4800\n",
      "4900\n",
      "31105.438440084457\n"
     ]
    }
   ],
   "source": [
    "import time \n",
    "start = time.time()\n",
    "naive = np.zeros((len(rows),len(cols)))\n",
    "for row in x1:\n",
    "    naive[row[0], row[1]] = row[2]\n",
    "items, amean, umean, imean = itemsimilar(naive,'cos')\n",
    "end = time.time()\n",
    "print(end-start)"
   ]
  },
  {
   "cell_type": "code",
   "execution_count": 255,
   "metadata": {
    "collapsed": false
   },
   "outputs": [
    {
     "name": "stdout",
     "output_type": "stream",
     "text": [
      "31105.438440084457\n"
     ]
    }
   ],
   "source": [
    "print(end - start)"
   ]
  },
  {
   "cell_type": "code",
   "execution_count": 256,
   "metadata": {
    "collapsed": false
   },
   "outputs": [
    {
     "data": {
      "text/plain": [
       "(4959, 4959)"
      ]
     },
     "execution_count": 256,
     "metadata": {},
     "output_type": "execute_result"
    }
   ],
   "source": [
    "items.shape"
   ]
  },
  {
   "cell_type": "markdown",
   "metadata": {},
   "source": [
    "Predict function is used to get recommended rating by user i for item j."
   ]
  },
  {
   "cell_type": "code",
   "execution_count": 257,
   "metadata": {
    "collapsed": false
   },
   "outputs": [],
   "source": [
    "def predict(user, item, mat, item_similarity, amean, umean, imean,  k=20):\n",
    "    nzero = mat[user].nonzero()[0]\n",
    "    if len(nzero) == 0:\n",
    "        return amean\n",
    "    baseline = imean + umean[user] - amean\n",
    "    choice = nzero[item_similarity[item, nzero].argsort()[::-1][1:k+1]]\n",
    "\n",
    "    prediction = ((mat[user, choice] - baseline[choice]).dot(item_similarity[item, choice])/ sum(item_similarity[item, choice])) + baseline[item]\n",
    "        \n",
    "    if np.isnan(prediction):\n",
    "        prediction = amean\n",
    "    if prediction > 5:\n",
    "        prediction = 5\n",
    "    if prediction < 1:\n",
    "        prediction = 1\n",
    "    return prediction"
   ]
  },
  {
   "cell_type": "code",
   "execution_count": 258,
   "metadata": {
    "collapsed": false
   },
   "outputs": [
    {
     "data": {
      "text/plain": [
       "4.9711482118438033"
      ]
     },
     "execution_count": 258,
     "metadata": {},
     "output_type": "execute_result"
    }
   ],
   "source": [
    "predict(0,1, naive, items, amean, umean, imean,5)"
   ]
  },
  {
   "cell_type": "code",
   "execution_count": 259,
   "metadata": {
    "collapsed": true
   },
   "outputs": [],
   "source": [
    "def get_results1(X, rows, cols, folds, k, item_similarity, amean, umean, imean):\n",
    "    kf =  KFold(n_splits=folds, shuffle = True, random_state=42)\n",
    "    count = 1\n",
    "    rmse_list = []\n",
    "    mae_list = []\n",
    "    trmse_list = []\n",
    "    tmae_list = []\n",
    "    for train_index, test_index in kf.split(X):\n",
    "        print(\"----------   Fold \", count, \"---------------\")\n",
    "        train_data, test_data = X[train_index], X[test_index]\n",
    "        \n",
    "        full_mat = np.zeros((rows, cols))\n",
    "        \n",
    "        for row in train_data:\n",
    "            full_mat[row[0], row[1]] = row[2]\n",
    "        \n",
    "        \n",
    "        preds = []\n",
    "        real = []\n",
    "        \n",
    "       \n",
    "        for row in train_data:\n",
    "            user_id, isbn, rating = row[0], row[1], row[2]\n",
    "            preds.append(predict(user_id, isbn, full_mat, item_similarity, amean, umean, imean, k))\n",
    "            real.append(rating)\n",
    "        \n",
    "        \n",
    "        err1 = rmse(np.array(preds), np.array(real))\n",
    "        err2 = mae(np.array(preds), np.array(real))\n",
    "        trmse_list.append(err1)\n",
    "        tmae_list.append(err2)\n",
    "        \n",
    "        print('Train Errors')\n",
    "        print('RMSE : %.4f' % err1)\n",
    "        print('MAE : %.4f' % err2)\n",
    "        \n",
    "        preds = []\n",
    "        real = []\n",
    "        \n",
    "        for row in test_data:\n",
    "            user_id, isbn, rating = row[0], row[1], row[2]\n",
    "            preds.append(predict(user_id, isbn, full_mat, item_similarity, amean, umean, imean, k))\n",
    "            real.append(rating)\n",
    "            \n",
    "        err1 = rmse(np.array(preds), np.array(real))\n",
    "        err2 = mae(np.array(preds), np.array(real))\n",
    "        rmse_list.append(err1)\n",
    "        mae_list.append(err2)\n",
    "        \n",
    "       \n",
    "        \n",
    "        print('Test Errors')\n",
    "        print('RMSE : %.4f' % err1)\n",
    "        print('MAE : %.4f' % err2)\n",
    "        count+=1\n",
    "    \n",
    "    print(\"-------------------------------------\")\n",
    "    print(\"Training Avg Error:\")\n",
    "    print(\"AVG RMSE :\", str(np.mean(trmse_list)))\n",
    "    print(\"AVG MAE :\", str(np.mean(tmae_list)))\n",
    "    print()\n",
    "    print(\"Testing Avg Error:\")\n",
    "    print(\"AVG RMSE :\", str(np.mean(rmse_list)))\n",
    "    print(\"AVG MAE :\", str(np.mean(mae_list)))\n",
    "    print(\" \")\n",
    "        \n",
    "    return np.mean(mae_list), np.mean(rmse_list)\n",
    "        "
   ]
  },
  {
   "cell_type": "code",
   "execution_count": 260,
   "metadata": {
    "collapsed": false
   },
   "outputs": [
    {
     "name": "stdout",
     "output_type": "stream",
     "text": [
      "----------   Fold  1 ---------------\n"
     ]
    },
    {
     "name": "stderr",
     "output_type": "stream",
     "text": [
      "/Library/Frameworks/Python.framework/Versions/3.4/lib/python3.4/site-packages/ipykernel/__main__.py:8: RuntimeWarning: invalid value encountered in double_scalars\n"
     ]
    },
    {
     "name": "stdout",
     "output_type": "stream",
     "text": [
      "Train Errors\n",
      "RMSE : 0.6940\n",
      "MAE : 0.5028\n",
      "Test Errors\n",
      "RMSE : 0.8196\n",
      "MAE : 0.6062\n",
      "----------   Fold  2 ---------------\n",
      "Train Errors\n",
      "RMSE : 0.7323\n",
      "MAE : 0.5357\n",
      "Test Errors\n",
      "RMSE : 0.7505\n",
      "MAE : 0.5457\n",
      "----------   Fold  3 ---------------\n",
      "Train Errors\n",
      "RMSE : 0.7330\n",
      "MAE : 0.5366\n",
      "Test Errors\n",
      "RMSE : 0.7472\n",
      "MAE : 0.5451\n",
      "----------   Fold  4 ---------------\n",
      "Train Errors\n",
      "RMSE : 0.7330\n",
      "MAE : 0.5361\n",
      "Test Errors\n",
      "RMSE : 0.7468\n",
      "MAE : 0.5467\n",
      "----------   Fold  5 ---------------\n",
      "Train Errors\n",
      "RMSE : 0.7326\n",
      "MAE : 0.5361\n",
      "Test Errors\n",
      "RMSE : 0.7487\n",
      "MAE : 0.5460\n",
      "-------------------------------------\n",
      "Training Avg Error:\n",
      "AVG RMSE : 0.724975821235\n",
      "AVG MAE : 0.52945627784\n",
      "\n",
      "Testing Avg Error:\n",
      "AVG RMSE : 0.762550369422\n",
      "AVG MAE : 0.557953059739\n",
      " \n"
     ]
    },
    {
     "data": {
      "text/plain": [
       "(0.5579530597394784, 0.76255036942183274)"
      ]
     },
     "execution_count": 260,
     "metadata": {},
     "output_type": "execute_result"
    }
   ],
   "source": [
    "get_results1(nmat, len(rows), len(cols), 5 ,20,items, amean,umean, imean)"
   ]
  },
  {
   "cell_type": "markdown",
   "metadata": {},
   "source": [
    "get_results function is our function to cross_val setup and changing the parameter of this function will help to tune hyperparameter k (nearest neighbours)"
   ]
  },
  {
   "cell_type": "markdown",
   "metadata": {},
   "source": [
    "### Grid Search for best K for item-item CF using all the similarity metric implemented."
   ]
  },
  {
   "cell_type": "code",
   "execution_count": 261,
   "metadata": {
    "collapsed": false,
    "scrolled": false
   },
   "outputs": [
    {
     "name": "stdout",
     "output_type": "stream",
     "text": [
      "Nearest Neighbors:  5\n",
      "----------   Fold  1 ---------------\n"
     ]
    },
    {
     "name": "stderr",
     "output_type": "stream",
     "text": [
      "/Library/Frameworks/Python.framework/Versions/3.4/lib/python3.4/site-packages/ipykernel/__main__.py:8: RuntimeWarning: invalid value encountered in double_scalars\n"
     ]
    },
    {
     "name": "stdout",
     "output_type": "stream",
     "text": [
      "Train Errors\n",
      "RMSE : 0.6973\n",
      "MAE : 0.4912\n",
      "Test Errors\n",
      "RMSE : 0.8751\n",
      "MAE : 0.6428\n",
      "----------   Fold  2 ---------------\n",
      "Train Errors\n",
      "RMSE : 0.7469\n",
      "MAE : 0.5344\n",
      "Test Errors\n",
      "RMSE : 0.7947\n",
      "MAE : 0.5684\n",
      "----------   Fold  3 ---------------\n",
      "Train Errors\n",
      "RMSE : 0.7482\n",
      "MAE : 0.5360\n",
      "Test Errors\n",
      "RMSE : 0.7894\n",
      "MAE : 0.5662\n",
      "----------   Fold  4 ---------------\n",
      "Train Errors\n",
      "RMSE : 0.7475\n",
      "MAE : 0.5350\n",
      "Test Errors\n",
      "RMSE : 0.7881\n",
      "MAE : 0.5671\n",
      "----------   Fold  5 ---------------\n",
      "Train Errors\n",
      "RMSE : 0.7466\n",
      "MAE : 0.5349\n",
      "Test Errors\n",
      "RMSE : 0.7942\n",
      "MAE : 0.5687\n",
      "-------------------------------------\n",
      "Training Avg Error:\n",
      "AVG RMSE : 0.737298692234\n",
      "AVG MAE : 0.526307268621\n",
      "\n",
      "Testing Avg Error:\n",
      "AVG RMSE : 0.808298576251\n",
      "AVG MAE : 0.582623897667\n",
      " \n",
      "Nearest Neighbors:  10\n",
      "----------   Fold  1 ---------------\n",
      "Train Errors\n",
      "RMSE : 0.6778\n",
      "MAE : 0.4857\n",
      "Test Errors\n",
      "RMSE : 0.8391\n",
      "MAE : 0.6202\n",
      "----------   Fold  2 ---------------\n",
      "Train Errors\n",
      "RMSE : 0.7275\n",
      "MAE : 0.5280\n",
      "Test Errors\n",
      "RMSE : 0.7557\n",
      "MAE : 0.5454\n",
      "----------   Fold  3 ---------------\n",
      "Train Errors\n",
      "RMSE : 0.7286\n",
      "MAE : 0.5291\n",
      "Test Errors\n",
      "RMSE : 0.7506\n",
      "MAE : 0.5440\n",
      "----------   Fold  4 ---------------\n",
      "Train Errors\n",
      "RMSE : 0.7284\n",
      "MAE : 0.5285\n",
      "Test Errors\n",
      "RMSE : 0.7518\n",
      "MAE : 0.5465\n",
      "----------   Fold  5 ---------------\n",
      "Train Errors\n",
      "RMSE : 0.7279\n",
      "MAE : 0.5286\n",
      "Test Errors\n",
      "RMSE : 0.7543\n",
      "MAE : 0.5459\n",
      "-------------------------------------\n",
      "Training Avg Error:\n",
      "AVG RMSE : 0.718026153909\n",
      "AVG MAE : 0.519975116342\n",
      "\n",
      "Testing Avg Error:\n",
      "AVG RMSE : 0.770304809566\n",
      "AVG MAE : 0.560390697734\n",
      " \n",
      "Nearest Neighbors:  15\n",
      "----------   Fold  1 ---------------\n",
      "Train Errors\n",
      "RMSE : 0.6831\n",
      "MAE : 0.4929\n",
      "Test Errors\n",
      "RMSE : 0.8263\n",
      "MAE : 0.6113\n",
      "----------   Fold  2 ---------------\n",
      "Train Errors\n",
      "RMSE : 0.7279\n",
      "MAE : 0.5309\n",
      "Test Errors\n",
      "RMSE : 0.7488\n",
      "MAE : 0.5428\n",
      "----------   Fold  3 ---------------\n",
      "Train Errors\n",
      "RMSE : 0.7283\n",
      "MAE : 0.5317\n",
      "Test Errors\n",
      "RMSE : 0.7441\n",
      "MAE : 0.5416\n",
      "----------   Fold  4 ---------------\n",
      "Train Errors\n",
      "RMSE : 0.7288\n",
      "MAE : 0.5314\n",
      "Test Errors\n",
      "RMSE : 0.7452\n",
      "MAE : 0.5441\n",
      "----------   Fold  5 ---------------\n",
      "Train Errors\n",
      "RMSE : 0.7282\n",
      "MAE : 0.5315\n",
      "Test Errors\n",
      "RMSE : 0.7466\n",
      "MAE : 0.5427\n",
      "-------------------------------------\n",
      "Training Avg Error:\n",
      "AVG RMSE : 0.719271821197\n",
      "AVG MAE : 0.5236823029\n",
      "\n",
      "Testing Avg Error:\n",
      "AVG RMSE : 0.762196022099\n",
      "AVG MAE : 0.556490092819\n",
      " \n",
      "Nearest Neighbors:  20\n",
      "----------   Fold  1 ---------------\n",
      "Train Errors\n",
      "RMSE : 0.6940\n",
      "MAE : 0.5028\n",
      "Test Errors\n",
      "RMSE : 0.8196\n",
      "MAE : 0.6062\n",
      "----------   Fold  2 ---------------\n",
      "Train Errors\n",
      "RMSE : 0.7323\n",
      "MAE : 0.5357\n",
      "Test Errors\n",
      "RMSE : 0.7505\n",
      "MAE : 0.5457\n",
      "----------   Fold  3 ---------------\n",
      "Train Errors\n",
      "RMSE : 0.7330\n",
      "MAE : 0.5366\n",
      "Test Errors\n",
      "RMSE : 0.7472\n",
      "MAE : 0.5451\n",
      "----------   Fold  4 ---------------\n",
      "Train Errors\n",
      "RMSE : 0.7330\n",
      "MAE : 0.5361\n",
      "Test Errors\n",
      "RMSE : 0.7468\n",
      "MAE : 0.5467\n",
      "----------   Fold  5 ---------------\n",
      "Train Errors\n",
      "RMSE : 0.7326\n",
      "MAE : 0.5361\n",
      "Test Errors\n",
      "RMSE : 0.7487\n",
      "MAE : 0.5460\n",
      "-------------------------------------\n",
      "Training Avg Error:\n",
      "AVG RMSE : 0.724975821235\n",
      "AVG MAE : 0.52945627784\n",
      "\n",
      "Testing Avg Error:\n",
      "AVG RMSE : 0.762550369422\n",
      "AVG MAE : 0.557953059739\n",
      " \n",
      "Nearest Neighbors:  25\n",
      "----------   Fold  1 ---------------\n",
      "Train Errors\n",
      "RMSE : 0.7053\n",
      "MAE : 0.5126\n",
      "Test Errors\n",
      "RMSE : 0.8159\n",
      "MAE : 0.6033\n",
      "----------   Fold  2 ---------------\n",
      "Train Errors\n",
      "RMSE : 0.7378\n",
      "MAE : 0.5408\n",
      "Test Errors\n",
      "RMSE : 0.7549\n",
      "MAE : 0.5501\n",
      "----------   Fold  3 ---------------\n",
      "Train Errors\n",
      "RMSE : 0.7383\n",
      "MAE : 0.5416\n",
      "Test Errors\n",
      "RMSE : 0.7519\n",
      "MAE : 0.5498\n",
      "----------   Fold  4 ---------------\n",
      "Train Errors\n",
      "RMSE : 0.7384\n",
      "MAE : 0.5410\n",
      "Test Errors\n",
      "RMSE : 0.7513\n",
      "MAE : 0.5511\n",
      "----------   Fold  5 ---------------\n",
      "Train Errors\n",
      "RMSE : 0.7379\n",
      "MAE : 0.5411\n",
      "Test Errors\n",
      "RMSE : 0.7535\n",
      "MAE : 0.5507\n",
      "-------------------------------------\n",
      "Training Avg Error:\n",
      "AVG RMSE : 0.731549990399\n",
      "AVG MAE : 0.535439138915\n",
      "\n",
      "Testing Avg Error:\n",
      "AVG RMSE : 0.765501867404\n",
      "AVG MAE : 0.560988124874\n",
      " \n",
      "\n",
      "Best K Value for\n",
      "\n",
      "Min MAE\n",
      "0.556490092819 2\n",
      "Min RMSE\n",
      "0.762196022099 2\n",
      "\n"
     ]
    }
   ],
   "source": [
    "each_sims = []\n",
    "each_sims_rmse = []\n",
    "for k in [5, 10, 15, 20, 25]:\n",
    "    print(\"Nearest Neighbors: \",k)\n",
    "    ans1, ans2  = get_results1(nmat, len(rows), len(cols), 5 ,k,items, amean,umean, imean)\n",
    "    each_sims.append(ans1)\n",
    "    each_sims_rmse.append(ans2)\n",
    "\n",
    "print()\n",
    "print(\"Best K Value for\")\n",
    "print()\n",
    "print(\"Min MAE\")\n",
    "print(np.min(each_sims), np.argmin(each_sims))\n",
    "print(\"Min RMSE\")\n",
    "print(np.min(each_sims_rmse), np.argmin(each_sims_rmse))\n",
    "print()\n",
    "    "
   ]
  },
  {
   "cell_type": "code",
   "execution_count": null,
   "metadata": {
    "collapsed": true
   },
   "outputs": [],
   "source": []
  },
  {
   "cell_type": "code",
   "execution_count": 262,
   "metadata": {
    "collapsed": false
   },
   "outputs": [
    {
     "name": "stdout",
     "output_type": "stream",
     "text": [
      "0.556490092819 0.762196022099\n"
     ]
    }
   ],
   "source": [
    "print(each_sims[2], each_sims_rmse[2])"
   ]
  },
  {
   "cell_type": "code",
   "execution_count": 263,
   "metadata": {
    "collapsed": false
   },
   "outputs": [
    {
     "name": "stderr",
     "output_type": "stream",
     "text": [
      "/Library/Frameworks/Python.framework/Versions/3.4/lib/python3.4/site-packages/pandas/plotting/_core.py:1714: UserWarning: Pandas doesn't allow columns to be created via a new attribute name - see https://pandas.pydata.org/pandas-docs/stable/indexing.html#attribute-access\n",
      "  series.name = label\n"
     ]
    },
    {
     "data": {
      "image/png": "[encoded data removed]",
      "text/plain": [
       "<matplotlib.figure.Figure at 0x119ae05c0>"
      ]
     },
     "metadata": {},
     "output_type": "display_data"
    }
   ],
   "source": [
    "results_df1 = pd.DataFrame({'Nearest Neighbors': [5, 10, 15, 20, 25], 'MAE': each_sims, 'RMSE': each_sims_rmse })\n",
    "plot1 = results_df1.plot(x='Nearest Neighbors', y=['MAE', 'RMSE'], ylim=(0,1), title = 'Item-Item CF: Metrics over different K')\n",
    "fig = plot1.get_figure()\n",
    "fig.savefig('MetricsCFK.png')"
   ]
  },
  {
   "cell_type": "markdown",
   "metadata": {},
   "source": [
    "getmrec function is used to get top m recommendation for a user_id based on the similarity matrix (option), k neighbours."
   ]
  },
  {
   "cell_type": "code",
   "execution_count": 264,
   "metadata": {
    "collapsed": false
   },
   "outputs": [],
   "source": [
    "full_mat = np.zeros((len(rows),len(cols)))\n",
    "for row in nmat:\n",
    "    full_mat[row[0], row[1]] = row[2]\n",
    "#item_similarity, amean, umean, imean = itemsimilar(full_mat, 'euc')"
   ]
  },
  {
   "cell_type": "code",
   "execution_count": 265,
   "metadata": {
    "collapsed": true
   },
   "outputs": [],
   "source": [
    "def getmrec(full_mat, user_id, item_similarity, k, m, idict,  cov = False):\n",
    "    \n",
    "    n = item_similarity.shape[0]\n",
    "    nzero = full_mat[user_id].nonzero()[0]\n",
    "    \n",
    "    preds = {}\n",
    "    for row in range(n):\n",
    "        preds[row] = predict(user_id, row, full_mat, item_similarity, amean, umean, imean, k)\n",
    "    \n",
    "    flipped_dict = dict(zip(idict.values(), idict.keys()))\n",
    "    \n",
    "    if not cov:\n",
    "        print(\"Books Read -----\")\n",
    "        for i in nzero:\n",
    "            print(flipped_dict[i])\n",
    "            del preds[i]\n",
    "    \n",
    "    \n",
    "    res = sorted(preds.items(), key=lambda x: x[1], reverse = True)\n",
    "    \n",
    "    ans = [flipped_dict[i[0]] for i in res[:m]]\n",
    "    return ans"
   ]
  },
  {
   "cell_type": "code",
   "execution_count": 266,
   "metadata": {
    "collapsed": true
   },
   "outputs": [],
   "source": [
    "flipped_dict = dict(zip(idict.values(), idict.keys()))"
   ]
  },
  {
   "cell_type": "code",
   "execution_count": 267,
   "metadata": {
    "collapsed": true
   },
   "outputs": [],
   "source": [
    "def coverage(full_mat, user_id, item_similarity, k, mlist, flipped_dict,  cov = False):\n",
    "    \n",
    "    n = item_similarity.shape[0]\n",
    "    nzero = full_mat[user_id].nonzero()[0]\n",
    "    \n",
    "    preds = {}\n",
    "    for row in range(n):\n",
    "        preds[row] = predict(user_id, row, full_mat, item_similarity, amean, umean, imean, k)\n",
    "        \n",
    "    if not cov:\n",
    "        print(\"Books Read -----\")\n",
    "        for i in nzero:\n",
    "            print(flipped_dict[i])\n",
    "            del preds[i]\n",
    "    \n",
    "    \n",
    "    res = sorted(preds.items(), key=lambda x: x[1], reverse = True)\n",
    "    \n",
    "    ret_tup = []\n",
    "    ans = [flipped_dict[i[0]] for i in res[:mlist[-1]]]\n",
    "    for i in mlist:\n",
    "        ret_tup.append(ans[:i])\n",
    "    \n",
    "    return ret_tup"
   ]
  },
  {
   "cell_type": "code",
   "execution_count": 268,
   "metadata": {
    "collapsed": false
   },
   "outputs": [
    {
     "name": "stdout",
     "output_type": "stream",
     "text": [
      "0\n"
     ]
    },
    {
     "name": "stderr",
     "output_type": "stream",
     "text": [
      "/Library/Frameworks/Python.framework/Versions/3.4/lib/python3.4/site-packages/ipykernel/__main__.py:8: RuntimeWarning: invalid value encountered in double_scalars\n"
     ]
    },
    {
     "name": "stdout",
     "output_type": "stream",
     "text": [
      "100\n",
      "200\n",
      "300\n",
      "400\n",
      "500\n",
      "600\n",
      "700\n",
      "800\n",
      "900\n",
      "1000\n",
      "1100\n",
      "1200\n",
      "1300\n",
      "1400\n",
      "1500\n",
      "1600\n",
      "1700\n",
      "1800\n",
      "1900\n",
      "2000\n",
      "2100\n",
      "2200\n",
      "2300\n",
      "2400\n",
      "2500\n",
      "2600\n",
      "2700\n",
      "2800\n",
      "2900\n",
      "3000\n",
      "3100\n",
      "3200\n",
      "3300\n",
      "3400\n",
      "3500\n",
      "3600\n",
      "3700\n",
      "3800\n",
      "3900\n",
      "4000\n",
      "4100\n",
      "4200\n",
      "4300\n",
      "4400\n",
      "4500\n",
      "4600\n",
      "4700\n",
      "4800\n",
      "4900\n",
      "5000\n",
      "5100\n",
      "5200\n",
      "5300\n",
      "5400\n",
      "5500\n",
      "5600\n",
      "5700\n",
      "5800\n",
      "5900\n",
      "6000\n",
      "6100\n",
      "6200\n",
      "6300\n",
      "6400\n",
      "6500\n",
      "6600\n",
      "6700\n",
      "6800\n",
      "6900\n",
      "7000\n",
      "7100\n",
      "7200\n",
      "7300\n",
      "7400\n",
      "7500\n",
      "7600\n",
      "7700\n",
      "7800\n",
      "7900\n",
      "8000\n",
      "8100\n",
      "8200\n",
      "8300\n",
      "8400\n",
      "8500\n",
      "8600\n",
      "8700\n",
      "8800\n",
      "8900\n",
      "9000\n",
      "9100\n",
      "9200\n",
      "9300\n",
      "9400\n",
      "9500\n",
      "9600\n",
      "9700\n",
      "9800\n",
      "9900\n",
      "10000\n",
      "10100\n",
      "10200\n",
      "10300\n",
      "10400\n",
      "10500\n",
      "10600\n",
      "10700\n",
      "10800\n",
      "10900\n",
      "11000\n",
      "11100\n",
      "11200\n",
      "11300\n",
      "11400\n",
      "11500\n",
      "11600\n",
      "11700\n",
      "11800\n",
      "11900\n",
      "12000\n"
     ]
    }
   ],
   "source": [
    "cov1 = []\n",
    "cov2 = []\n",
    "cov3 = []\n",
    "cov4 = []\n",
    "cov5 = []\n",
    "mlist = [5,10,15,20,25]\n",
    "for i in range(len(rows)):\n",
    "    if(i%100 == 0):\n",
    "        print(i)\n",
    "    ans = coverage(full_mat, i, items, 10, mlist, flipped_dict, True)\n",
    "    cov1.extend(ans[0])\n",
    "    cov2.extend(ans[1])\n",
    "    cov3.extend(ans[2])\n",
    "    cov4.extend(ans[3])\n",
    "    cov5.extend(ans[4])"
   ]
  },
  {
   "cell_type": "markdown",
   "metadata": {
    "collapsed": true
   },
   "source": [
    "### Coverage Results"
   ]
  },
  {
   "cell_type": "code",
   "execution_count": 269,
   "metadata": {
    "collapsed": false
   },
   "outputs": [
    {
     "name": "stdout",
     "output_type": "stream",
     "text": [
      "Coverage with recommending 5 books 47.48941318814277 %\n"
     ]
    }
   ],
   "source": [
    "print(\"Coverage with recommending 5 books\", len(set(cov1))/4959 *100 ,\"%\")"
   ]
  },
  {
   "cell_type": "code",
   "execution_count": 270,
   "metadata": {
    "collapsed": false
   },
   "outputs": [
    {
     "name": "stdout",
     "output_type": "stream",
     "text": [
      "Coverage with recommending 10 books 66.76749344625932 %\n"
     ]
    }
   ],
   "source": [
    "print(\"Coverage with recommending 10 books\", len(set(cov2))/4959 *100 ,\"%\")"
   ]
  },
  {
   "cell_type": "code",
   "execution_count": 271,
   "metadata": {
    "collapsed": false
   },
   "outputs": [
    {
     "name": "stdout",
     "output_type": "stream",
     "text": [
      "Coverage with recommending 15 books 76.40653357531761 %\n"
     ]
    }
   ],
   "source": [
    "print(\"Coverage with recommending 15 books\", len(set(cov3))/4959 *100 ,\"%\")"
   ]
  },
  {
   "cell_type": "code",
   "execution_count": 272,
   "metadata": {
    "collapsed": false
   },
   "outputs": [
    {
     "name": "stdout",
     "output_type": "stream",
     "text": [
      "Coverage with recommending 20 books 82.03266787658802 %\n"
     ]
    }
   ],
   "source": [
    "print(\"Coverage with recommending 20 books\", len(set(cov4))/4959 *100 ,\"%\")"
   ]
  },
  {
   "cell_type": "code",
   "execution_count": 273,
   "metadata": {
    "collapsed": false
   },
   "outputs": [
    {
     "name": "stdout",
     "output_type": "stream",
     "text": [
      "Coverage with recommending 25 books 85.88425085702762 %\n"
     ]
    }
   ],
   "source": [
    "print(\"Coverage with recommending 25 books\", len(set(cov5))/4959 *100 ,\"%\")"
   ]
  },
  {
   "cell_type": "markdown",
   "metadata": {},
   "source": [
    "### Loading Book Features"
   ]
  },
  {
   "cell_type": "code",
   "execution_count": 274,
   "metadata": {
    "collapsed": true
   },
   "outputs": [],
   "source": [
    "feats = pd.read_csv('../book_features.csv')"
   ]
  },
  {
   "cell_type": "code",
   "execution_count": 275,
   "metadata": {
    "collapsed": false
   },
   "outputs": [
    {
     "data": {
      "text/plain": [
       "(4959, 17)"
      ]
     },
     "execution_count": 275,
     "metadata": {},
     "output_type": "execute_result"
    }
   ],
   "source": [
    "feats.shape"
   ]
  },
  {
   "cell_type": "code",
   "execution_count": 276,
   "metadata": {
    "collapsed": false
   },
   "outputs": [
    {
     "data": {
      "text/html": [
       "<div>\n",
       "<style scoped>\n",
       "    .dataframe tbody tr th:only-of-type {\n",
       "        vertical-align: middle;\n",
       "    }\n",
       "\n",
       "    .dataframe tbody tr th {\n",
       "        vertical-align: top;\n",
       "    }\n",
       "\n",
       "    .dataframe thead th {\n",
       "        text-align: right;\n",
       "    }\n",
       "</style>\n",
       "<table border=\"1\" class=\"dataframe\">\n",
       "  <thead>\n",
       "    <tr style=\"text-align: right;\">\n",
       "      <th></th>\n",
       "      <th>Unnamed: 0</th>\n",
       "      <th>Science_Score</th>\n",
       "      <th>Satire_Score</th>\n",
       "      <th>Drama_Score</th>\n",
       "      <th>Action_Score</th>\n",
       "      <th>Romance_Score</th>\n",
       "      <th>Mystery_Score</th>\n",
       "      <th>Horror_Score</th>\n",
       "      <th>Travel_Score</th>\n",
       "      <th>Children_Score</th>\n",
       "      <th>Religion_Score</th>\n",
       "      <th>History_Score</th>\n",
       "      <th>Biography_Score</th>\n",
       "      <th>Autobiography_Score</th>\n",
       "      <th>Fantasy_Score</th>\n",
       "      <th>isbn</th>\n",
       "      <th>title</th>\n",
       "    </tr>\n",
       "  </thead>\n",
       "  <tbody>\n",
       "    <tr>\n",
       "      <th>0</th>\n",
       "      <td>0</td>\n",
       "      <td>0.038207</td>\n",
       "      <td>0.068504</td>\n",
       "      <td>0.069262</td>\n",
       "      <td>0.034280</td>\n",
       "      <td>0.067933</td>\n",
       "      <td>0.080699</td>\n",
       "      <td>0.093292</td>\n",
       "      <td>0.048437</td>\n",
       "      <td>0.067634</td>\n",
       "      <td>0.058378</td>\n",
       "      <td>0.065526</td>\n",
       "      <td>0.045191</td>\n",
       "      <td>0.044895</td>\n",
       "      <td>0.071272</td>\n",
       "      <td>0002007770</td>\n",
       "      <td>Water for Elephants</td>\n",
       "    </tr>\n",
       "    <tr>\n",
       "      <th>1</th>\n",
       "      <td>1</td>\n",
       "      <td>0.039468</td>\n",
       "      <td>0.075064</td>\n",
       "      <td>0.061319</td>\n",
       "      <td>0.055943</td>\n",
       "      <td>0.092886</td>\n",
       "      <td>0.093401</td>\n",
       "      <td>0.090650</td>\n",
       "      <td>0.063545</td>\n",
       "      <td>0.055523</td>\n",
       "      <td>0.064056</td>\n",
       "      <td>0.094257</td>\n",
       "      <td>0.073566</td>\n",
       "      <td>0.068922</td>\n",
       "      <td>0.071120</td>\n",
       "      <td>0002051850</td>\n",
       "      <td>For Whom the Bell Tolls</td>\n",
       "    </tr>\n",
       "    <tr>\n",
       "      <th>2</th>\n",
       "      <td>2</td>\n",
       "      <td>0.037345</td>\n",
       "      <td>0.061224</td>\n",
       "      <td>0.052370</td>\n",
       "      <td>0.034974</td>\n",
       "      <td>0.064670</td>\n",
       "      <td>0.076909</td>\n",
       "      <td>0.076948</td>\n",
       "      <td>0.040161</td>\n",
       "      <td>0.049419</td>\n",
       "      <td>0.057505</td>\n",
       "      <td>0.076696</td>\n",
       "      <td>0.031504</td>\n",
       "      <td>0.030831</td>\n",
       "      <td>0.060471</td>\n",
       "      <td>0002247399</td>\n",
       "      <td>A Dance with Dragons (A Song of Ice and Fire, #5)</td>\n",
       "    </tr>\n",
       "    <tr>\n",
       "      <th>3</th>\n",
       "      <td>3</td>\n",
       "      <td>0.040277</td>\n",
       "      <td>0.059965</td>\n",
       "      <td>0.056401</td>\n",
       "      <td>0.040376</td>\n",
       "      <td>0.068644</td>\n",
       "      <td>0.090155</td>\n",
       "      <td>0.089819</td>\n",
       "      <td>0.046808</td>\n",
       "      <td>0.054902</td>\n",
       "      <td>0.057387</td>\n",
       "      <td>0.068051</td>\n",
       "      <td>0.053922</td>\n",
       "      <td>0.046720</td>\n",
       "      <td>0.067391</td>\n",
       "      <td>0006476155</td>\n",
       "      <td>Along Came a Spider (Alex Cross, #1)</td>\n",
       "    </tr>\n",
       "    <tr>\n",
       "      <th>4</th>\n",
       "      <td>4</td>\n",
       "      <td>0.024843</td>\n",
       "      <td>0.050273</td>\n",
       "      <td>0.067219</td>\n",
       "      <td>0.023418</td>\n",
       "      <td>0.088785</td>\n",
       "      <td>0.081145</td>\n",
       "      <td>0.076581</td>\n",
       "      <td>0.041120</td>\n",
       "      <td>0.087698</td>\n",
       "      <td>0.046154</td>\n",
       "      <td>0.067406</td>\n",
       "      <td>0.054567</td>\n",
       "      <td>0.061165</td>\n",
       "      <td>0.064440</td>\n",
       "      <td>0006514006</td>\n",
       "      <td>The Other Boleyn Girl</td>\n",
       "    </tr>\n",
       "  </tbody>\n",
       "</table>\n",
       "</div>"
      ],
      "text/plain": [
       "   Unnamed: 0  Science_Score  Satire_Score  Drama_Score  Action_Score  \\\n",
       "0           0       0.038207      0.068504     0.069262      0.034280   \n",
       "1           1       0.039468      0.075064     0.061319      0.055943   \n",
       "2           2       0.037345      0.061224     0.052370      0.034974   \n",
       "3           3       0.040277      0.059965     0.056401      0.040376   \n",
       "4           4       0.024843      0.050273     0.067219      0.023418   \n",
       "\n",
       "   Romance_Score  Mystery_Score  Horror_Score  Travel_Score  Children_Score  \\\n",
       "0       0.067933       0.080699      0.093292      0.048437        0.067634   \n",
       "1       0.092886       0.093401      0.090650      0.063545        0.055523   \n",
       "2       0.064670       0.076909      0.076948      0.040161        0.049419   \n",
       "3       0.068644       0.090155      0.089819      0.046808        0.054902   \n",
       "4       0.088785       0.081145      0.076581      0.041120        0.087698   \n",
       "\n",
       "   Religion_Score  History_Score  Biography_Score  Autobiography_Score  \\\n",
       "0        0.058378       0.065526         0.045191             0.044895   \n",
       "1        0.064056       0.094257         0.073566             0.068922   \n",
       "2        0.057505       0.076696         0.031504             0.030831   \n",
       "3        0.057387       0.068051         0.053922             0.046720   \n",
       "4        0.046154       0.067406         0.054567             0.061165   \n",
       "\n",
       "   Fantasy_Score        isbn  \\\n",
       "0       0.071272  0002007770   \n",
       "1       0.071120  0002051850   \n",
       "2       0.060471  0002247399   \n",
       "3       0.067391  0006476155   \n",
       "4       0.064440  0006514006   \n",
       "\n",
       "                                               title  \n",
       "0                                Water for Elephants  \n",
       "1                            For Whom the Bell Tolls  \n",
       "2  A Dance with Dragons (A Song of Ice and Fire, #5)  \n",
       "3               Along Came a Spider (Alex Cross, #1)  \n",
       "4                              The Other Boleyn Girl  "
      ]
     },
     "execution_count": 276,
     "metadata": {},
     "output_type": "execute_result"
    }
   ],
   "source": [
    "feats.head()"
   ]
  },
  {
   "cell_type": "code",
   "execution_count": 277,
   "metadata": {
    "collapsed": false
   },
   "outputs": [],
   "source": [
    "scores = feats.iloc[:,1:15]"
   ]
  },
  {
   "cell_type": "code",
   "execution_count": 278,
   "metadata": {
    "collapsed": true
   },
   "outputs": [],
   "source": [
    "scores1 = scores.as_matrix()"
   ]
  },
  {
   "cell_type": "code",
   "execution_count": 279,
   "metadata": {
    "collapsed": false
   },
   "outputs": [
    {
     "data": {
      "text/plain": [
       "(4959, 14)"
      ]
     },
     "execution_count": 279,
     "metadata": {},
     "output_type": "execute_result"
    }
   ],
   "source": [
    "scores1.shape"
   ]
  },
  {
   "cell_type": "code",
   "execution_count": 280,
   "metadata": {
    "collapsed": true
   },
   "outputs": [],
   "source": [
    "inputscores = scores1.T"
   ]
  },
  {
   "cell_type": "code",
   "execution_count": 284,
   "metadata": {
    "collapsed": false
   },
   "outputs": [
    {
     "name": "stderr",
     "output_type": "stream",
     "text": [
      "/Library/Frameworks/Python.framework/Versions/3.4/lib/python3.4/site-packages/ipykernel/__main__.py:4: RuntimeWarning: invalid value encountered in true_divide\n"
     ]
    }
   ],
   "source": [
    "naive = np.zeros((len(rows),len(cols)))\n",
    "for row in x1:\n",
    "    naive[row[0], row[1]] = row[2]\n",
    "items_features, temple1, temple2, temple3 = itemsimilar(inputscores,'')"
   ]
  },
  {
   "cell_type": "code",
   "execution_count": 285,
   "metadata": {
    "collapsed": false
   },
   "outputs": [
    {
     "name": "stdout",
     "output_type": "stream",
     "text": [
      "----------   Fold  1 ---------------\n"
     ]
    },
    {
     "name": "stderr",
     "output_type": "stream",
     "text": [
      "/Library/Frameworks/Python.framework/Versions/3.4/lib/python3.4/site-packages/ipykernel/__main__.py:8: RuntimeWarning: invalid value encountered in double_scalars\n"
     ]
    },
    {
     "name": "stdout",
     "output_type": "stream",
     "text": [
      "Train Errors\n",
      "RMSE : 0.7892\n",
      "MAE : 0.5834\n",
      "Test Errors\n",
      "RMSE : 0.8164\n",
      "MAE : 0.6030\n",
      "----------   Fold  2 ---------------\n",
      "Train Errors\n",
      "RMSE : 0.7919\n",
      "MAE : 0.5855\n",
      "Test Errors\n",
      "RMSE : 0.8048\n",
      "MAE : 0.5923\n",
      "----------   Fold  3 ---------------\n",
      "Train Errors\n",
      "RMSE : 0.7929\n",
      "MAE : 0.5861\n",
      "Test Errors\n",
      "RMSE : 0.8011\n",
      "MAE : 0.5921\n",
      "----------   Fold  4 ---------------\n",
      "Train Errors\n",
      "RMSE : 0.7929\n",
      "MAE : 0.5859\n",
      "Test Errors\n",
      "RMSE : 0.8025\n",
      "MAE : 0.5946\n",
      "----------   Fold  5 ---------------\n",
      "Train Errors\n",
      "RMSE : 0.7926\n",
      "MAE : 0.5860\n",
      "Test Errors\n",
      "RMSE : 0.8030\n",
      "MAE : 0.5932\n",
      "-------------------------------------\n",
      "Training Avg Error:\n",
      "AVG RMSE : 0.791927450548\n",
      "AVG MAE : 0.585381915522\n",
      "\n",
      "Testing Avg Error:\n",
      "AVG RMSE : 0.805574805134\n",
      "AVG MAE : 0.595045180631\n",
      " \n"
     ]
    },
    {
     "data": {
      "text/plain": [
       "(0.59504518063050416, 0.80557480513416713)"
      ]
     },
     "execution_count": 285,
     "metadata": {},
     "output_type": "execute_result"
    }
   ],
   "source": [
    "get_results1(nmat, len(rows), len(cols), 5 ,20,items_features, amean,umean, imean)"
   ]
  },
  {
   "cell_type": "code",
   "execution_count": 287,
   "metadata": {
    "collapsed": false
   },
   "outputs": [
    {
     "name": "stdout",
     "output_type": "stream",
     "text": [
      "Nearest Neighbors:  5\n",
      "----------   Fold  1 ---------------\n"
     ]
    },
    {
     "name": "stderr",
     "output_type": "stream",
     "text": [
      "/Library/Frameworks/Python.framework/Versions/3.4/lib/python3.4/site-packages/ipykernel/__main__.py:8: RuntimeWarning: invalid value encountered in double_scalars\n"
     ]
    },
    {
     "name": "stdout",
     "output_type": "stream",
     "text": [
      "Train Errors\n",
      "RMSE : 0.8301\n",
      "MAE : 0.6046\n",
      "Test Errors\n",
      "RMSE : 0.8606\n",
      "MAE : 0.6289\n",
      "----------   Fold  2 ---------------\n",
      "Train Errors\n",
      "RMSE : 0.8317\n",
      "MAE : 0.6063\n",
      "Test Errors\n",
      "RMSE : 0.8532\n",
      "MAE : 0.6202\n",
      "----------   Fold  3 ---------------\n",
      "Train Errors\n",
      "RMSE : 0.8336\n",
      "MAE : 0.6076\n",
      "Test Errors\n",
      "RMSE : 0.8470\n",
      "MAE : 0.6182\n",
      "----------   Fold  4 ---------------\n",
      "Train Errors\n",
      "RMSE : 0.8332\n",
      "MAE : 0.6069\n",
      "Test Errors\n",
      "RMSE : 0.8467\n",
      "MAE : 0.6187\n",
      "----------   Fold  5 ---------------\n",
      "Train Errors\n",
      "RMSE : 0.8351\n",
      "MAE : 0.6085\n",
      "Test Errors\n",
      "RMSE : 0.8495\n",
      "MAE : 0.6204\n",
      "-------------------------------------\n",
      "Training Avg Error:\n",
      "AVG RMSE : 0.832729392494\n",
      "AVG MAE : 0.606799104198\n",
      "\n",
      "Testing Avg Error:\n",
      "AVG RMSE : 0.851395324026\n",
      "AVG MAE : 0.621298062042\n",
      " \n",
      "Nearest Neighbors:  10\n",
      "----------   Fold  1 ---------------\n",
      "Train Errors\n",
      "RMSE : 0.8011\n",
      "MAE : 0.5893\n",
      "Test Errors\n",
      "RMSE : 0.8303\n",
      "MAE : 0.6108\n",
      "----------   Fold  2 ---------------\n",
      "Train Errors\n",
      "RMSE : 0.8037\n",
      "MAE : 0.5912\n",
      "Test Errors\n",
      "RMSE : 0.8198\n",
      "MAE : 0.6007\n",
      "----------   Fold  3 ---------------\n",
      "Train Errors\n",
      "RMSE : 0.8048\n",
      "MAE : 0.5920\n",
      "Test Errors\n",
      "RMSE : 0.8162\n",
      "MAE : 0.6005\n",
      "----------   Fold  4 ---------------\n",
      "Train Errors\n",
      "RMSE : 0.8046\n",
      "MAE : 0.5914\n",
      "Test Errors\n",
      "RMSE : 0.8159\n",
      "MAE : 0.6014\n",
      "----------   Fold  5 ---------------\n",
      "Train Errors\n",
      "RMSE : 0.8043\n",
      "MAE : 0.5917\n",
      "Test Errors\n",
      "RMSE : 0.8174\n",
      "MAE : 0.6012\n",
      "-------------------------------------\n",
      "Training Avg Error:\n",
      "AVG RMSE : 0.803683231936\n",
      "AVG MAE : 0.591136356278\n",
      "\n",
      "Testing Avg Error:\n",
      "AVG RMSE : 0.819910470474\n",
      "AVG MAE : 0.602929407931\n",
      " \n",
      "Nearest Neighbors:  15\n",
      "----------   Fold  1 ---------------\n",
      "Train Errors\n",
      "RMSE : 0.7928\n",
      "MAE : 0.5851\n",
      "Test Errors\n",
      "RMSE : 0.8205\n",
      "MAE : 0.6052\n",
      "----------   Fold  2 ---------------\n",
      "Train Errors\n",
      "RMSE : 0.7954\n",
      "MAE : 0.5871\n",
      "Test Errors\n",
      "RMSE : 0.8094\n",
      "MAE : 0.5950\n",
      "----------   Fold  3 ---------------\n",
      "Train Errors\n",
      "RMSE : 0.7964\n",
      "MAE : 0.5878\n",
      "Test Errors\n",
      "RMSE : 0.8060\n",
      "MAE : 0.5951\n",
      "----------   Fold  4 ---------------\n",
      "Train Errors\n",
      "RMSE : 0.7965\n",
      "MAE : 0.5875\n",
      "Test Errors\n",
      "RMSE : 0.8065\n",
      "MAE : 0.5963\n",
      "----------   Fold  5 ---------------\n",
      "Train Errors\n",
      "RMSE : 0.7958\n",
      "MAE : 0.5874\n",
      "Test Errors\n",
      "RMSE : 0.8077\n",
      "MAE : 0.5959\n",
      "-------------------------------------\n",
      "Training Avg Error:\n",
      "AVG RMSE : 0.795360580389\n",
      "AVG MAE : 0.586974450166\n",
      "\n",
      "Testing Avg Error:\n",
      "AVG RMSE : 0.810040310956\n",
      "AVG MAE : 0.597481696425\n",
      " \n",
      "Nearest Neighbors:  20\n",
      "----------   Fold  1 ---------------\n",
      "Train Errors\n",
      "RMSE : 0.7892\n",
      "MAE : 0.5834\n",
      "Test Errors\n",
      "RMSE : 0.8164\n",
      "MAE : 0.6030\n",
      "----------   Fold  2 ---------------\n",
      "Train Errors\n",
      "RMSE : 0.7919\n",
      "MAE : 0.5855\n",
      "Test Errors\n",
      "RMSE : 0.8048\n",
      "MAE : 0.5923\n",
      "----------   Fold  3 ---------------\n",
      "Train Errors\n",
      "RMSE : 0.7929\n",
      "MAE : 0.5861\n",
      "Test Errors\n",
      "RMSE : 0.8011\n",
      "MAE : 0.5921\n",
      "----------   Fold  4 ---------------\n",
      "Train Errors\n",
      "RMSE : 0.7929\n",
      "MAE : 0.5859\n",
      "Test Errors\n",
      "RMSE : 0.8025\n",
      "MAE : 0.5946\n",
      "----------   Fold  5 ---------------\n",
      "Train Errors\n",
      "RMSE : 0.7926\n",
      "MAE : 0.5860\n",
      "Test Errors\n",
      "RMSE : 0.8030\n",
      "MAE : 0.5932\n",
      "-------------------------------------\n",
      "Training Avg Error:\n",
      "AVG RMSE : 0.791927450548\n",
      "AVG MAE : 0.585381915522\n",
      "\n",
      "Testing Avg Error:\n",
      "AVG RMSE : 0.805574805134\n",
      "AVG MAE : 0.595045180631\n",
      " \n",
      "Nearest Neighbors:  25\n",
      "----------   Fold  1 ---------------\n",
      "Train Errors\n",
      "RMSE : 0.7876\n",
      "MAE : 0.5826\n",
      "Test Errors\n",
      "RMSE : 0.8143\n",
      "MAE : 0.6020\n",
      "----------   Fold  2 ---------------\n",
      "Train Errors\n",
      "RMSE : 0.7903\n",
      "MAE : 0.5847\n",
      "Test Errors\n",
      "RMSE : 0.8025\n",
      "MAE : 0.5911\n",
      "----------   Fold  3 ---------------\n",
      "Train Errors\n",
      "RMSE : 0.7913\n",
      "MAE : 0.5855\n",
      "Test Errors\n",
      "RMSE : 0.7987\n",
      "MAE : 0.5908\n",
      "----------   Fold  4 ---------------\n",
      "Train Errors\n",
      "RMSE : 0.7911\n",
      "MAE : 0.5850\n",
      "Test Errors\n",
      "RMSE : 0.7995\n",
      "MAE : 0.5930\n",
      "----------   Fold  5 ---------------\n",
      "Train Errors\n",
      "RMSE : 0.7909\n",
      "MAE : 0.5853\n",
      "Test Errors\n",
      "RMSE : 0.8008\n",
      "MAE : 0.5919\n",
      "-------------------------------------\n",
      "Training Avg Error:\n",
      "AVG RMSE : 0.790240307876\n",
      "AVG MAE : 0.584623208397\n",
      "\n",
      "Testing Avg Error:\n",
      "AVG RMSE : 0.803158875282\n",
      "AVG MAE : 0.593777558237\n",
      " \n",
      "\n",
      "Best K Value for\n",
      "\n",
      "Min MAE\n",
      "0.593777558237 4\n",
      "Min RMSE\n",
      "0.803158875282 4\n",
      "\n"
     ]
    }
   ],
   "source": [
    "each_sims_con = []\n",
    "each_sims_rmse_con = []\n",
    "for k in [5, 10, 15, 20, 25]:\n",
    "    print(\"Nearest Neighbors: \",k)\n",
    "    ans1, ans2  = get_results1(nmat, len(rows), len(cols), 5 ,k,items_features, amean,umean, imean)\n",
    "    each_sims_con.append(ans1)\n",
    "    each_sims_rmse_con.append(ans2)\n",
    "\n",
    "print()\n",
    "print(\"Best K Value for\")\n",
    "print()\n",
    "print(\"Min MAE\")\n",
    "print(np.min(each_sims_con), np.argmin(each_sims_con))\n",
    "print(\"Min RMSE\")\n",
    "print(np.min(each_sims_rmse_con), np.argmin(each_sims_rmse_con))\n",
    "print()\n",
    "    "
   ]
  },
  {
   "cell_type": "code",
   "execution_count": null,
   "metadata": {
    "collapsed": true
   },
   "outputs": [],
   "source": []
  }
 ],
 "metadata": {
  "kernelspec": {
   "display_name": "Python 3",
   "language": "python",
   "name": "python3"
  },
  "language_info": {
   "codemirror_mode": {
    "name": "ipython",
    "version": 3
   },
   "file_extension": ".py",
   "mimetype": "text/x-python",
   "name": "python",
   "nbconvert_exporter": "python",
   "pygments_lexer": "ipython3",
   "version": "3.4.4"
  }
 },
 "nbformat": 4,
 "nbformat_minor": 0
}
