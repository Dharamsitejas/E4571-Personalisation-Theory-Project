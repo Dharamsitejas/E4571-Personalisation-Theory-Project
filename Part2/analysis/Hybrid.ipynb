{
 "cells": [
  {
   "cell_type": "code",
   "execution_count": 14,
   "metadata": {
    "collapsed": true
   },
   "outputs": [],
   "source": [
    "import pandas as pd\n",
    "import numpy as np\n",
    "import pickle\n",
    "from sklearn.metrics.pairwise import cosine_similarity\n",
    "from sklearn.model_selection import KFold\n",
    "from sklearn.metrics import mean_squared_error, mean_absolute_error"
   ]
  },
  {
   "cell_type": "markdown",
   "metadata": {},
   "source": [
    "## Load the precomputed Model for Hybrid Approach"
   ]
  },
  {
   "cell_type": "code",
   "execution_count": 33,
   "metadata": {
    "collapsed": false
   },
   "outputs": [],
   "source": [
    "f = open('../models/item_model', 'rb')\n",
    "item_model = pickle.load(f)\n",
    "f.close()"
   ]
  },
  {
   "cell_type": "code",
   "execution_count": 61,
   "metadata": {
    "collapsed": true
   },
   "outputs": [],
   "source": [
    "f = open('../models/lshbestmodel', 'rb')\n",
    "lsh = pickle.load(f)\n",
    "f.close()"
   ]
  },
  {
   "cell_type": "code",
   "execution_count": 7,
   "metadata": {
    "collapsed": false
   },
   "outputs": [
    {
     "name": "stdout",
     "output_type": "stream",
     "text": [
      "12053 4959\n",
      "(470749, 3)\n",
      "(4959, 12053)\n"
     ]
    }
   ],
   "source": [
    "data = pd.read_csv('../clean-data/Combine.csv')\n",
    "\n",
    "rows = data.user_id.unique()\n",
    "cols = data['isbn'].unique()\n",
    "print(data.user_id.nunique(), data.isbn.nunique())\n",
    "data = data[['user_id', 'isbn', 'book_rating']]\n",
    "\n",
    "idict  = dict(zip(cols, range(len(cols))))\n",
    "udict = dict(zip(rows, range(len(rows))))\n",
    "\n",
    "data.user_id = [\n",
    "    udict[i] for i in data.user_id\n",
    "]\n",
    "data['isbn'] = [\n",
    "    idict[i] for i in data['isbn']\n",
    "]\n",
    "\n",
    "nmat = data.as_matrix()\n",
    "nmat = nmat.astype(int)\n",
    "print(nmat.shape)\n",
    "\n",
    "naive = np.zeros((len(rows),len(cols)))\n",
    "for row in nmat:\n",
    "    naive[row[0], row[1]] = row[2]\n",
    "\n",
    "print(naive.T.shape)"
   ]
  },
  {
   "cell_type": "code",
   "execution_count": 12,
   "metadata": {
    "collapsed": true
   },
   "outputs": [],
   "source": [
    "amean = np.mean(naive[naive!=0])\n",
    "umean = sum(naive.T) / sum((naive!=0).T)\n",
    "imean = sum(naive) / sum((naive!=0))\n",
    "\n",
    "umean = np.where(np.isnan(umean), amean, umean)\n",
    "imean = np.where(np.isnan(imean), amean, imean)"
   ]
  },
  {
   "cell_type": "code",
   "execution_count": 17,
   "metadata": {
    "collapsed": true
   },
   "outputs": [],
   "source": [
    "def rmse(ypred, ytrue):\n",
    "    ypred = ypred[ytrue.nonzero()].flatten()\n",
    "    ytrue = ytrue[ytrue.nonzero()].flatten()\n",
    "    return np.sqrt(mean_squared_error(ypred, ytrue))\n",
    "\n",
    "def mae(ypred, ytrue):\n",
    "    ypred = ypred[ytrue.nonzero()].flatten()\n",
    "    ytrue = ytrue[ytrue.nonzero()].flatten()\n",
    "    return mean_absolute_error(ypred, ytrue)"
   ]
  },
  {
   "cell_type": "code",
   "execution_count": 18,
   "metadata": {
    "collapsed": true
   },
   "outputs": [],
   "source": [
    "def predict(user, item, mat, model, amean, umean, imean,  k=20):\n",
    "    nzero = naive[user].nonzero()[0]\n",
    "    if len(nzero) == 0:\n",
    "        return amean\n",
    "    diction = dict(model[item])\n",
    "    elems = set(nzero).intersection(diction.keys())\n",
    "    baseline = imean + umean[user] - amean\n",
    "\n",
    "    new_dict = sorted({k: diction[k] for k in elems if k in diction}.items(),  key=lambda x: x[1], reverse = True)[:k]\n",
    "    if(not len(new_dict)):\n",
    "        return amean\n",
    "    num=0\n",
    "    denum =0 \n",
    "    for i in new_dict:\n",
    "        num+= (naive[user,i[0]]-baseline[i[0]])*i[1]\n",
    "        denum+=i[1]\n",
    "    prediction = (num/denum + baseline[item])\n",
    "    \n",
    "    if np.isnan(prediction):\n",
    "        prediction = imean[item] + umean[user] - amean\n",
    "    if prediction > 5:\n",
    "        prediction = 5\n",
    "    if prediction < 1:\n",
    "        prediction = 1\n",
    "    return prediction"
   ]
  },
  {
   "cell_type": "code",
   "execution_count": 34,
   "metadata": {
    "collapsed": true
   },
   "outputs": [],
   "source": [
    "def predict2(user, item, mat, item_similarity, amean, umean, imean,  k=20):\n",
    "    nzero = mat[user].nonzero()[0]\n",
    "    if len(nzero) == 0:\n",
    "        return amean\n",
    "    baseline = imean + umean[user] - amean\n",
    "    choice = nzero[item_similarity[item, nzero].argsort()[::-1][1:k+1]]\n",
    "\n",
    "    prediction = ((mat[user, choice] - baseline[choice]).dot(item_similarity[item, choice])/ sum(item_similarity[item, choice])) + baseline[item]\n",
    "        \n",
    "    if np.isnan(prediction):\n",
    "        prediction = imean[item] + umean[user] - amean\n",
    "    if prediction > 5:\n",
    "        prediction = 5\n",
    "    if prediction < 1:\n",
    "        prediction = 1\n",
    "    return prediction"
   ]
  },
  {
   "cell_type": "markdown",
   "metadata": {},
   "source": [
    "# Weighted Average Hybrid Model"
   ]
  },
  {
   "cell_type": "code",
   "execution_count": 38,
   "metadata": {
    "collapsed": true
   },
   "outputs": [],
   "source": [
    "def get_results1(X, rows, cols, folds, k, item_sim1, item_sim2, weights, amean, umean, imean):\n",
    "    kf =  KFold(n_splits=folds, shuffle = True, random_state=42)\n",
    "    count = 1\n",
    "    rmse_list = []\n",
    "    mae_list = []\n",
    "    trmse_list = []\n",
    "    tmae_list = []\n",
    "    for train_index, test_index in kf.split(X):\n",
    "        print(\"----------   Fold \", count, \"---------------\")\n",
    "        train_data, test_data = X[train_index], X[test_index]\n",
    "        \n",
    "        full_mat = np.zeros((rows, cols))\n",
    "        \n",
    "        for row in train_data:\n",
    "            full_mat[row[0], row[1]] = row[2]\n",
    "        \n",
    "        \n",
    "        preds = []\n",
    "        real = []\n",
    "        \n",
    "        for row in test_data:\n",
    "            user_id, isbn, rating = row[0], row[1], row[2]\n",
    "            pred1 = predict(user_id, isbn, full_mat, item_sim1, amean, umean, imean, k)\n",
    "            pred2 = predict2(user_id, isbn, full_mat, item_sim2, amean, umean, imean,  k)\n",
    "            preds.append(weights[0] * pred1 + weights[1] * pred2)\n",
    "            real.append(rating)\n",
    "            \n",
    "        err1 = rmse(np.array(preds), np.array(real))\n",
    "        err2 = mae(np.array(preds), np.array(real))\n",
    "        rmse_list.append(err1)\n",
    "        mae_list.append(err2)\n",
    "        \n",
    "       \n",
    "        \n",
    "        print('Test Errors')\n",
    "        print('RMSE : %.4f' % err1)\n",
    "        print('MAE : %.4f' % err2)\n",
    "        count+=1\n",
    "        \n",
    "    \n",
    "    print(\"-------------------------------------\")\n",
    "#     print(\"Training Avg Error:\")\n",
    "#     print(\"AVG RMSE :\", str(np.mean(trmse_list)))\n",
    "#     print(\"AVG MAE :\", str(np.mean(tmae_list)))\n",
    "    print()\n",
    "    print(\"Testing Avg Error:\")\n",
    "    print(\"AVG RMSE :\", str(np.mean(rmse_list)))\n",
    "    print(\"AVG MAE :\", str(np.mean(mae_list)))\n",
    "    print(\" \")\n",
    "        \n",
    "    return np.mean(mae_list), np.mean(rmse_list)\n"
   ]
  },
  {
   "cell_type": "markdown",
   "metadata": {},
   "source": [
    "## Tuning the model weights for lower errors"
   ]
  },
  {
   "cell_type": "code",
   "execution_count": 70,
   "metadata": {
    "collapsed": false
   },
   "outputs": [
    {
     "name": "stdout",
     "output_type": "stream",
     "text": [
      "----------   Fold  1 ---------------\n"
     ]
    },
    {
     "name": "stderr",
     "output_type": "stream",
     "text": [
      "/Library/Frameworks/Python.framework/Versions/3.4/lib/python3.4/site-packages/ipykernel/__main__.py:8: RuntimeWarning: invalid value encountered in double_scalars\n"
     ]
    },
    {
     "name": "stdout",
     "output_type": "stream",
     "text": [
      "Test Errors\n",
      "RMSE : 0.8035\n",
      "MAE : 0.5857\n",
      "----------   Fold  2 ---------------\n",
      "Test Errors\n",
      "RMSE : 0.8032\n",
      "MAE : 0.5839\n",
      "----------   Fold  3 ---------------\n",
      "Test Errors\n",
      "RMSE : 0.7975\n",
      "MAE : 0.5822\n",
      "----------   Fold  4 ---------------\n",
      "Test Errors\n",
      "RMSE : 0.7963\n",
      "MAE : 0.5817\n",
      "----------   Fold  5 ---------------\n",
      "Test Errors\n",
      "RMSE : 0.7992\n",
      "MAE : 0.5839\n",
      "-------------------------------------\n",
      "\n",
      "Testing Avg Error:\n",
      "AVG RMSE : 0.799918947078\n",
      "AVG MAE : 0.583491996023\n",
      " \n"
     ]
    },
    {
     "data": {
      "text/plain": [
       "(0.58349199602324886, 0.79991894707783184)"
      ]
     },
     "execution_count": 70,
     "metadata": {},
     "output_type": "execute_result"
    }
   ],
   "source": [
    "get_results1(nmat, len(rows), len(cols), 5, 15, lsh, item_model, [0.7, 0.3], amean, umean, imean)"
   ]
  },
  {
   "cell_type": "code",
   "execution_count": 63,
   "metadata": {
    "collapsed": false
   },
   "outputs": [
    {
     "name": "stdout",
     "output_type": "stream",
     "text": [
      "----------   Fold  1 ---------------\n"
     ]
    },
    {
     "name": "stderr",
     "output_type": "stream",
     "text": [
      "/Library/Frameworks/Python.framework/Versions/3.4/lib/python3.4/site-packages/ipykernel/__main__.py:8: RuntimeWarning: invalid value encountered in double_scalars\n"
     ]
    },
    {
     "name": "stdout",
     "output_type": "stream",
     "text": [
      "Test Errors\n",
      "RMSE : 0.8098\n",
      "MAE : 0.5874\n",
      "----------   Fold  2 ---------------\n",
      "Test Errors\n",
      "RMSE : 0.8096\n",
      "MAE : 0.5856\n",
      "----------   Fold  3 ---------------\n",
      "Test Errors\n",
      "RMSE : 0.8036\n",
      "MAE : 0.5836\n",
      "----------   Fold  4 ---------------\n",
      "Test Errors\n",
      "RMSE : 0.8021\n",
      "MAE : 0.5829\n",
      "----------   Fold  5 ---------------\n",
      "Test Errors\n",
      "RMSE : 0.8053\n",
      "MAE : 0.5856\n",
      "-------------------------------------\n",
      "\n",
      "Testing Avg Error:\n",
      "AVG RMSE : 0.806073740938\n",
      "AVG MAE : 0.585022709427\n",
      " \n"
     ]
    },
    {
     "data": {
      "text/plain": [
       "(0.58502270942728418, 0.8060737409378268)"
      ]
     },
     "execution_count": 63,
     "metadata": {},
     "output_type": "execute_result"
    }
   ],
   "source": [
    "get_results1(nmat, len(rows), len(cols), 5, 15, lsh, item_model, [0.8, 0.2], amean, umean, imean)"
   ]
  },
  {
   "cell_type": "code",
   "execution_count": 68,
   "metadata": {
    "collapsed": false
   },
   "outputs": [
    {
     "name": "stdout",
     "output_type": "stream",
     "text": [
      "----------   Fold  1 ---------------\n"
     ]
    },
    {
     "name": "stderr",
     "output_type": "stream",
     "text": [
      "/Library/Frameworks/Python.framework/Versions/3.4/lib/python3.4/site-packages/ipykernel/__main__.py:8: RuntimeWarning: invalid value encountered in double_scalars\n"
     ]
    },
    {
     "name": "stdout",
     "output_type": "stream",
     "text": [
      "Test Errors\n",
      "RMSE : 0.8178\n",
      "MAE : 0.5898\n",
      "----------   Fold  2 ---------------\n",
      "Test Errors\n",
      "RMSE : 0.8178\n",
      "MAE : 0.5880\n",
      "----------   Fold  3 ---------------\n",
      "Test Errors\n",
      "RMSE : 0.8114\n",
      "MAE : 0.5858\n",
      "----------   Fold  4 ---------------\n",
      "Test Errors\n",
      "RMSE : 0.8096\n",
      "MAE : 0.5848\n",
      "----------   Fold  5 ---------------\n",
      "Test Errors\n",
      "RMSE : 0.8131\n",
      "MAE : 0.5878\n",
      "-------------------------------------\n",
      "\n",
      "Testing Avg Error:\n",
      "AVG RMSE : 0.81394307864\n",
      "AVG MAE : 0.587237204506\n",
      " \n"
     ]
    },
    {
     "data": {
      "text/plain": [
       "(0.58723720450551642, 0.81394307864027571)"
      ]
     },
     "execution_count": 68,
     "metadata": {},
     "output_type": "execute_result"
    }
   ],
   "source": [
    "get_results1(nmat, len(rows), len(cols), 5, 15, lsh, item_model, [0.9, 0.1], amean, umean, imean)"
   ]
  },
  {
   "cell_type": "code",
   "execution_count": 69,
   "metadata": {
    "collapsed": false
   },
   "outputs": [
    {
     "name": "stdout",
     "output_type": "stream",
     "text": [
      "----------   Fold  1 ---------------\n"
     ]
    },
    {
     "name": "stderr",
     "output_type": "stream",
     "text": [
      "/Library/Frameworks/Python.framework/Versions/3.4/lib/python3.4/site-packages/ipykernel/__main__.py:8: RuntimeWarning: invalid value encountered in double_scalars\n"
     ]
    },
    {
     "name": "stdout",
     "output_type": "stream",
     "text": [
      "Test Errors\n",
      "RMSE : 0.7990\n",
      "MAE : 0.5848\n",
      "----------   Fold  2 ---------------\n",
      "Test Errors\n",
      "RMSE : 0.7985\n",
      "MAE : 0.5830\n",
      "----------   Fold  3 ---------------\n",
      "Test Errors\n",
      "RMSE : 0.7931\n",
      "MAE : 0.5814\n",
      "----------   Fold  4 ---------------\n",
      "Test Errors\n",
      "RMSE : 0.7922\n",
      "MAE : 0.5813\n",
      "----------   Fold  5 ---------------\n",
      "Test Errors\n",
      "RMSE : 0.7948\n",
      "MAE : 0.5830\n",
      "-------------------------------------\n",
      "\n",
      "Testing Avg Error:\n",
      "AVG RMSE : 0.795518491884\n",
      "AVG MAE : 0.582695248907\n",
      " \n"
     ]
    },
    {
     "data": {
      "text/plain": [
       "(0.58269524890672009, 0.79551849188400536)"
      ]
     },
     "execution_count": 69,
     "metadata": {},
     "output_type": "execute_result"
    }
   ],
   "source": [
    "get_results1(nmat, len(rows), len(cols), 5, 15, lsh, item_model, [0.6, 0.4], amean, umean, imean)"
   ]
  },
  {
   "cell_type": "code",
   "execution_count": 66,
   "metadata": {
    "collapsed": false
   },
   "outputs": [
    {
     "name": "stdout",
     "output_type": "stream",
     "text": [
      "----------   Fold  1 ---------------\n"
     ]
    },
    {
     "name": "stderr",
     "output_type": "stream",
     "text": [
      "/Library/Frameworks/Python.framework/Versions/3.4/lib/python3.4/site-packages/ipykernel/__main__.py:8: RuntimeWarning: invalid value encountered in double_scalars\n"
     ]
    },
    {
     "name": "stdout",
     "output_type": "stream",
     "text": [
      "Test Errors\n",
      "RMSE : 0.7962\n",
      "MAE : 0.5846\n",
      "----------   Fold  2 ---------------\n",
      "Test Errors\n",
      "RMSE : 0.7956\n",
      "MAE : 0.5828\n",
      "----------   Fold  3 ---------------\n",
      "Test Errors\n",
      "RMSE : 0.7905\n",
      "MAE : 0.5815\n",
      "----------   Fold  4 ---------------\n",
      "Test Errors\n",
      "RMSE : 0.7899\n",
      "MAE : 0.5816\n",
      "----------   Fold  5 ---------------\n",
      "Test Errors\n",
      "RMSE : 0.7923\n",
      "MAE : 0.5829\n",
      "-------------------------------------\n",
      "\n",
      "Testing Avg Error:\n",
      "AVG RMSE : 0.792901584014\n",
      "AVG MAE : 0.58266482577\n",
      " \n"
     ]
    },
    {
     "data": {
      "text/plain": [
       "(0.58266482577013645, 0.79290158401378918)"
      ]
     },
     "execution_count": 66,
     "metadata": {},
     "output_type": "execute_result"
    }
   ],
   "source": [
    "get_results1(nmat, len(rows), len(cols), 5, 15, lsh, item_model, [0.5, 0.5], amean, umean, imean)"
   ]
  },
  {
   "cell_type": "markdown",
   "metadata": {},
   "source": [
    "## Best K Selection for Hybrid Model with LSH weight 0.7 and Content Based Weight 0.3"
   ]
  },
  {
   "cell_type": "code",
   "execution_count": 72,
   "metadata": {
    "collapsed": false,
    "scrolled": true
   },
   "outputs": [
    {
     "name": "stdout",
     "output_type": "stream",
     "text": [
      "Nearest Neighbors:  5\n",
      "----------   Fold  1 ---------------\n"
     ]
    },
    {
     "name": "stderr",
     "output_type": "stream",
     "text": [
      "/Library/Frameworks/Python.framework/Versions/3.4/lib/python3.4/site-packages/ipykernel/__main__.py:8: RuntimeWarning: invalid value encountered in double_scalars\n"
     ]
    },
    {
     "name": "stdout",
     "output_type": "stream",
     "text": [
      "Test Errors\n",
      "RMSE : 0.8125\n",
      "MAE : 0.5897\n",
      "----------   Fold  2 ---------------\n",
      "Test Errors\n",
      "RMSE : 0.8128\n",
      "MAE : 0.5879\n",
      "----------   Fold  3 ---------------\n",
      "Test Errors\n",
      "RMSE : 0.8062\n",
      "MAE : 0.5857\n",
      "----------   Fold  4 ---------------\n",
      "Test Errors\n",
      "RMSE : 0.8057\n",
      "MAE : 0.5855\n",
      "----------   Fold  5 ---------------\n",
      "Test Errors\n",
      "RMSE : 0.8085\n",
      "MAE : 0.5878\n",
      "-------------------------------------\n",
      "\n",
      "Testing Avg Error:\n",
      "AVG RMSE : 0.809146188876\n",
      "AVG MAE : 0.587324777311\n",
      " \n",
      "Nearest Neighbors:  10\n",
      "----------   Fold  1 ---------------\n",
      "Test Errors\n",
      "RMSE : 0.8048\n",
      "MAE : 0.5858\n",
      "----------   Fold  2 ---------------\n",
      "Test Errors\n",
      "RMSE : 0.8045\n",
      "MAE : 0.5840\n",
      "----------   Fold  3 ---------------\n",
      "Test Errors\n",
      "RMSE : 0.7986\n",
      "MAE : 0.5821\n",
      "----------   Fold  4 ---------------\n",
      "Test Errors\n",
      "RMSE : 0.7973\n",
      "MAE : 0.5817\n",
      "----------   Fold  5 ---------------\n",
      "Test Errors\n",
      "RMSE : 0.8003\n",
      "MAE : 0.5840\n",
      "-------------------------------------\n",
      "\n",
      "Testing Avg Error:\n",
      "AVG RMSE : 0.801096639609\n",
      "AVG MAE : 0.583508451591\n",
      " \n",
      "Nearest Neighbors:  15\n",
      "----------   Fold  1 ---------------\n",
      "Test Errors\n",
      "RMSE : 0.8035\n",
      "MAE : 0.5857\n",
      "----------   Fold  2 ---------------\n",
      "Test Errors\n",
      "RMSE : 0.8032\n",
      "MAE : 0.5839\n",
      "----------   Fold  3 ---------------\n",
      "Test Errors\n",
      "RMSE : 0.7975\n",
      "MAE : 0.5822\n",
      "----------   Fold  4 ---------------\n",
      "Test Errors\n",
      "RMSE : 0.7963\n",
      "MAE : 0.5817\n",
      "----------   Fold  5 ---------------\n",
      "Test Errors\n",
      "RMSE : 0.7992\n",
      "MAE : 0.5839\n",
      "-------------------------------------\n",
      "\n",
      "Testing Avg Error:\n",
      "AVG RMSE : 0.799918947078\n",
      "AVG MAE : 0.583491996023\n",
      " \n",
      "Nearest Neighbors:  20\n",
      "----------   Fold  1 ---------------\n",
      "Test Errors\n",
      "RMSE : 0.8032\n",
      "MAE : 0.5860\n",
      "----------   Fold  2 ---------------\n",
      "Test Errors\n",
      "RMSE : 0.8030\n",
      "MAE : 0.5843\n",
      "----------   Fold  3 ---------------\n",
      "Test Errors\n",
      "RMSE : 0.7971\n",
      "MAE : 0.5823\n",
      "----------   Fold  4 ---------------\n",
      "Test Errors\n",
      "RMSE : 0.7963\n",
      "MAE : 0.5823\n",
      "----------   Fold  5 ---------------\n",
      "Test Errors\n",
      "RMSE : 0.7987\n",
      "MAE : 0.5839\n",
      "-------------------------------------\n",
      "\n",
      "Testing Avg Error:\n",
      "AVG RMSE : 0.799635852661\n",
      "AVG MAE : 0.583750301908\n",
      " \n",
      "Nearest Neighbors:  25\n",
      "----------   Fold  1 ---------------\n",
      "Test Errors\n",
      "RMSE : 0.8032\n",
      "MAE : 0.5863\n",
      "----------   Fold  2 ---------------\n",
      "Test Errors\n",
      "RMSE : 0.8030\n",
      "MAE : 0.5844\n",
      "----------   Fold  3 ---------------\n",
      "Test Errors\n",
      "RMSE : 0.7971\n",
      "MAE : 0.5825\n",
      "----------   Fold  4 ---------------\n",
      "Test Errors\n",
      "RMSE : 0.7961\n",
      "MAE : 0.5825\n",
      "----------   Fold  5 ---------------\n",
      "Test Errors\n",
      "RMSE : 0.7986\n",
      "MAE : 0.5841\n",
      "-------------------------------------\n",
      "\n",
      "Testing Avg Error:\n",
      "AVG RMSE : 0.799602667732\n",
      "AVG MAE : 0.583960033462\n",
      " \n",
      "\n",
      "Best K Value for\n",
      "\n",
      "Min MAE\n",
      "0.583491996023 2\n",
      "Min RMSE\n",
      "0.799602667732 4\n",
      "\n"
     ]
    }
   ],
   "source": [
    "each_sims = []\n",
    "each_sims_rmse = []\n",
    "for k in [5, 10, 15, 20, 25]:\n",
    "    print(\"Nearest Neighbors: \",k)\n",
    "    ans1, ans2  = get_results1(nmat, len(rows), len(cols), 5, k, lsh, item_model, [0.7, 0.3], amean, umean, imean)\n",
    "    each_sims.append(ans1)\n",
    "    each_sims_rmse.append(ans2)\n",
    "\n",
    "print()\n",
    "print(\"Best K Value for\")\n",
    "print()\n",
    "print(\"Min MAE\")\n",
    "print(np.min(each_sims), np.argmin(each_sims))\n",
    "print(\"Min RMSE\")\n",
    "print(np.min(each_sims_rmse), np.argmin(each_sims_rmse))\n",
    "print()"
   ]
  },
  {
   "cell_type": "code",
   "execution_count": 337,
   "metadata": {
    "collapsed": true
   },
   "outputs": [],
   "source": [
    "%matplotlib inline"
   ]
  },
  {
   "cell_type": "code",
   "execution_count": 348,
   "metadata": {
    "collapsed": false,
    "scrolled": false
   },
   "outputs": [
    {
     "name": "stderr",
     "output_type": "stream",
     "text": [
      "/Library/Frameworks/Python.framework/Versions/3.4/lib/python3.4/site-packages/pandas/plotting/_core.py:1714: UserWarning: Pandas doesn't allow columns to be created via a new attribute name - see https://pandas.pydata.org/pandas-docs/stable/indexing.html#attribute-access\n",
      "  series.name = label\n"
     ]
    },
    {
     "data": {
      "image/png": "[encoded data removed]",
      "text/plain": [
       "<matplotlib.figure.Figure at 0x1f349add8>"
      ]
     },
     "metadata": {},
     "output_type": "display_data"
    }
   ],
   "source": [
    "results_df1 = pd.DataFrame({'Nearest Neighbors': [5, 10, 15, 20, 25], 'MAE': each_sims, 'RMSE': each_sims_rmse })\n",
    "plot1 = results_df1.plot(x='Nearest Neighbors', y=['MAE', 'RMSE'], ylim=(0.5,0.85), title = 'Hybrid Model: Metrics over different K')\n",
    "fig = plot1.get_figure()\n",
    "fig.savefig('MetricsHybrid.png')"
   ]
  },
  {
   "cell_type": "code",
   "execution_count": 46,
   "metadata": {
    "collapsed": true
   },
   "outputs": [],
   "source": [
    "flipped_dict = dict(zip(idict.values(), idict.keys()))"
   ]
  },
  {
   "cell_type": "code",
   "execution_count": 74,
   "metadata": {
    "collapsed": true
   },
   "outputs": [],
   "source": [
    "full_mat = np.zeros((len(rows),len(cols)))\n",
    "for row in nmat:\n",
    "    full_mat[row[0], row[1]] = row[2]"
   ]
  },
  {
   "cell_type": "markdown",
   "metadata": {},
   "source": [
    "### Coverage for Hybrid Model"
   ]
  },
  {
   "cell_type": "code",
   "execution_count": 47,
   "metadata": {
    "collapsed": true
   },
   "outputs": [],
   "source": [
    "def coverage(full_mat, user_id, item_sim1, item_sim2, weights, k, mlist, flipped_dict,  cov = False):\n",
    "    \n",
    "    n = full_mat.shape[1]\n",
    "    nzero = full_mat[user_id].nonzero()[0]\n",
    "    \n",
    "    preds = {}\n",
    "    for row in range(n):\n",
    "        pred1 = predict(user_id, row, full_mat, item_sim1, amean, umean, imean, k)\n",
    "        pred2 = predict2(user_id, row, full_mat, item_sim2, amean, umean, imean,  k)\n",
    "\n",
    "        preds[row] = weights[0] * pred1 + weights[1] * pred2\n",
    "        \n",
    "    if not cov:\n",
    "        print(\"Books Read -----\")\n",
    "        for i in nzero:\n",
    "            print(flipped_dict[i])\n",
    "            del preds[i]\n",
    "    \n",
    "    \n",
    "    res = sorted(preds.items(), key=lambda x: x[1], reverse = True)\n",
    "    \n",
    "    ret_tup = []\n",
    "    ans = [flipped_dict[i[0]] for i in res[:mlist[-1]]]\n",
    "    for i in mlist:\n",
    "        ret_tup.append(ans[:i])\n",
    "    \n",
    "    return ret_tup"
   ]
  },
  {
   "cell_type": "code",
   "execution_count": 75,
   "metadata": {
    "collapsed": false,
    "scrolled": false
   },
   "outputs": [
    {
     "name": "stdout",
     "output_type": "stream",
     "text": [
      "0\n"
     ]
    },
    {
     "name": "stderr",
     "output_type": "stream",
     "text": [
      "/Library/Frameworks/Python.framework/Versions/3.4/lib/python3.4/site-packages/ipykernel/__main__.py:8: RuntimeWarning: invalid value encountered in double_scalars\n",
      "/Library/Frameworks/Python.framework/Versions/3.4/lib/python3.4/site-packages/ipykernel/__main__.py:17: RuntimeWarning: invalid value encountered in double_scalars\n"
     ]
    },
    {
     "name": "stdout",
     "output_type": "stream",
     "text": [
      "100\n",
      "200\n",
      "300\n",
      "400\n",
      "500\n",
      "600\n",
      "700\n",
      "800\n",
      "900\n",
      "1000\n",
      "1100\n",
      "1200\n",
      "1300\n",
      "1400\n",
      "1500\n",
      "1600\n",
      "1700\n",
      "1800\n",
      "1900\n",
      "2000\n",
      "2100\n",
      "2200\n",
      "2300\n",
      "2400\n",
      "2500\n",
      "2600\n",
      "2700\n",
      "2800\n",
      "2900\n",
      "3000\n",
      "3100\n",
      "3200\n",
      "3300\n",
      "3400\n",
      "3500\n",
      "3600\n",
      "3700\n",
      "3800\n",
      "3900\n",
      "4000\n",
      "4100\n",
      "4200\n",
      "4300\n",
      "4400\n",
      "4500\n",
      "4600\n",
      "4700\n",
      "4800\n",
      "4900\n",
      "5000\n",
      "5100\n",
      "5200\n",
      "5300\n",
      "5400\n",
      "5500\n",
      "5600\n",
      "5700\n",
      "5800\n",
      "5900\n",
      "6000\n",
      "6100\n",
      "6200\n",
      "6300\n",
      "6400\n",
      "6500\n",
      "6600\n",
      "6700\n",
      "6800\n",
      "6900\n",
      "7000\n",
      "7100\n",
      "7200\n",
      "7300\n",
      "7400\n",
      "7500\n",
      "7600\n",
      "7700\n",
      "7800\n",
      "7900\n",
      "8000\n",
      "8100\n",
      "8200\n",
      "8300\n",
      "8400\n",
      "8500\n",
      "8600\n",
      "8700\n",
      "8800\n",
      "8900\n",
      "9000\n",
      "9100\n",
      "9200\n",
      "9300\n",
      "9400\n",
      "9500\n",
      "9600\n",
      "9700\n",
      "9800\n",
      "9900\n",
      "10000\n",
      "10100\n",
      "10200\n",
      "10300\n",
      "10400\n",
      "10500\n",
      "10600\n",
      "10700\n",
      "10800\n",
      "10900\n",
      "11000\n",
      "11100\n",
      "11200\n",
      "11300\n",
      "11400\n",
      "11500\n",
      "11600\n",
      "11700\n",
      "11800\n",
      "11900\n",
      "12000\n"
     ]
    }
   ],
   "source": [
    "cov1 = []\n",
    "cov2 = []\n",
    "cov3 = []\n",
    "cov4 = []\n",
    "cov5 = []\n",
    "mlist = [5,10,15,20,25]\n",
    "for i in range(len(rows)):\n",
    "    if(i%100 == 0):\n",
    "        print(i)\n",
    "    ans = coverage(full_mat, i, lsh, item_model, [0.7, 0.3], 15, mlist, flipped_dict, True)\n",
    "    cov1.extend(ans[0])\n",
    "    cov2.extend(ans[1])\n",
    "    cov3.extend(ans[2])\n",
    "    cov4.extend(ans[3])\n",
    "    cov5.extend(ans[4])"
   ]
  },
  {
   "cell_type": "code",
   "execution_count": 143,
   "metadata": {
    "collapsed": false
   },
   "outputs": [
    {
     "name": "stdout",
     "output_type": "stream",
     "text": [
      "Coverage with recommending 5 books 27.808025811655572 %\n"
     ]
    }
   ],
   "source": [
    "print(\"Coverage with recommending 5 books\", len(set(cov1))/4959 *100 ,\"%\")"
   ]
  },
  {
   "cell_type": "code",
   "execution_count": 144,
   "metadata": {
    "collapsed": false
   },
   "outputs": [
    {
     "name": "stdout",
     "output_type": "stream",
     "text": [
      "Coverage with recommending 10 books 38.93930227868522 %\n"
     ]
    }
   ],
   "source": [
    "print(\"Coverage with recommending 10 books\", len(set(cov2))/4959 *100 ,\"%\")"
   ]
  },
  {
   "cell_type": "code",
   "execution_count": 145,
   "metadata": {
    "collapsed": false
   },
   "outputs": [
    {
     "name": "stdout",
     "output_type": "stream",
     "text": [
      "Coverage with recommending 15 books 46.541641459971764 %\n"
     ]
    }
   ],
   "source": [
    "print(\"Coverage with recommending 15 books\", len(set(cov3))/4959 *100 ,\"%\")"
   ]
  },
  {
   "cell_type": "code",
   "execution_count": 146,
   "metadata": {
    "collapsed": false
   },
   "outputs": [
    {
     "name": "stdout",
     "output_type": "stream",
     "text": [
      "Coverage with recommending 20 books 52.63157894736842 %\n"
     ]
    }
   ],
   "source": [
    "print(\"Coverage with recommending 20 books\", len(set(cov4))/4959 *100 ,\"%\")"
   ]
  },
  {
   "cell_type": "code",
   "execution_count": 147,
   "metadata": {
    "collapsed": false
   },
   "outputs": [
    {
     "name": "stdout",
     "output_type": "stream",
     "text": [
      "Coverage with recommending 25 books 57.8544061302682 %\n"
     ]
    }
   ],
   "source": [
    "print(\"Coverage with recommending 25 books\", len(set(cov5))/4959 *100 ,\"%\")"
   ]
  },
  {
   "cell_type": "markdown",
   "metadata": {},
   "source": [
    "### Get M Recommendation for a user using LSH Model"
   ]
  },
  {
   "cell_type": "code",
   "execution_count": 370,
   "metadata": {
    "collapsed": false
   },
   "outputs": [],
   "source": [
    "def getmrec(full_mat, user_id, item_similarity, k, m, flipped_dict,  cov = False):\n",
    "    \n",
    "    n = full_mat.shape[1]\n",
    "    nzero = full_mat[user_id].nonzero()[0]\n",
    "    \n",
    "    preds = {}\n",
    "    for row in range(n):\n",
    "        preds[row] = predict(user_id, row, full_mat, item_similarity, amean, umean, imean, k)\n",
    "    \n",
    "    genre = []\n",
    "    if not cov:\n",
    "#         print(\"Books Read -----\")\n",
    "        for i in nzero:\n",
    "#             print(flipped_dict[i])\n",
    "            genre.extend(ansdict[i])\n",
    "            del preds[i]\n",
    "    \n",
    "    newA = dict(sorted(preds.items(),key=operator.itemgetter(1), reverse = True)[:m])\n",
    "    #res = sorted(preds.items(), key=lambda x: x[1], reverse = True)\n",
    "    retgen = []\n",
    "    for j in newA.keys():\n",
    "        retgen.extend(ansdict[j])\n",
    "        \n",
    "    ans = [flipped_dict[i] for i in newA.keys()]\n",
    "#     print(\"Books Read\")\n",
    "    df1 = pd.DataFrame.from_dict(dict(Counter(genre)),orient='index').sort_values(by=0,ascending = False)\n",
    "#     print(df1)\n",
    "#     print()\n",
    "#     print(\"Book Recommended\")\n",
    "    df2 = pd.DataFrame.from_dict(dict(Counter(retgen)),orient='index').sort_values(by=0,ascending = False)\n",
    "#     print(df2)\n",
    "    \n",
    "    df = pd.merge(left=df1, right=df2, left_index=True, right_index=True, how = 'outer').fillna(0)\n",
    "    df.columns = ['Books Read', 'Books Recommended']\n",
    "    df = df.sort_values(['Books Read','Books Recommended'], ascending = False)\n",
    "    \n",
    "#     print(df)\n",
    "    \n",
    "#     print(df1)\n",
    "\n",
    "    return df , ans"
   ]
  },
  {
   "cell_type": "code",
   "execution_count": 371,
   "metadata": {
    "collapsed": false
   },
   "outputs": [
    {
     "name": "stderr",
     "output_type": "stream",
     "text": [
      "/Library/Frameworks/Python.framework/Versions/3.4/lib/python3.4/site-packages/ipykernel/__main__.py:17: RuntimeWarning: invalid value encountered in double_scalars\n"
     ]
    }
   ],
   "source": [
    "df, ans = getmrec(full_mat, 130, lsh, 15, 10, flipped_dict,  cov = False)"
   ]
  },
  {
   "cell_type": "code",
   "execution_count": 375,
   "metadata": {
    "collapsed": false
   },
   "outputs": [
    {
     "data": {
      "text/html": [
       "<div>\n",
       "<style scoped>\n",
       "    .dataframe tbody tr th:only-of-type {\n",
       "        vertical-align: middle;\n",
       "    }\n",
       "\n",
       "    .dataframe tbody tr th {\n",
       "        vertical-align: top;\n",
       "    }\n",
       "\n",
       "    .dataframe thead th {\n",
       "        text-align: right;\n",
       "    }\n",
       "</style>\n",
       "<table border=\"1\" class=\"dataframe\">\n",
       "  <thead>\n",
       "    <tr style=\"text-align: right;\">\n",
       "      <th></th>\n",
       "      <th>Books Read</th>\n",
       "      <th>Books Recommended</th>\n",
       "    </tr>\n",
       "  </thead>\n",
       "  <tbody>\n",
       "    <tr>\n",
       "      <th>Horror_Score</th>\n",
       "      <td>19.0</td>\n",
       "      <td>5.0</td>\n",
       "    </tr>\n",
       "    <tr>\n",
       "      <th>Biography_Score</th>\n",
       "      <td>13.0</td>\n",
       "      <td>2.0</td>\n",
       "    </tr>\n",
       "    <tr>\n",
       "      <th>Mystery_Score</th>\n",
       "      <td>6.0</td>\n",
       "      <td>7.0</td>\n",
       "    </tr>\n",
       "    <tr>\n",
       "      <th>Romance_Score</th>\n",
       "      <td>4.0</td>\n",
       "      <td>1.0</td>\n",
       "    </tr>\n",
       "    <tr>\n",
       "      <th>Fantasy_Score</th>\n",
       "      <td>2.0</td>\n",
       "      <td>1.0</td>\n",
       "    </tr>\n",
       "    <tr>\n",
       "      <th>Children_Score</th>\n",
       "      <td>2.0</td>\n",
       "      <td>0.0</td>\n",
       "    </tr>\n",
       "    <tr>\n",
       "      <th>History_Score</th>\n",
       "      <td>1.0</td>\n",
       "      <td>3.0</td>\n",
       "    </tr>\n",
       "    <tr>\n",
       "      <th>Autobiography_Score</th>\n",
       "      <td>1.0</td>\n",
       "      <td>0.0</td>\n",
       "    </tr>\n",
       "    <tr>\n",
       "      <th>Drama_Score</th>\n",
       "      <td>0.0</td>\n",
       "      <td>1.0</td>\n",
       "    </tr>\n",
       "  </tbody>\n",
       "</table>\n",
       "</div>"
      ],
      "text/plain": [
       "                     Books Read  Books Recommended\n",
       "Horror_Score               19.0                5.0\n",
       "Biography_Score            13.0                2.0\n",
       "Mystery_Score               6.0                7.0\n",
       "Romance_Score               4.0                1.0\n",
       "Fantasy_Score               2.0                1.0\n",
       "Children_Score              2.0                0.0\n",
       "History_Score               1.0                3.0\n",
       "Autobiography_Score         1.0                0.0\n",
       "Drama_Score                 0.0                1.0"
      ]
     },
     "execution_count": 375,
     "metadata": {},
     "output_type": "execute_result"
    }
   ],
   "source": [
    "df"
   ]
  },
  {
   "cell_type": "code",
   "execution_count": 387,
   "metadata": {
    "collapsed": false
   },
   "outputs": [
    {
     "data": {
      "text/html": [
       "<div>\n",
       "<style scoped>\n",
       "    .dataframe tbody tr th:only-of-type {\n",
       "        vertical-align: middle;\n",
       "    }\n",
       "\n",
       "    .dataframe tbody tr th {\n",
       "        vertical-align: top;\n",
       "    }\n",
       "\n",
       "    .dataframe thead th {\n",
       "        text-align: right;\n",
       "    }\n",
       "</style>\n",
       "<table border=\"1\" class=\"dataframe\">\n",
       "  <thead>\n",
       "    <tr style=\"text-align: right;\">\n",
       "      <th></th>\n",
       "      <th>Recommended Books</th>\n",
       "    </tr>\n",
       "  </thead>\n",
       "  <tbody>\n",
       "    <tr>\n",
       "      <th>0</th>\n",
       "      <td>For Whom the Bell Tolls</td>\n",
       "    </tr>\n",
       "    <tr>\n",
       "      <th>1</th>\n",
       "      <td>Open: An Autobiography</td>\n",
       "    </tr>\n",
       "    <tr>\n",
       "      <th>2</th>\n",
       "      <td>Night</td>\n",
       "    </tr>\n",
       "    <tr>\n",
       "      <th>3</th>\n",
       "      <td>Deeply Odd (Odd Thomas, #6)</td>\n",
       "    </tr>\n",
       "    <tr>\n",
       "      <th>4</th>\n",
       "      <td>Unbroken</td>\n",
       "    </tr>\n",
       "    <tr>\n",
       "      <th>5</th>\n",
       "      <td>Eye of the Needle</td>\n",
       "    </tr>\n",
       "    <tr>\n",
       "      <th>6</th>\n",
       "      <td>Don Quixote</td>\n",
       "    </tr>\n",
       "    <tr>\n",
       "      <th>7</th>\n",
       "      <td>The Graveyard Book</td>\n",
       "    </tr>\n",
       "    <tr>\n",
       "      <th>8</th>\n",
       "      <td>To Kill a Mockingbird</td>\n",
       "    </tr>\n",
       "    <tr>\n",
       "      <th>9</th>\n",
       "      <td>The Lion, the Witch and the Wardrobe (Chronicl...</td>\n",
       "    </tr>\n",
       "  </tbody>\n",
       "</table>\n",
       "</div>"
      ],
      "text/plain": [
       "                                   Recommended Books\n",
       "0                            For Whom the Bell Tolls\n",
       "1                             Open: An Autobiography\n",
       "2                                              Night\n",
       "3                        Deeply Odd (Odd Thomas, #6)\n",
       "4                                           Unbroken\n",
       "5                                  Eye of the Needle\n",
       "6                                        Don Quixote\n",
       "7                                 The Graveyard Book\n",
       "8                              To Kill a Mockingbird\n",
       "9  The Lion, the Witch and the Wardrobe (Chronicl..."
      ]
     },
     "execution_count": 387,
     "metadata": {},
     "output_type": "execute_result"
    }
   ],
   "source": [
    "# print(\"\\n\\n==========[ RECOMMENDED BOOKS]==========\\n\")\n",
    "# for book in ans:\n",
    "#     print(\"  \" + book)\n",
    "# print(\"\\n\\n\")\n",
    "\n",
    "df2 = pd.DataFrame(ans,columns=['Recommended Books'])\n",
    "\n",
    "df2"
   ]
  },
  {
   "cell_type": "markdown",
   "metadata": {},
   "source": [
    "### Getting the right data structure; Not Important"
   ]
  },
  {
   "cell_type": "code",
   "execution_count": 148,
   "metadata": {
    "collapsed": true
   },
   "outputs": [],
   "source": [
    "data = pd.read_pickle('../created_datasets/ibsn_features_new_batch.pickle')"
   ]
  },
  {
   "cell_type": "code",
   "execution_count": null,
   "metadata": {
    "collapsed": true
   },
   "outputs": [],
   "source": []
  },
  {
   "cell_type": "code",
   "execution_count": 149,
   "metadata": {
    "collapsed": false
   },
   "outputs": [],
   "source": [
    "name = data.title"
   ]
  },
  {
   "cell_type": "code",
   "execution_count": 150,
   "metadata": {
    "collapsed": false
   },
   "outputs": [],
   "source": [
    "name = list(name)"
   ]
  },
  {
   "cell_type": "code",
   "execution_count": 151,
   "metadata": {
    "collapsed": true
   },
   "outputs": [],
   "source": [
    "for i in range(len(flipped_dict)):\n",
    "    flipped_dict[i] = name[i]\n",
    "    "
   ]
  },
  {
   "cell_type": "code",
   "execution_count": 158,
   "metadata": {
    "collapsed": false
   },
   "outputs": [
    {
     "data": {
      "text/html": [
       "<div>\n",
       "<style scoped>\n",
       "    .dataframe tbody tr th:only-of-type {\n",
       "        vertical-align: middle;\n",
       "    }\n",
       "\n",
       "    .dataframe tbody tr th {\n",
       "        vertical-align: top;\n",
       "    }\n",
       "\n",
       "    .dataframe thead th {\n",
       "        text-align: right;\n",
       "    }\n",
       "</style>\n",
       "<table border=\"1\" class=\"dataframe\">\n",
       "  <thead>\n",
       "    <tr style=\"text-align: right;\">\n",
       "      <th></th>\n",
       "      <th>Unnamed: 0</th>\n",
       "      <th>Science_Score</th>\n",
       "      <th>Satire_Score</th>\n",
       "      <th>Drama_Score</th>\n",
       "      <th>Action_Score</th>\n",
       "      <th>Romance_Score</th>\n",
       "      <th>Mystery_Score</th>\n",
       "      <th>Horror_Score</th>\n",
       "      <th>Travel_Score</th>\n",
       "      <th>Children_Score</th>\n",
       "      <th>Religion_Score</th>\n",
       "      <th>History_Score</th>\n",
       "      <th>Biography_Score</th>\n",
       "      <th>Autobiography_Score</th>\n",
       "      <th>Fantasy_Score</th>\n",
       "      <th>isbn</th>\n",
       "      <th>title</th>\n",
       "    </tr>\n",
       "  </thead>\n",
       "  <tbody>\n",
       "    <tr>\n",
       "      <th>0</th>\n",
       "      <td>0</td>\n",
       "      <td>0.038207</td>\n",
       "      <td>0.068504</td>\n",
       "      <td>0.069262</td>\n",
       "      <td>0.034280</td>\n",
       "      <td>0.067933</td>\n",
       "      <td>0.080699</td>\n",
       "      <td>0.093292</td>\n",
       "      <td>0.048437</td>\n",
       "      <td>0.067634</td>\n",
       "      <td>0.058378</td>\n",
       "      <td>0.065526</td>\n",
       "      <td>0.045191</td>\n",
       "      <td>0.044895</td>\n",
       "      <td>0.071272</td>\n",
       "      <td>0002007770</td>\n",
       "      <td>Water for Elephants</td>\n",
       "    </tr>\n",
       "    <tr>\n",
       "      <th>1</th>\n",
       "      <td>1</td>\n",
       "      <td>0.039468</td>\n",
       "      <td>0.075064</td>\n",
       "      <td>0.061319</td>\n",
       "      <td>0.055943</td>\n",
       "      <td>0.092886</td>\n",
       "      <td>0.093401</td>\n",
       "      <td>0.090650</td>\n",
       "      <td>0.063545</td>\n",
       "      <td>0.055523</td>\n",
       "      <td>0.064056</td>\n",
       "      <td>0.094257</td>\n",
       "      <td>0.073566</td>\n",
       "      <td>0.068922</td>\n",
       "      <td>0.071120</td>\n",
       "      <td>0002051850</td>\n",
       "      <td>For Whom the Bell Tolls</td>\n",
       "    </tr>\n",
       "    <tr>\n",
       "      <th>2</th>\n",
       "      <td>2</td>\n",
       "      <td>0.037345</td>\n",
       "      <td>0.061224</td>\n",
       "      <td>0.052370</td>\n",
       "      <td>0.034974</td>\n",
       "      <td>0.064670</td>\n",
       "      <td>0.076909</td>\n",
       "      <td>0.076948</td>\n",
       "      <td>0.040161</td>\n",
       "      <td>0.049419</td>\n",
       "      <td>0.057505</td>\n",
       "      <td>0.076696</td>\n",
       "      <td>0.031504</td>\n",
       "      <td>0.030831</td>\n",
       "      <td>0.060471</td>\n",
       "      <td>0002247399</td>\n",
       "      <td>A Dance with Dragons (A Song of Ice and Fire, #5)</td>\n",
       "    </tr>\n",
       "    <tr>\n",
       "      <th>3</th>\n",
       "      <td>3</td>\n",
       "      <td>0.040277</td>\n",
       "      <td>0.059965</td>\n",
       "      <td>0.056401</td>\n",
       "      <td>0.040376</td>\n",
       "      <td>0.068644</td>\n",
       "      <td>0.090155</td>\n",
       "      <td>0.089819</td>\n",
       "      <td>0.046808</td>\n",
       "      <td>0.054902</td>\n",
       "      <td>0.057387</td>\n",
       "      <td>0.068051</td>\n",
       "      <td>0.053922</td>\n",
       "      <td>0.046720</td>\n",
       "      <td>0.067391</td>\n",
       "      <td>0006476155</td>\n",
       "      <td>Along Came a Spider (Alex Cross, #1)</td>\n",
       "    </tr>\n",
       "    <tr>\n",
       "      <th>4</th>\n",
       "      <td>4</td>\n",
       "      <td>0.024843</td>\n",
       "      <td>0.050273</td>\n",
       "      <td>0.067219</td>\n",
       "      <td>0.023418</td>\n",
       "      <td>0.088785</td>\n",
       "      <td>0.081145</td>\n",
       "      <td>0.076581</td>\n",
       "      <td>0.041120</td>\n",
       "      <td>0.087698</td>\n",
       "      <td>0.046154</td>\n",
       "      <td>0.067406</td>\n",
       "      <td>0.054567</td>\n",
       "      <td>0.061165</td>\n",
       "      <td>0.064440</td>\n",
       "      <td>0006514006</td>\n",
       "      <td>The Other Boleyn Girl</td>\n",
       "    </tr>\n",
       "  </tbody>\n",
       "</table>\n",
       "</div>"
      ],
      "text/plain": [
       "   Unnamed: 0  Science_Score  Satire_Score  Drama_Score  Action_Score  \\\n",
       "0           0       0.038207      0.068504     0.069262      0.034280   \n",
       "1           1       0.039468      0.075064     0.061319      0.055943   \n",
       "2           2       0.037345      0.061224     0.052370      0.034974   \n",
       "3           3       0.040277      0.059965     0.056401      0.040376   \n",
       "4           4       0.024843      0.050273     0.067219      0.023418   \n",
       "\n",
       "   Romance_Score  Mystery_Score  Horror_Score  Travel_Score  Children_Score  \\\n",
       "0       0.067933       0.080699      0.093292      0.048437        0.067634   \n",
       "1       0.092886       0.093401      0.090650      0.063545        0.055523   \n",
       "2       0.064670       0.076909      0.076948      0.040161        0.049419   \n",
       "3       0.068644       0.090155      0.089819      0.046808        0.054902   \n",
       "4       0.088785       0.081145      0.076581      0.041120        0.087698   \n",
       "\n",
       "   Religion_Score  History_Score  Biography_Score  Autobiography_Score  \\\n",
       "0        0.058378       0.065526         0.045191             0.044895   \n",
       "1        0.064056       0.094257         0.073566             0.068922   \n",
       "2        0.057505       0.076696         0.031504             0.030831   \n",
       "3        0.057387       0.068051         0.053922             0.046720   \n",
       "4        0.046154       0.067406         0.054567             0.061165   \n",
       "\n",
       "   Fantasy_Score        isbn  \\\n",
       "0       0.071272  0002007770   \n",
       "1       0.071120  0002051850   \n",
       "2       0.060471  0002247399   \n",
       "3       0.067391  0006476155   \n",
       "4       0.064440  0006514006   \n",
       "\n",
       "                                               title  \n",
       "0                                Water for Elephants  \n",
       "1                            For Whom the Bell Tolls  \n",
       "2  A Dance with Dragons (A Song of Ice and Fire, #5)  \n",
       "3               Along Came a Spider (Alex Cross, #1)  \n",
       "4                              The Other Boleyn Girl  "
      ]
     },
     "execution_count": 158,
     "metadata": {},
     "output_type": "execute_result"
    }
   ],
   "source": [
    "feats.head()"
   ]
  },
  {
   "cell_type": "code",
   "execution_count": 333,
   "metadata": {
    "collapsed": false
   },
   "outputs": [],
   "source": [
    "def get_top_two_indices(x):\n",
    "    \n",
    "#     l = list(x.values)\n",
    "    \n",
    "#     return l.index(max(l))\n",
    "\n",
    "    return pd.Series(x.sort_values(ascending = False).head(2).index.values)"
   ]
  },
  {
   "cell_type": "code",
   "execution_count": 334,
   "metadata": {
    "collapsed": false
   },
   "outputs": [],
   "source": [
    "ansdict = feats.loc[:,'Science_Score':'Fantasy_Score'].apply(get_top_two_indices,axis=1).T.to_dict(orient='list')"
   ]
  }
 ],
 "metadata": {
  "kernelspec": {
   "display_name": "Python 3",
   "language": "python",
   "name": "python3"
  },
  "language_info": {
   "codemirror_mode": {
    "name": "ipython",
    "version": 3
   },
   "file_extension": ".py",
   "mimetype": "text/x-python",
   "name": "python",
   "nbconvert_exporter": "python",
   "pygments_lexer": "ipython3",
   "version": "3.4.4"
  }
 },
 "nbformat": 4,
 "nbformat_minor": 2
}
