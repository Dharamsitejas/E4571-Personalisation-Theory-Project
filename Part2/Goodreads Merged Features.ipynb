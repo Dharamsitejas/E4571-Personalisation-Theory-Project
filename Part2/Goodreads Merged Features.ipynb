{
 "cells": [
  {
   "cell_type": "code",
   "execution_count": 1,
   "metadata": {
    "collapsed": true
   },
   "outputs": [],
   "source": [
    "import pandas as pd\n",
    "import matplotlib.pyplot as plt\n",
    "import re\n",
    "from scipy.sparse import csr_matrix, coo_matrix\n",
    "import numpy as np\n",
    "\n",
    "%matplotlib inline"
   ]
  },
  {
   "cell_type": "code",
   "execution_count": 2,
   "metadata": {
    "collapsed": false,
    "scrolled": true
   },
   "outputs": [
    {
     "name": "stdout",
     "output_type": "stream",
     "text": [
      "(433671, 3)\n"
     ]
    }
   ],
   "source": [
    "ratings = pd.read_csv('BX-Book-Ratings.csv', encoding='iso-8859-1', sep = ';')\n",
    "ratings.columns = ['user_id', 'isbn', 'book_rating']\n",
    "books = pd.read_csv('BX-Books.csv', sep=';', encoding = 'iso-8859-1', dtype =str)\n",
    "\n",
    "books[\"Book-Title\"].nunique() == books[\"ISBN\"].nunique()\n",
    "book_dict = books[[\"Book-Title\",\"ISBN\"]].set_index(\"Book-Title\").to_dict()[\"ISBN\"]\n",
    "books['new_isbn'] = books[\"Book-Title\"].apply(lambda x: book_dict[x])\n",
    "books[\"Book-Title\"].nunique() == books[\"new_isbn\"].nunique()\n",
    "books['isbn'] = books['new_isbn']\n",
    "\n",
    "del books['Image-URL-L']\n",
    "del books['Image-URL-M']\n",
    "del books['Image-URL-S']\n",
    "del books['Book-Author']\n",
    "del books['Publisher']\n",
    "del books['ISBN']\n",
    "del books['new_isbn']\n",
    "\n",
    "newdf = ratings[ratings.book_rating>0]\n",
    "joined = books.merge(newdf, on ='isbn')\n",
    "print(newdf.shape)"
   ]
  },
  {
   "cell_type": "code",
   "execution_count": 3,
   "metadata": {
    "collapsed": false
   },
   "outputs": [],
   "source": [
    "bookinfo = pd.read_csv(\"goodreads_list_props.csv\")\n",
    "bookinfo.drop_duplicates(inplace = True)"
   ]
  },
  {
   "cell_type": "code",
   "execution_count": 4,
   "metadata": {
    "collapsed": true
   },
   "outputs": [],
   "source": [
    "books.drop_duplicates(subset = 'isbn',inplace = True)"
   ]
  },
  {
   "cell_type": "code",
   "execution_count": 5,
   "metadata": {
    "collapsed": false
   },
   "outputs": [
    {
     "name": "stdout",
     "output_type": "stream",
     "text": [
      "Bad ISBN -f\n",
      "Bad ISBN C:\\Users\\vijay\\AppData\\Roaming\\jupyter\\runtime\\kernel-f0403c4b-f81b-4cf4-837e-adc1c052d77d.json\n"
     ]
    }
   ],
   "source": [
    "#!/usr/bin/env python\n",
    "# -*- coding: utf-8 -*-\n",
    "\n",
    "import sys\n",
    "\n",
    "\n",
    "def is_isbn10_valid(isbn):\n",
    "    \"\"\"\n",
    "    Check ISBN-10 is valid.\n",
    "    Code Implementaion from:\n",
    "    http://en.wikipedia.org/wiki/International_Standard_Book_Number\n",
    "    \"\"\"\n",
    "    if len(isbn) != 10:\n",
    "        return False\n",
    "    if ((not isbn[0:9].isdigit()) or\n",
    "            ((isbn[-1] != 'X') and (not isbn[-1].isdigit()))):\n",
    "        return False\n",
    "    result = sum((10 - i) * (int(x) if x != 'X' else 10)\n",
    "                 for i, x in enumerate(isbn))\n",
    "    return result % 11 == 0\n",
    "\n",
    "\n",
    "def is_isbn13_valid(isbn):\n",
    "    \"\"\"\n",
    "    Check ISBN-13 is valid.\n",
    "    Code Implemetation from:\n",
    "    http://en.wikipedia.org/wiki/International_Standard_Book_Number\n",
    "    \"\"\"\n",
    "    if len(isbn) != 13 or isbn.isdigit() is not True:\n",
    "        return False\n",
    "    check = (10 - (sum(int(digit) * (3 if idx % 2 else 1)\n",
    "                       for idx, digit in enumerate(isbn[:12])) % 10)) % 10\n",
    "    return check == int(isbn[-1])\n",
    "\n",
    "\n",
    "def isbn13_to_isbn10(isbn13_str):\n",
    "    \"\"\"\n",
    "    Convert ISBN-13 to ISBN-10.\n",
    "    \"\"\"\n",
    "    num = 11 - sum((10 - i) * (int(x))\n",
    "                   for i, x in enumerate(isbn13_str[3:12])) % 11\n",
    "    if num == 10:\n",
    "        check_digit = 'X'\n",
    "    elif num == 11:\n",
    "        check_digit = 0\n",
    "    else:\n",
    "        check_digit = num\n",
    "    return isbn13_str[3:12] + str(check_digit)\n",
    "\n",
    "\n",
    "def isbn10_to_isbn13(isbn10_str):\n",
    "    \"\"\"\n",
    "    Convert ISBN-10 to ISBN-13.\n",
    "    \"\"\"\n",
    "    check_digit = (\n",
    "        10 - (sum(int(digit) * (3 if idx % 2 else 1)\n",
    "                  for idx, digit in enumerate('978' + isbn10_str[:9])\n",
    "                  ) % 10)) % 10\n",
    "    return '978' + isbn10_str[:9] + str(check_digit)\n",
    "\n",
    "\n",
    "def isbn_converter(isbn):\n",
    "    \"\"\"\n",
    "    Convert isbn format to another format.\n",
    "    \"\"\"\n",
    "    if is_isbn10_valid(isbn):\n",
    "        result = isbn10_to_isbn13(isbn)\n",
    "    elif is_isbn13_valid(isbn):\n",
    "        result = isbn13_to_isbn10(isbn)\n",
    "    else:\n",
    "        return None\n",
    "    return result\n",
    "\n",
    "\n",
    "if __name__ == \"__main__\":\n",
    "    for isbn_str in sys.argv[1:]:\n",
    "        the_result = isbn_converter(isbn_str)\n",
    "        if the_result:\n",
    "            print(the_result)\n",
    "        else:\n",
    "            print(\"Bad ISBN \" + isbn_str)"
   ]
  },
  {
   "cell_type": "code",
   "execution_count": 6,
   "metadata": {
    "collapsed": false
   },
   "outputs": [],
   "source": [
    "isbn13 = []\n",
    "for i in books['isbn']:\n",
    "    isbn13.append(isbn_converter(i))"
   ]
  },
  {
   "cell_type": "code",
   "execution_count": 7,
   "metadata": {
    "collapsed": true
   },
   "outputs": [],
   "source": [
    "books['isbn13'] = isbn13"
   ]
  },
  {
   "cell_type": "code",
   "execution_count": 8,
   "metadata": {
    "collapsed": false
   },
   "outputs": [],
   "source": [
    "books.dropna(subset = ['isbn13'],inplace = True)\n",
    "bookinfo.dropna(subset = ['isbn13'],inplace = True)"
   ]
  },
  {
   "cell_type": "code",
   "execution_count": 9,
   "metadata": {
    "collapsed": false
   },
   "outputs": [],
   "source": [
    "mergedinfo = bookinfo.merge(books,on = 'isbn13',how = 'inner')"
   ]
  },
  {
   "cell_type": "code",
   "execution_count": 10,
   "metadata": {
    "collapsed": true
   },
   "outputs": [],
   "source": [
    "import re\n",
    "def striphtml(data):\n",
    "    p = re.compile('<.*?>')\n",
    "    try:\n",
    "        return p.sub('', data)\n",
    "    except:\n",
    "        return None"
   ]
  },
  {
   "cell_type": "code",
   "execution_count": 11,
   "metadata": {
    "collapsed": false
   },
   "outputs": [],
   "source": [
    "mergedinfo['description'] = mergedinfo['description'].apply(lambda x: striphtml(x))\n",
    "mergedinfo['description'] = mergedinfo['description'].str.strip()\n",
    "mergedinfo['description'] = mergedinfo['description'].str.replace('“','').str.replace(',','').str.replace('\"','')"
   ]
  },
  {
   "cell_type": "code",
   "execution_count": 44,
   "metadata": {
    "collapsed": false
   },
   "outputs": [],
   "source": [
    "from nltk.corpus import stopwords\n",
    "# ...\n",
    "filtereddesc = []\n",
    "stops = set(stopwords.words(\"english\"))\n",
    "for desc in mergedinfo['description']:\n",
    "    try:\n",
    "        words = desc.split()\n",
    "        filtereddesc.append([word for word in words if word not in stops])\n",
    "    except:\n",
    "        filtereddesc.append(None)"
   ]
  },
  {
   "cell_type": "code",
   "execution_count": 48,
   "metadata": {
    "collapsed": false
   },
   "outputs": [],
   "source": [
    "mergedinfo['filtered_description'] = filtereddesc"
   ]
  },
  {
   "cell_type": "code",
   "execution_count": 80,
   "metadata": {
    "collapsed": false,
    "scrolled": true
   },
   "outputs": [],
   "source": [
    "wordlist = []\n",
    "for descs in mergedinfo['filtered_description']:\n",
    "    sentence = []\n",
    "    if descs is not None:\n",
    "        for word in descs:\n",
    "            sentence.append(word)\n",
    "    wordlist.append(sentence)"
   ]
  },
  {
   "cell_type": "code",
   "execution_count": 88,
   "metadata": {
    "collapsed": false
   },
   "outputs": [],
   "source": [
    "import gensim\n",
    "model = gensim.models.KeyedVectors.load_word2vec_format('GoogleNews-vectors-negative300.bin', binary=True)  "
   ]
  },
  {
   "cell_type": "code",
   "execution_count": 83,
   "metadata": {
    "collapsed": false
   },
   "outputs": [],
   "source": [
    "genres = ['Science','Satire','Drama','Action','Romance','Mystery','Horror','Travel','Children','Religion','History','Biography','Autobiography','Fantasy']"
   ]
  },
  {
   "cell_type": "code",
   "execution_count": 94,
   "metadata": {
    "collapsed": false
   },
   "outputs": [],
   "source": [
    "scores = []\n",
    "for desc in mergedinfo['filtered_description']:\n",
    "    if desc is not None:\n",
    "        gscore = []\n",
    "        for genre in genres:\n",
    "            simsum = 0\n",
    "            n = 0\n",
    "            for word in desc:\n",
    "                try:\n",
    "                    simsum = simsum + model.similarity(word,genre)\n",
    "                    n = n + 1\n",
    "                except:\n",
    "                    continue\n",
    "            if n!=0:\n",
    "                gscore.append((simsum)/n)\n",
    "            else:\n",
    "                gscore.append(0)\n",
    "        scores.append(gscore)\n",
    "    else:\n",
    "        scores.append(None)"
   ]
  },
  {
   "cell_type": "code",
   "execution_count": 109,
   "metadata": {
    "collapsed": false
   },
   "outputs": [
    {
     "data": {
      "text/plain": [
       "book_name                                             Pride and Prejudice\n",
       "author                                                        Jane Austen\n",
       "rating                                                               4.24\n",
       "votes                                                             2074236\n",
       "description             It is a truth universally acknowledged that a ...\n",
       "book_type                                                       Paperback\n",
       "no_of_pages                                                           279\n",
       "first_published                                     ['January 28th 1813']\n",
       "isbn13                                                      9780679783268\n",
       "genre                                                          Literature\n",
       "link                    https://www.goodreads.com//book/show/1885.Prid...\n",
       "Book-Title                  Pride and Prejudice (Modern Library Classics)\n",
       "Year-Of-Publication                                                  2000\n",
       "isbn                                                           0679783261\n",
       "filtered_description    [It, truth, universally, acknowledged, single,...\n",
       "Name: 12, dtype: object"
      ]
     },
     "execution_count": 109,
     "metadata": {},
     "output_type": "execute_result"
    }
   ],
   "source": [
    "mergedinfo.iloc[12]"
   ]
  },
  {
   "cell_type": "code",
   "execution_count": 110,
   "metadata": {
    "collapsed": false
   },
   "outputs": [
    {
     "data": {
      "text/plain": [
       "[0.043320644589633382,\n",
       " 0.11083853228245849,\n",
       " 0.073109114540767337,\n",
       " 0.011299775784885288,\n",
       " 0.10893565938360378,\n",
       " 0.09275169855010712,\n",
       " 0.080056073238774811,\n",
       " 0.043229179516044519,\n",
       " 0.044671671412237358,\n",
       " 0.080341256226919594,\n",
       " 0.099886692389653794,\n",
       " 0.095638035395685814,\n",
       " 0.076172551076481299,\n",
       " 0.069401170797353723]"
      ]
     },
     "execution_count": 110,
     "metadata": {},
     "output_type": "execute_result"
    }
   ],
   "source": [
    "scores[12]"
   ]
  },
  {
   "cell_type": "code",
   "execution_count": null,
   "metadata": {
    "collapsed": true
   },
   "outputs": [],
   "source": []
  }
 ],
 "metadata": {
  "anaconda-cloud": {},
  "kernelspec": {
   "display_name": "Python 3",
   "language": "python",
   "name": "python3"
  },
  "language_info": {
   "codemirror_mode": {
    "name": "ipython",
    "version": 3
   },
   "file_extension": ".py",
   "mimetype": "text/x-python",
   "name": "python",
   "nbconvert_exporter": "python",
   "pygments_lexer": "ipython3",
   "version": "3.5.2"
  }
 },
 "nbformat": 4,
 "nbformat_minor": 0
}
