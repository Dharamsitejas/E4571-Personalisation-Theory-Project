{
 "cells": [
  {
   "cell_type": "markdown",
   "metadata": {},
   "source": [
    "# BX Books dataset  - Data Cleaning\n",
    "  \n",
    "Source: The dataset is available [here](http://www2.informatik.uni-freiburg.de/~cziegler/BX/)."
   ]
  },
  {
   "cell_type": "code",
   "execution_count": 47,
   "metadata": {
    "collapsed": true
   },
   "outputs": [],
   "source": [
    "import pandas as pd\n",
    "import matplotlib.pyplot as plt\n",
    "import re\n",
    "from scipy.sparse import csr_matrix\n",
    "import numpy as np\n",
    "\n",
    "%matplotlib inline"
   ]
  },
  {
   "cell_type": "code",
   "execution_count": 2,
   "metadata": {},
   "outputs": [
    {
     "name": "stdout",
     "output_type": "stream",
     "text": [
      "\"User-ID;\"\"Location\"\";\"\"Age\"\"\",,,,,,,,\n",
      "\n",
      "\"1;\"\"nyc\", new york,\" usa\"\";NULL\",,,,,,\n",
      "\n",
      "\"2;\"\"stockton\", california,\" usa\"\";\"\"18\"\"\",,,,,,\n",
      "\n",
      "\"3;\"\"moscow\", yukon territory,\" russia\"\";NULL\",,,,,,\n",
      "\n",
      "\"4;\"\"porto\", v.n.gaia,\" portugal\"\";\"\"17\"\"\",,,,,,\n",
      "\n",
      "\"5;\"\"farnborough\", hants,\" united kingdom\"\";NULL\",,,,,,\n",
      "\n",
      "\"6;\"\"santa monica\", california,\" usa\"\";\"\"61\"\"\",,,,,,\n",
      "\n",
      "\"7;\"\"washington\", dc,\" usa\"\";NULL\",,,,,,\n",
      "\n",
      "\"8;\"\"timmins\", ontario,\" canada\"\";NULL\",,,,,,\n",
      "\n",
      "\"9;\"\"germantown\", tennessee,\" usa\"\";NULL\",,,,,,\n",
      "\n"
     ]
    }
   ],
   "source": [
    "for line in open('/Users/janakajain/GitHub/E4571-Personalisation-Theory-Project/raw-data/users.csv','r',encoding = 'ISO-8859-1').readlines()[:10]:\n",
    "    a = re.compile(pattern = '^\"[0-9];\\\"\\\"[a-z\", ]+;[A-Z]+\\\"[,]+')\n",
    "    _id_regex = re.compile(pattern = '^\"[0-9];')\n",
    "    _id = _id_regex.match(line)\n",
    "    print(line)"
   ]
  },
  {
   "cell_type": "markdown",
   "metadata": {},
   "source": [
    "### Ratings dataset"
   ]
  },
  {
   "cell_type": "code",
   "execution_count": 3,
   "metadata": {},
   "outputs": [
    {
     "name": "stderr",
     "output_type": "stream",
     "text": [
      "/Users/janakajain/anaconda/lib/python3.6/site-packages/ipykernel/__main__.py:3: ParserWarning: Falling back to the 'python' engine because the 'c' engine does not support regex separators (separators > 1 char and different from '\\s+' are interpreted as regex); you can avoid this warning by specifying engine='python'.\n",
      "  app.launch_new_instance()\n"
     ]
    }
   ],
   "source": [
    "data = pd.read_csv('/Users/janakajain/GitHub/E4571-Personalisation-Theory-Project/raw-data/ratings.csv', \n",
    "                   encoding='ISO-8859-1', \n",
    "                   sep = r'\\\";\\\"')"
   ]
  },
  {
   "cell_type": "code",
   "execution_count": 4,
   "metadata": {
    "scrolled": true
   },
   "outputs": [
    {
     "data": {
      "text/html": [
       "<div>\n",
       "<style>\n",
       "    .dataframe thead tr:only-child th {\n",
       "        text-align: right;\n",
       "    }\n",
       "\n",
       "    .dataframe thead th {\n",
       "        text-align: left;\n",
       "    }\n",
       "\n",
       "    .dataframe tbody tr th {\n",
       "        vertical-align: top;\n",
       "    }\n",
       "</style>\n",
       "<table border=\"1\" class=\"dataframe\">\n",
       "  <thead>\n",
       "    <tr style=\"text-align: right;\">\n",
       "      <th></th>\n",
       "      <th>\"User-ID</th>\n",
       "      <th>ISBN</th>\n",
       "      <th>Book-Rating\"</th>\n",
       "    </tr>\n",
       "  </thead>\n",
       "  <tbody>\n",
       "    <tr>\n",
       "      <th>0</th>\n",
       "      <td>\"276725</td>\n",
       "      <td>034545104X</td>\n",
       "      <td>0\"</td>\n",
       "    </tr>\n",
       "    <tr>\n",
       "      <th>1</th>\n",
       "      <td>\"276726</td>\n",
       "      <td>0155061224</td>\n",
       "      <td>5\"</td>\n",
       "    </tr>\n",
       "    <tr>\n",
       "      <th>2</th>\n",
       "      <td>\"276727</td>\n",
       "      <td>0446520802</td>\n",
       "      <td>0\"</td>\n",
       "    </tr>\n",
       "    <tr>\n",
       "      <th>3</th>\n",
       "      <td>\"276729</td>\n",
       "      <td>052165615X</td>\n",
       "      <td>3\"</td>\n",
       "    </tr>\n",
       "    <tr>\n",
       "      <th>4</th>\n",
       "      <td>\"276729</td>\n",
       "      <td>0521795028</td>\n",
       "      <td>6\"</td>\n",
       "    </tr>\n",
       "    <tr>\n",
       "      <th>5</th>\n",
       "      <td>\"276733</td>\n",
       "      <td>2080674722</td>\n",
       "      <td>0\"</td>\n",
       "    </tr>\n",
       "    <tr>\n",
       "      <th>6</th>\n",
       "      <td>\"276736</td>\n",
       "      <td>3257224281</td>\n",
       "      <td>8\"</td>\n",
       "    </tr>\n",
       "    <tr>\n",
       "      <th>7</th>\n",
       "      <td>\"276737</td>\n",
       "      <td>0600570967</td>\n",
       "      <td>6\"</td>\n",
       "    </tr>\n",
       "    <tr>\n",
       "      <th>8</th>\n",
       "      <td>\"276744</td>\n",
       "      <td>038550120X</td>\n",
       "      <td>7\"</td>\n",
       "    </tr>\n",
       "    <tr>\n",
       "      <th>9</th>\n",
       "      <td>\"276745</td>\n",
       "      <td>342310538</td>\n",
       "      <td>10\"</td>\n",
       "    </tr>\n",
       "  </tbody>\n",
       "</table>\n",
       "</div>"
      ],
      "text/plain": [
       "  \"User-ID        ISBN Book-Rating\"\n",
       "0  \"276725  034545104X           0\"\n",
       "1  \"276726  0155061224           5\"\n",
       "2  \"276727  0446520802           0\"\n",
       "3  \"276729  052165615X           3\"\n",
       "4  \"276729  0521795028           6\"\n",
       "5  \"276733  2080674722           0\"\n",
       "6  \"276736  3257224281           8\"\n",
       "7  \"276737  0600570967           6\"\n",
       "8  \"276744  038550120X           7\"\n",
       "9  \"276745   342310538          10\""
      ]
     },
     "execution_count": 4,
     "metadata": {},
     "output_type": "execute_result"
    }
   ],
   "source": [
    "data.head(10)"
   ]
  },
  {
   "cell_type": "markdown",
   "metadata": {},
   "source": [
    "The ratings dataset contains inconsistencies which cannot be cleaned effectively using regex. This has been addressed through manual cleaning in the following steps. The resulting data has been stored in cleaned CSV and pickle files."
   ]
  },
  {
   "cell_type": "code",
   "execution_count": 5,
   "metadata": {
    "collapsed": true
   },
   "outputs": [],
   "source": [
    "data['user_id'] = data['\"User-ID'].str.replace('\"','').astype(int)"
   ]
  },
  {
   "cell_type": "code",
   "execution_count": 6,
   "metadata": {
    "collapsed": true
   },
   "outputs": [],
   "source": [
    "data['book_rating'] = data['Book-Rating\"'].str.replace('\"','').astype(int)"
   ]
  },
  {
   "cell_type": "code",
   "execution_count": 7,
   "metadata": {
    "collapsed": true
   },
   "outputs": [],
   "source": [
    "data['isbn'] = data['ISBN']"
   ]
  },
  {
   "cell_type": "code",
   "execution_count": 8,
   "metadata": {
    "collapsed": true
   },
   "outputs": [],
   "source": [
    "df = data[['user_id','isbn','book_rating']]"
   ]
  },
  {
   "cell_type": "code",
   "execution_count": 9,
   "metadata": {
    "collapsed": true
   },
   "outputs": [],
   "source": [
    "# df.to_csv('clean-data/ratings.csv')"
   ]
  },
  {
   "cell_type": "code",
   "execution_count": 10,
   "metadata": {
    "collapsed": true
   },
   "outputs": [],
   "source": [
    "# df.to_pickle('clean-data/ratings.pickle')"
   ]
  },
  {
   "cell_type": "markdown",
   "metadata": {},
   "source": [
    "---  \n",
    "### Books Dataset"
   ]
  },
  {
   "cell_type": "code",
   "execution_count": 11,
   "metadata": {},
   "outputs": [
    {
     "name": "stderr",
     "output_type": "stream",
     "text": [
      "/Users/janakajain/anaconda/lib/python3.6/site-packages/ipykernel/__main__.py:2: ParserWarning: Falling back to the 'python' engine because the 'c' engine does not support regex separators (separators > 1 char and different from '\\s+' are interpreted as regex); you can avoid this warning by specifying engine='python'.\n",
      "  from ipykernel import kernelapp as app\n"
     ]
    }
   ],
   "source": [
    "books = pd.read_csv('/Users/janakajain/GitHub/E4571-Personalisation-Theory-Project/raw-data/books.csv', \n",
    "                    sep = r'\\\";\\\"'\n",
    "                   )"
   ]
  },
  {
   "cell_type": "code",
   "execution_count": 12,
   "metadata": {
    "collapsed": true
   },
   "outputs": [],
   "source": [
    "books['isbn'] = books['\"ISBN'].str.replace('\"','')"
   ]
  },
  {
   "cell_type": "code",
   "execution_count": 13,
   "metadata": {
    "collapsed": true
   },
   "outputs": [],
   "source": [
    "books['image-url-l'] = books['Image-URL-L\"'].str.replace('\"','')"
   ]
  },
  {
   "cell_type": "code",
   "execution_count": 14,
   "metadata": {
    "collapsed": true
   },
   "outputs": [],
   "source": [
    "del books['\"ISBN']\n",
    "del books['Image-URL-L\"']"
   ]
  },
  {
   "cell_type": "code",
   "execution_count": 15,
   "metadata": {
    "collapsed": true
   },
   "outputs": [],
   "source": [
    "# books.to_csv('clean-data/books.csv')\n",
    "# books.to_pickle('clean-data/books.pickle')"
   ]
  },
  {
   "cell_type": "markdown",
   "metadata": {},
   "source": [
    "---  \n",
    "### Users Dataset"
   ]
  },
  {
   "cell_type": "code",
   "execution_count": 16,
   "metadata": {
    "collapsed": true
   },
   "outputs": [],
   "source": [
    "# users = pd.read_csv('/Users/janakajain/GitHub/E4571-Personalisation-Theory-Project/raw-data/users.csv', \n",
    "#                     sep = r'\\\";\\\"'\n",
    "#                    )"
   ]
  },
  {
   "cell_type": "code",
   "execution_count": 17,
   "metadata": {
    "collapsed": true
   },
   "outputs": [],
   "source": [
    "# df2 = df.pivot_table(index = 'user_id', columns = 'isbn', values = 'book_rating')"
   ]
  },
  {
   "cell_type": "markdown",
   "metadata": {
    "collapsed": true
   },
   "source": [
    "### Saving the ratings as user-item matrix"
   ]
  },
  {
   "cell_type": "code",
   "execution_count": 26,
   "metadata": {},
   "outputs": [],
   "source": [
    "user_unique = list(sorted(df.user_id.unique()))\n",
    "isbn_unique = list(sorted(df.isbn.unique()))"
   ]
  },
  {
   "cell_type": "code",
   "execution_count": 27,
   "metadata": {
    "collapsed": true
   },
   "outputs": [],
   "source": [
    "data = df['book_rating'].tolist()\n",
    "row = df.user_id.astype('category', categories = user_unique).cat.codes\n",
    "col = df.isbn.astype('category', categories = isbn_unique).cat.codes"
   ]
  },
  {
   "cell_type": "code",
   "execution_count": 30,
   "metadata": {},
   "outputs": [],
   "source": [
    "sparse_matrix = csr_matrix((data, (row, col)), shape=(len(user_unique), len(isbn_unique)))"
   ]
  },
  {
   "cell_type": "code",
   "execution_count": 54,
   "metadata": {},
   "outputs": [],
   "source": [
    "np.save(arr=sparse_matrix,file='matrix')"
   ]
  }
 ],
 "metadata": {
  "anaconda-cloud": {},
  "hide_input": false,
  "kernelspec": {
   "display_name": "Python [default]",
   "language": "python",
   "name": "python3"
  },
  "language_info": {
   "codemirror_mode": {
    "name": "ipython",
    "version": 3
   },
   "file_extension": ".py",
   "mimetype": "text/x-python",
   "name": "python",
   "nbconvert_exporter": "python",
   "pygments_lexer": "ipython3",
   "version": "3.6.2"
  },
  "varInspector": {
   "cols": {
    "lenName": 16,
    "lenType": 16,
    "lenVar": 40
   },
   "kernels_config": {
    "python": {
     "delete_cmd_postfix": "",
     "delete_cmd_prefix": "del ",
     "library": "var_list.py",
     "varRefreshCmd": "print(var_dic_list())"
    },
    "r": {
     "delete_cmd_postfix": ") ",
     "delete_cmd_prefix": "rm(",
     "library": "var_list.r",
     "varRefreshCmd": "cat(var_dic_list()) "
    }
   },
   "types_to_exclude": [
    "module",
    "function",
    "builtin_function_or_method",
    "instance",
    "_Feature"
   ],
   "window_display": false
  }
 },
 "nbformat": 4,
 "nbformat_minor": 2
}
