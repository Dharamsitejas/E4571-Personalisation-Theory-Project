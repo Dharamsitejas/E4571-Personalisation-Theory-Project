{
 "cells": [
  {
   "cell_type": "markdown",
   "metadata": {},
   "source": [
    "# BX Books dataset  - Data Acquistion\n",
    "  \n",
    "Source: The dataset is available [here](http://www2.informatik.uni-freiburg.de/~cziegler/BX/)."
   ]
  },
  {
   "cell_type": "code",
   "execution_count": 1,
   "metadata": {
    "collapsed": true
   },
   "outputs": [],
   "source": [
    "import pandas as pd\n",
    "import matplotlib.pyplot as plt\n",
    "import re\n",
    "from scipy.sparse import csr_matrix, coo_matrix\n",
    "import numpy as np\n",
    "\n",
    "%matplotlib inline"
   ]
  },
  {
   "cell_type": "markdown",
   "metadata": {},
   "source": [
    "### User Dataset"
   ]
  },
  {
   "cell_type": "code",
   "execution_count": 2,
   "metadata": {},
   "outputs": [],
   "source": [
    "users = pd.read_csv('../raw-data/BX-Users.csv', sep = ';', encoding = 'iso-8859-1')"
   ]
  },
  {
   "cell_type": "code",
   "execution_count": 3,
   "metadata": {},
   "outputs": [
    {
     "data": {
      "text/plain": [
       "User-ID       int64\n",
       "Location     object\n",
       "Age         float64\n",
       "dtype: object"
      ]
     },
     "execution_count": 3,
     "metadata": {},
     "output_type": "execute_result"
    }
   ],
   "source": [
    "users.dtypes"
   ]
  },
  {
   "cell_type": "code",
   "execution_count": 4,
   "metadata": {},
   "outputs": [
    {
     "data": {
      "text/plain": [
       "278858"
      ]
     },
     "execution_count": 4,
     "metadata": {},
     "output_type": "execute_result"
    }
   ],
   "source": [
    "len(users[\"User-ID\"].unique())"
   ]
  },
  {
   "cell_type": "code",
   "execution_count": 5,
   "metadata": {
    "collapsed": true
   },
   "outputs": [],
   "source": [
    "users.columns = ['user_id', 'Location', 'Age']"
   ]
  },
  {
   "cell_type": "markdown",
   "metadata": {},
   "source": [
    "### Ratings dataset"
   ]
  },
  {
   "cell_type": "code",
<<<<<<< Updated upstream
   "execution_count": 5,
   "metadata": {},
=======
   "execution_count": 6,
   "metadata": {
    "collapsed": false
   },
>>>>>>> Stashed changes
   "outputs": [],
   "source": [
    "ratings = pd.read_csv('../raw-data/BX-Book-Ratings.csv', encoding='iso-8859-1', sep = ';')\n",
    "ratings.columns = ['user_id', 'isbn', 'book_rating']"
   ]
  },
  {
   "cell_type": "code",
<<<<<<< Updated upstream
   "execution_count": 6,
   "metadata": {},
=======
   "execution_count": 7,
   "metadata": {
    "collapsed": false
   },
>>>>>>> Stashed changes
   "outputs": [
    {
     "data": {
      "text/plain": [
       "user_id         int64\n",
       "isbn           object\n",
       "book_rating     int64\n",
       "dtype: object"
      ]
     },
     "execution_count": 7,
     "metadata": {},
     "output_type": "execute_result"
    }
   ],
   "source": [
    "ratings.dtypes"
   ]
  },
  {
   "cell_type": "code",
   "execution_count": 8,
   "metadata": {
    "scrolled": true
   },
   "outputs": [
    {
     "data": {
      "text/html": [
       "<div>\n",
       "<style>\n",
       "    .dataframe thead tr:only-child th {\n",
       "        text-align: right;\n",
       "    }\n",
       "\n",
       "    .dataframe thead th {\n",
       "        text-align: left;\n",
       "    }\n",
       "\n",
       "    .dataframe tbody tr th {\n",
       "        vertical-align: top;\n",
       "    }\n",
       "</style>\n",
       "<table border=\"1\" class=\"dataframe\">\n",
       "  <thead>\n",
       "    <tr style=\"text-align: right;\">\n",
       "      <th></th>\n",
       "      <th>user_id</th>\n",
       "      <th>isbn</th>\n",
       "      <th>book_rating</th>\n",
       "    </tr>\n",
       "  </thead>\n",
       "  <tbody>\n",
       "    <tr>\n",
       "      <th>0</th>\n",
       "      <td>276725</td>\n",
       "      <td>034545104X</td>\n",
       "      <td>0</td>\n",
       "    </tr>\n",
       "    <tr>\n",
       "      <th>1</th>\n",
       "      <td>276726</td>\n",
       "      <td>0155061224</td>\n",
       "      <td>5</td>\n",
       "    </tr>\n",
       "    <tr>\n",
       "      <th>2</th>\n",
       "      <td>276727</td>\n",
       "      <td>0446520802</td>\n",
       "      <td>0</td>\n",
       "    </tr>\n",
       "    <tr>\n",
       "      <th>3</th>\n",
       "      <td>276729</td>\n",
       "      <td>052165615X</td>\n",
       "      <td>3</td>\n",
       "    </tr>\n",
       "    <tr>\n",
       "      <th>4</th>\n",
       "      <td>276729</td>\n",
       "      <td>0521795028</td>\n",
       "      <td>6</td>\n",
       "    </tr>\n",
       "    <tr>\n",
       "      <th>5</th>\n",
       "      <td>276733</td>\n",
       "      <td>2080674722</td>\n",
       "      <td>0</td>\n",
       "    </tr>\n",
       "    <tr>\n",
       "      <th>6</th>\n",
       "      <td>276736</td>\n",
       "      <td>3257224281</td>\n",
       "      <td>8</td>\n",
       "    </tr>\n",
       "    <tr>\n",
       "      <th>7</th>\n",
       "      <td>276737</td>\n",
       "      <td>0600570967</td>\n",
       "      <td>6</td>\n",
       "    </tr>\n",
       "    <tr>\n",
       "      <th>8</th>\n",
       "      <td>276744</td>\n",
       "      <td>038550120X</td>\n",
       "      <td>7</td>\n",
       "    </tr>\n",
       "    <tr>\n",
       "      <th>9</th>\n",
       "      <td>276745</td>\n",
       "      <td>342310538</td>\n",
       "      <td>10</td>\n",
       "    </tr>\n",
       "  </tbody>\n",
       "</table>\n",
       "</div>"
      ],
      "text/plain": [
       "   user_id        isbn  book_rating\n",
       "0   276725  034545104X            0\n",
       "1   276726  0155061224            5\n",
       "2   276727  0446520802            0\n",
       "3   276729  052165615X            3\n",
       "4   276729  0521795028            6\n",
       "5   276733  2080674722            0\n",
       "6   276736  3257224281            8\n",
       "7   276737  0600570967            6\n",
       "8   276744  038550120X            7\n",
       "9   276745   342310538           10"
      ]
     },
     "execution_count": 8,
     "metadata": {},
     "output_type": "execute_result"
    }
   ],
   "source": [
    "ratings.head(10)"
   ]
  },
  {
   "cell_type": "code",
<<<<<<< Updated upstream
   "execution_count": 8,
   "metadata": {},
=======
   "execution_count": 9,
   "metadata": {
    "collapsed": false
   },
>>>>>>> Stashed changes
   "outputs": [
    {
     "data": {
      "text/plain": [
       "(1149780, 3)"
      ]
     },
     "execution_count": 9,
     "metadata": {},
     "output_type": "execute_result"
    }
   ],
   "source": [
    "ratings.shape"
   ]
  },
  {
   "cell_type": "markdown",
   "metadata": {},
   "source": [
    "---  \n",
    "### Books Dataset"
   ]
  },
  {
   "cell_type": "code",
<<<<<<< Updated upstream
   "execution_count": 9,
   "metadata": {},
=======
   "execution_count": 20,
   "metadata": {
    "collapsed": false
   },
>>>>>>> Stashed changes
   "outputs": [],
   "source": [
    "books = pd.read_csv('../raw-data/BX-Books.csv', sep=';', encoding = 'iso-8859-1', dtype =str)"
   ]
  },
  {
   "cell_type": "code",
<<<<<<< Updated upstream
   "execution_count": 10,
   "metadata": {},
=======
   "execution_count": 21,
   "metadata": {
    "collapsed": false
   },
>>>>>>> Stashed changes
   "outputs": [
    {
     "data": {
      "text/plain": [
       "False"
      ]
     },
     "execution_count": 21,
     "metadata": {},
     "output_type": "execute_result"
    }
   ],
   "source": [
    "books[\"Book-Title\"].nunique() == books[\"ISBN\"].nunique()"
   ]
  },
  {
   "cell_type": "code",
   "execution_count": 22,
   "metadata": {
    "collapsed": false
   },
   "outputs": [],
   "source": [
    "book_dict = books[[\"Book-Title\",\"ISBN\"]].set_index(\"Book-Title\").to_dict()[\"ISBN\"]"
   ]
  },
  {
   "cell_type": "code",
   "execution_count": 23,
   "metadata": {
    "collapsed": false
   },
   "outputs": [],
   "source": [
    "books['new_isbn'] = books[\"Book-Title\"].apply(lambda x: book_dict[x])"
   ]
  },
  {
   "cell_type": "code",
   "execution_count": 24,
   "metadata": {
    "collapsed": false
   },
   "outputs": [
    {
     "data": {
      "text/plain": [
       "True"
      ]
     },
     "execution_count": 24,
     "metadata": {},
     "output_type": "execute_result"
    }
   ],
   "source": [
    "books[\"Book-Title\"].nunique() == books[\"new_isbn\"].nunique()"
   ]
  },
  {
   "cell_type": "code",
   "execution_count": null,
   "metadata": {
    "collapsed": true
   },
   "outputs": [],
   "source": []
  },
  {
   "cell_type": "code",
   "execution_count": null,
   "metadata": {
    "collapsed": false
   },
   "outputs": [],
   "source": [
    "books.dtypes"
   ]
  },
  {
   "cell_type": "code",
<<<<<<< Updated upstream
   "execution_count": 11,
   "metadata": {},
=======
   "execution_count": 25,
   "metadata": {
    "collapsed": false
   },
>>>>>>> Stashed changes
   "outputs": [],
   "source": [
    "books['isbn'] = books['new_isbn']"
   ]
  },
  {
   "cell_type": "code",
<<<<<<< Updated upstream
   "execution_count": 12,
   "metadata": {},
=======
   "execution_count": 26,
   "metadata": {
    "collapsed": false
   },
>>>>>>> Stashed changes
   "outputs": [],
   "source": [
    "del books['Image-URL-L']\n",
    "del books['Image-URL-M']\n",
    "del books['Image-URL-S']\n",
    "del books['Book-Author']\n",
    "del books['Publisher']\n",
    "del books['ISBN']\n",
    "del books['new_isbn']"
   ]
  },
  {
   "cell_type": "code",
   "execution_count": null,
   "metadata": {
    "collapsed": false
   },
   "outputs": [],
   "source": [
    "books.head()"
   ]
  },
  {
   "cell_type": "code",
   "execution_count": 27,
   "metadata": {
    "collapsed": false
   },
   "outputs": [
    {
     "name": "stdout",
     "output_type": "stream",
     "text": [
      "242154\n"
     ]
    }
   ],
   "source": [
    "print(len(books['isbn'].unique()))"
   ]
  },
  {
   "cell_type": "code",
<<<<<<< Updated upstream
   "execution_count": 13,
   "metadata": {},
=======
   "execution_count": 28,
   "metadata": {
    "collapsed": false
   },
>>>>>>> Stashed changes
   "outputs": [
    {
     "data": {
      "text/html": [
       "<div>\n",
       "<style>\n",
       "    .dataframe thead tr:only-child th {\n",
       "        text-align: right;\n",
       "    }\n",
       "\n",
       "    .dataframe thead th {\n",
       "        text-align: left;\n",
       "    }\n",
       "\n",
       "    .dataframe tbody tr th {\n",
       "        vertical-align: top;\n",
       "    }\n",
       "</style>\n",
       "<table border=\"1\" class=\"dataframe\">\n",
       "  <thead>\n",
       "    <tr style=\"text-align: right;\">\n",
       "      <th></th>\n",
       "      <th>user_id</th>\n",
       "      <th>isbn</th>\n",
       "      <th>book_rating</th>\n",
       "    </tr>\n",
       "  </thead>\n",
       "  <tbody>\n",
       "    <tr>\n",
       "      <th>0</th>\n",
       "      <td>276725</td>\n",
       "      <td>034545104X</td>\n",
       "      <td>0</td>\n",
       "    </tr>\n",
       "    <tr>\n",
       "      <th>1</th>\n",
       "      <td>276726</td>\n",
       "      <td>0155061224</td>\n",
       "      <td>5</td>\n",
       "    </tr>\n",
       "    <tr>\n",
       "      <th>2</th>\n",
       "      <td>276727</td>\n",
       "      <td>0446520802</td>\n",
       "      <td>0</td>\n",
       "    </tr>\n",
       "    <tr>\n",
       "      <th>3</th>\n",
       "      <td>276729</td>\n",
       "      <td>052165615X</td>\n",
       "      <td>3</td>\n",
       "    </tr>\n",
       "    <tr>\n",
       "      <th>4</th>\n",
       "      <td>276729</td>\n",
       "      <td>0521795028</td>\n",
       "      <td>6</td>\n",
       "    </tr>\n",
       "  </tbody>\n",
       "</table>\n",
       "</div>"
      ],
      "text/plain": [
       "   user_id        isbn  book_rating\n",
       "0   276725  034545104X            0\n",
       "1   276726  0155061224            5\n",
       "2   276727  0446520802            0\n",
       "3   276729  052165615X            3\n",
       "4   276729  0521795028            6"
      ]
     },
     "execution_count": 28,
     "metadata": {},
     "output_type": "execute_result"
    }
   ],
   "source": [
    "ratings.head()"
   ]
  },
  {
   "cell_type": "code",
<<<<<<< Updated upstream
   "execution_count": 14,
   "metadata": {},
=======
   "execution_count": 29,
   "metadata": {
    "collapsed": false
   },
>>>>>>> Stashed changes
   "outputs": [
    {
     "name": "stdout",
     "output_type": "stream",
     "text": [
      "(433671, 3)\n"
     ]
    }
   ],
   "source": [
    "newdf = ratings[ratings.book_rating>0]\n",
    "print(newdf.shape)"
   ]
  },
  {
   "cell_type": "code",
   "execution_count": 30,
   "metadata": {
    "collapsed": false
   },
   "outputs": [],
   "source": [
    "joined = books.merge(newdf, on ='isbn')"
   ]
  },
  {
   "cell_type": "code",
<<<<<<< Updated upstream
   "execution_count": 16,
   "metadata": {},
=======
   "execution_count": 31,
   "metadata": {
    "collapsed": false
   },
>>>>>>> Stashed changes
   "outputs": [
    {
     "data": {
      "text/plain": [
       "52097"
      ]
     },
     "execution_count": 31,
     "metadata": {},
     "output_type": "execute_result"
    }
   ],
   "source": [
    "joined.user_id.nunique()"
   ]
  },
  {
   "cell_type": "code",
<<<<<<< Updated upstream
   "execution_count": 17,
   "metadata": {},
=======
   "execution_count": 32,
   "metadata": {
    "collapsed": false
   },
>>>>>>> Stashed changes
   "outputs": [
    {
     "data": {
      "text/plain": [
       "129168"
      ]
     },
     "execution_count": 32,
     "metadata": {},
     "output_type": "execute_result"
    }
   ],
   "source": [
    "joined.isbn.nunique()"
   ]
  },
  {
   "cell_type": "code",
<<<<<<< Updated upstream
   "execution_count": 18,
   "metadata": {},
   "outputs": [
    {
     "data": {
      "text/html": [
       "<div>\n",
       "<style>\n",
       "    .dataframe thead tr:only-child th {\n",
       "        text-align: right;\n",
       "    }\n",
       "\n",
       "    .dataframe thead th {\n",
       "        text-align: left;\n",
       "    }\n",
       "\n",
       "    .dataframe tbody tr th {\n",
       "        vertical-align: top;\n",
       "    }\n",
       "</style>\n",
       "<table border=\"1\" class=\"dataframe\">\n",
       "  <thead>\n",
       "    <tr style=\"text-align: right;\">\n",
       "      <th></th>\n",
       "      <th>Book-Title</th>\n",
       "      <th>isbn</th>\n",
       "      <th>user_id</th>\n",
       "      <th>book_rating</th>\n",
       "    </tr>\n",
       "  </thead>\n",
       "  <tbody>\n",
       "    <tr>\n",
       "      <th>0</th>\n",
       "      <td>Classical Mythology</td>\n",
       "      <td>0195153448</td>\n",
       "      <td>2</td>\n",
       "      <td>0</td>\n",
       "    </tr>\n",
       "    <tr>\n",
       "      <th>1</th>\n",
       "      <td>Clara Callan</td>\n",
       "      <td>0002005018</td>\n",
       "      <td>8</td>\n",
       "      <td>5</td>\n",
       "    </tr>\n",
       "    <tr>\n",
       "      <th>2</th>\n",
       "      <td>Clara Callan</td>\n",
       "      <td>0002005018</td>\n",
       "      <td>11400</td>\n",
       "      <td>0</td>\n",
       "    </tr>\n",
       "    <tr>\n",
       "      <th>3</th>\n",
       "      <td>Clara Callan</td>\n",
       "      <td>0002005018</td>\n",
       "      <td>11676</td>\n",
       "      <td>8</td>\n",
       "    </tr>\n",
       "    <tr>\n",
       "      <th>4</th>\n",
       "      <td>Clara Callan</td>\n",
       "      <td>0002005018</td>\n",
       "      <td>41385</td>\n",
       "      <td>0</td>\n",
       "    </tr>\n",
       "  </tbody>\n",
       "</table>\n",
       "</div>"
      ],
=======
   "execution_count": 34,
   "metadata": {
    "collapsed": false
   },
   "outputs": [
    {
     "data": {
>>>>>>> Stashed changes
      "text/plain": [
       "(293111, 5)"
      ]
     },
     "execution_count": 34,
     "metadata": {},
     "output_type": "execute_result"
    }
   ],
   "source": [
    "joined.shape"
   ]
  },
  {
   "cell_type": "code",
<<<<<<< Updated upstream
   "execution_count": 20,
   "metadata": {},
   "outputs": [],
=======
   "execution_count": 367,
   "metadata": {
    "collapsed": false
   },
   "outputs": [
    {
     "name": "stdout",
     "output_type": "stream",
     "text": [
      "2517 100\n",
      "Book-Title             3.274533\n",
      "Year-Of-Publication    3.274533\n",
      "isbn                   3.274533\n",
      "book_rating            3.274533\n",
      "dtype: float64\n",
      "3086 150\n",
      "Book-Title             3.509073\n",
      "Year-Of-Publication    3.509073\n",
      "isbn                   3.509073\n",
      "book_rating            3.509073\n",
      "dtype: float64\n",
      "3543 200\n",
      "Book-Title             3.745696\n",
      "Year-Of-Publication    3.745696\n",
      "isbn                   3.745696\n",
      "book_rating            3.745696\n",
      "dtype: float64\n",
      "4280 300\n",
      "Book-Title             4.009346\n",
      "Year-Of-Publication    4.009346\n",
      "isbn                   4.009346\n",
      "book_rating            4.009346\n",
      "dtype: float64\n",
      "5282 500\n",
      "Book-Title             4.388679\n",
      "Year-Of-Publication    4.388679\n",
      "isbn                   4.388679\n",
      "book_rating            4.388679\n",
      "dtype: float64\n"
     ]
    }
   ],
>>>>>>> Stashed changes
   "source": [
    "for j in [100, 150, 200, 300, 500]:\n",
    "    df = joined.groupby('isbn').count().sort_values('user_id', ascending =False)[:j].index.values\n",
    "    test = joined.groupby('user_id').count().sort_values('isbn', ascending = False)[:20000].index.values\n",
    "    newdf = joined[joined.user_id.isin(test) & joined.isbn.isin(df)]\n",
    "    data  = newdf[newdf['user_id'].isin(newdf['user_id'].value_counts()[newdf['user_id'].value_counts()>1].index)]\n",
    "    print(data.user_id.nunique(), data.isbn.nunique())\n",
    "    print(data.groupby('user_id').count().sort_values('isbn', ascending = False).mean())\n",
    "    data.to_csv('data' + str(j) + '.csv')"
   ]
  },
  {
   "cell_type": "code",
<<<<<<< Updated upstream
   "execution_count": 21,
=======
   "execution_count": null,
>>>>>>> Stashed changes
   "metadata": {
    "collapsed": true
   },
   "outputs": [],
   "source": []
  },
  {
   "cell_type": "code",
   "execution_count": null,
   "metadata": {
    "collapsed": false
   },
   "outputs": [],
   "source": [
    "from surprise import KNNBasic, evaluate, Reader, Dataset, KNNWithMeans, KNNWithZScore, SVD, NMF, SVDpp"
   ]
  },
  {
   "cell_type": "code",
<<<<<<< Updated upstream
   "execution_count": 53,
=======
   "execution_count": 368,
>>>>>>> Stashed changes
   "metadata": {
    "collapsed": true
   },
   "outputs": [],
<<<<<<< Updated upstream
   "source": [
    "overall['rating'] = overall.book_rating.apply(lambda x: None if x == 0 else x)"
   ]
  },
  {
   "cell_type": "code",
   "execution_count": 22,
   "metadata": {},
   "outputs": [
    {
     "name": "stdout",
     "output_type": "stream",
     "text": [
      "(383852, 4)\n"
     ]
    }
   ],
=======
>>>>>>> Stashed changes
   "source": [
    "sim_options = {'name': 'cosine',\n",
    "               'user_based': False  # compute  similarities between items\n",
    "               }"
   ]
  },
  {
<<<<<<< Updated upstream
   "cell_type": "markdown",
   "metadata": {},
   "source": [
    "### Looking at the underlying distributions"
=======
   "cell_type": "code",
   "execution_count": null,
   "metadata": {
    "collapsed": false
   },
   "outputs": [],
   "source": [
    "algo = KNNWithMeans(sim_options=sim_options, k=20)"
>>>>>>> Stashed changes
   ]
  },
  {
   "cell_type": "code",
<<<<<<< Updated upstream
   "execution_count": 54,
   "metadata": {
    "collapsed": true
   },
   "outputs": [],
   "source": [
    "agg = {\n",
    "    'user_id': 'count',\n",
    "    'book_rating': 'mean',\n",
    "    'rating': 'count'\n",
    "}"
=======
   "execution_count": null,
   "metadata": {
    "collapsed": false
   },
   "outputs": [],
   "source": []
  },
  {
   "cell_type": "code",
   "execution_count": null,
   "metadata": {
    "collapsed": false
   },
   "outputs": [],
   "source": [
    "reader = Reader(rating_scale=(1, 10))\n",
    "data = Dataset.load_from_df(temp[['user_id', 'isbn', 'rat']], reader)\n",
    "data.split(10)\n",
    "tr = data.build_full_trainset()"
   ]
  },
  {
   "cell_type": "code",
   "execution_count": null,
   "metadata": {
    "collapsed": false
   },
   "outputs": [],
   "source": [
    "perf = evaluate(algo, data, measures=['RMSE', 'MAE'])"
>>>>>>> Stashed changes
   ]
  },
  {
   "cell_type": "code",
<<<<<<< Updated upstream
   "execution_count": 55,
   "metadata": {
    "scrolled": false
   },
   "outputs": [],
   "source": [
    "agg_df = overall.groupby('Book-Title').agg(agg).sort_values('user_id',ascending=False).head(100)"
=======
   "execution_count": null,
   "metadata": {
    "collapsed": false
   },
   "outputs": [],
   "source": [
    "algo.train(tr)\n"
>>>>>>> Stashed changes
   ]
  },
  {
   "cell_type": "code",
<<<<<<< Updated upstream
   "execution_count": 56,
   "metadata": {},
   "outputs": [
    {
     "data": {
      "image/png": "iVBORw0KGgoAAAANSUhEUgAAAYAAAAJCCAYAAADJDxCdAAAABHNCSVQICAgIfAhkiAAAAAlwSFlz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\nYII=\n",
      "text/plain": [
       "<matplotlib.figure.Figure at 0x11f8ad7b8>"
      ]
     },
     "metadata": {},
     "output_type": "display_data"
    }
   ],
   "source": [
    "agg_df['user_id'].head(30).plot(kind='bar');"
=======
   "execution_count": null,
   "metadata": {
    "collapsed": false
   },
   "outputs": [],
   "source": [
    "predictions = algo.test(tr.build_testset())"
>>>>>>> Stashed changes
   ]
  },
  {
   "cell_type": "code",
<<<<<<< Updated upstream
   "execution_count": 81,
   "metadata": {},
   "outputs": [
    {
     "data": {
      "text/plain": [
       "<matplotlib.axes._subplots.AxesSubplot at 0x12b727b38>"
      ]
     },
     "execution_count": 81,
     "metadata": {},
     "output_type": "execute_result"
    },
    {
     "data": {
      "image/png": "iVBORw0KGgoAAAANSUhEUgAAAYAAAAEKCAYAAAAb7IIBAAAABHNCSVQICAgIfAhkiAAAAAlwSFlz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\nnHNdlAcA55zrojwAOOdcF/X/AeMGJsPoSxKzAAAAAElFTkSuQmCC\n",
      "text/plain": [
       "<matplotlib.figure.Figure at 0x12b19fe48>"
      ]
     },
     "metadata": {},
     "output_type": "display_data"
    }
   ],
   "source": [
    "plt.rcParams['figure.figsize'] == (17,5)\n",
    "agg_df['user_id'].head(100).plot(kind='line')\n",
    "agg_df['rating'].head(100).plot(kind='line')\n",
    "# agg_df['book_rating'].head(100).plot(kind='line',linestyle='dashed')"
=======
   "execution_count": null,
   "metadata": {
    "collapsed": false
   },
   "outputs": [],
   "source": [
    "predictions\n"
>>>>>>> Stashed changes
   ]
  },
  {
   "cell_type": "code",
<<<<<<< Updated upstream
   "execution_count": 82,
   "metadata": {},
   "outputs": [
    {
     "data": {
      "image/png": "iVBORw0KGgoAAAANSUhEUgAAAYcAAAEICAYAAAC0+DhzAAAABHNCSVQICAgIfAhkiAAAAAlwSFlz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\n",
      "text/plain": [
       "<matplotlib.figure.Figure at 0x12b860400>"
      ]
     },
     "metadata": {},
     "output_type": "display_data"
    }
   ],
   "source": [
    "overall.rating.value_counts().sort_index().plot(kind='bar');"
=======
   "execution_count": null,
   "metadata": {
    "collapsed": false
   },
   "outputs": [],
   "source": [
    "algo1 = SVDpp()"
   ]
  },
  {
   "cell_type": "code",
   "execution_count": null,
   "metadata": {
    "collapsed": false
   },
   "outputs": [],
   "source": [
    "perf = evaluate(algo1, data, measures=['RMSE', 'MAE'])"
>>>>>>> Stashed changes
   ]
  },
  {
   "cell_type": "code",
   "execution_count": null,
   "metadata": {
    "collapsed": true
   },
   "outputs": [],
   "source": []
  }
 ],
 "metadata": {
  "anaconda-cloud": {},
  "hide_input": false,
  "kernelspec": {
   "display_name": "Python [default]",
   "language": "python",
   "name": "python3"
  },
  "language_info": {
   "codemirror_mode": {
    "name": "ipython",
    "version": 3
   },
   "file_extension": ".py",
   "mimetype": "text/x-python",
   "name": "python",
   "nbconvert_exporter": "python",
   "pygments_lexer": "ipython3",
   "version": "3.6.2"
  },
  "varInspector": {
   "cols": {
    "lenName": 16,
    "lenType": 16,
    "lenVar": 40
   },
   "kernels_config": {
    "python": {
     "delete_cmd_postfix": "",
     "delete_cmd_prefix": "del ",
     "library": "var_list.py",
     "varRefreshCmd": "print(var_dic_list())"
    },
    "r": {
     "delete_cmd_postfix": ") ",
     "delete_cmd_prefix": "rm(",
     "library": "var_list.r",
     "varRefreshCmd": "cat(var_dic_list()) "
    }
   },
   "types_to_exclude": [
    "module",
    "function",
    "builtin_function_or_method",
    "instance",
    "_Feature"
   ],
   "window_display": false
  }
 },
 "nbformat": 4,
 "nbformat_minor": 2
}
