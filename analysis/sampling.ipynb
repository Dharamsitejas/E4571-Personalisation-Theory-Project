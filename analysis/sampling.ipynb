{
 "cells": [
  {
   "cell_type": "markdown",
   "metadata": {},
   "source": [
    "# Sampling books and users  \n",
    "  \n",
    "In this project, we are required to select a sample of about 100 books and 10,000 users for implementing our algorithms. As we shall see very soon, the user-item matrix of this dataset is very sparse. In the light of these two statements, it becomes crucial to create a sample of that is appropriately sparse and representative.  \n",
    "  \n",
    "There are several ways of selecting an appropriately relative sample - we describe three metrics and pick the best one explaining our reasons behind the decision."
   ]
  },
  {
   "cell_type": "code",
<<<<<<< Updated upstream
   "execution_count": 1,
=======
   "execution_count": 426,
>>>>>>> Stashed changes
   "metadata": {
    "collapsed": true
   },
   "outputs": [],
   "source": [
    "import pandas as pd\n",
    "import matplotlib.pyplot as plt\n",
    "import numpy as np\n",
    "import networkx as nx\n",
    "\n",
    "%matplotlib inline"
   ]
  },
  {
   "cell_type": "code",
<<<<<<< Updated upstream
   "execution_count": 2,
   "metadata": {},
=======
   "execution_count": 427,
   "metadata": {
    "collapsed": false
   },
>>>>>>> Stashed changes
   "outputs": [
    {
     "name": "stderr",
     "output_type": "stream",
     "text": [
      "/Users/janakajain/anaconda/lib/python3.6/site-packages/IPython/core/interactiveshell.py:2698: DtypeWarning: Columns (5) have mixed types. Specify dtype option on import or set low_memory=False.\n",
      "  interactivity=interactivity, compiler=compiler, result=result)\n"
     ]
    }
   ],
   "source": [
    "data = pd.read_csv('../clean-data/new_data.csv',index_col=0)\n",
    "# data['rating'] = data.book_rating.apply(lambda x: None if x == 0 else x)\n",
    "data.columns= ['user_id','isbn','book_rating','book_name','yop']\n",
    "data = data[data['book_rating'] > 0]"
   ]
  },
  {
   "cell_type": "code",
<<<<<<< Updated upstream
   "execution_count": 3,
=======
   "execution_count": 428,
>>>>>>> Stashed changes
   "metadata": {
    "collapsed": true
   },
   "outputs": [],
   "source": [
    "agg = {\n",
    "    'user_id': 'count',\n",
    "    'book_rating': 'mean'\n",
    "}"
   ]
  },
  {
   "cell_type": "code",
<<<<<<< Updated upstream
   "execution_count": 4,
=======
   "execution_count": 429,
>>>>>>> Stashed changes
   "metadata": {
    "collapsed": true
   },
   "outputs": [],
   "source": [
    "agg_df = data.groupby('book_name').agg(agg).sort_values('user_id',ascending=False).head(1000)"
   ]
  },
  {
   "cell_type": "markdown",
   "metadata": {},
   "source": [
    "As can be seen, we have two features that can be used to select the items based on incidence of users and ratings respectively.  \n",
    "\n",
    "Let us create another feature that captures the essence of these two features - rating density - which is the ratio of count of ratings and count of users for each book."
   ]
  },
  {
   "cell_type": "code",
<<<<<<< Updated upstream
   "execution_count": 5,
   "metadata": {},
=======
   "execution_count": 430,
   "metadata": {
    "collapsed": false
   },
>>>>>>> Stashed changes
   "outputs": [
    {
     "data": {
      "image/png": "iVBORw0KGgoAAAANSUhEUgAAAecAAAELCAYAAADji06tAAAABHNCSVQICAgIfAhkiAAAAAlwSFlz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\n",
      "text/plain": [
<<<<<<< Updated upstream
       "<matplotlib.figure.Figure at 0x119a13f98>"
=======
       "<matplotlib.figure.Figure at 0x144f84b00>"
>>>>>>> Stashed changes
      ]
     },
     "metadata": {},
     "output_type": "display_data"
    }
   ],
   "source": [
    "agg_df['user_id'].head(100).plot(kind='line');\n",
    "agg_df['book_rating'].head(100).plot(kind='line');"
   ]
  },
  {
   "cell_type": "code",
<<<<<<< Updated upstream
   "execution_count": 6,
=======
   "execution_count": 431,
>>>>>>> Stashed changes
   "metadata": {
    "collapsed": true
   },
   "outputs": [],
   "source": [
    "def get_data_sparsity(agg_df,k, measure = 'book_rating'):\n",
    "    \n",
    "    rating_df = agg_df[agg_df['user_id'] > agg_df['user_id'].mean()]\n",
    "\n",
    "    rating_df = rating_df.sort_values(measure,ascending = False).head(k)\n",
    "\n",
    "    selected_books = rating_df.index.values\n",
    "\n",
    "    data2 = data[data['book_rating'] > 0]\n",
    "\n",
    "    top_100_books_records = data2[data2['book_name'].isin(selected_books)]\n",
    "\n",
    "#     print(\"# users = \", str(top_100_books_records.user_id.nunique()),'\\n\\n',\"# books = \" , str(top_100_books_records.book_name.nunique()))\n",
    "    \n",
    "    sparsity = top_100_books_records.shape[0] / (top_100_books_records.user_id.nunique() * top_100_books_records.book_name.nunique())\n",
    "    \n",
    "    return sparsity"
   ]
  },
  {
   "cell_type": "markdown",
   "metadata": {},
   "source": [
    "### Selecting the books"
   ]
  },
  {
   "cell_type": "code",
<<<<<<< Updated upstream
   "execution_count": 7,
=======
   "execution_count": 632,
>>>>>>> Stashed changes
   "metadata": {
    "collapsed": true
   },
   "outputs": [],
   "source": [
    "isbn_df = data.groupby('isbn').count()['user_id'].sort_values(ascending=False).head(30)\n",
    "isbn_df = (isbn_df - isbn_df.mean())/ isbn_df.std()\n",
    "isbn = isbn_df.to_dict()\n",
    "\n",
    "user_df = data.groupby('user_id').count()['isbn'].sort_values(ascending=False).iloc[500:550]\n",
    "user_df = np.log(user_df)\n",
    "user = user_df.to_dict()\n",
    "\n",
    "data['score'] = data['isbn'].apply(lambda x: isbn[x] if(x in isbn.keys()) else 0)\n",
    "data['score'] += data['user_id'].apply(lambda x: user[x] if(x in user.keys()) else 0)\n",
    "\n",
    "df = data[data['score'] > 0]\n",
    "\n",
    "dd = df[df['score'] > 2.5]"
   ]
  },
  {
   "cell_type": "code",
<<<<<<< Updated upstream
   "execution_count": 8,
   "metadata": {},
=======
   "execution_count": 633,
   "metadata": {
    "collapsed": false
   },
>>>>>>> Stashed changes
   "outputs": [
    {
     "data": {
      "text/plain": [
       "(1314, 2996)"
      ]
     },
<<<<<<< Updated upstream
     "execution_count": 8,
=======
     "execution_count": 633,
>>>>>>> Stashed changes
     "metadata": {},
     "output_type": "execute_result"
    }
   ],
   "source": [
    "dd.user_id.nunique(), dd.isbn.nunique()"
   ]
  },
  {
   "cell_type": "markdown",
   "metadata": {},
   "source": [
    "### Network"
   ]
  },
  {
   "cell_type": "code",
<<<<<<< Updated upstream
   "execution_count": 9,
=======
   "execution_count": 15,
>>>>>>> Stashed changes
   "metadata": {
    "collapsed": true
   },
   "outputs": [],
   "source": [
    "G=nx.from_pandas_dataframe(df, 'user_id', 'book_name', 'book_rating')"
   ]
  },
  {
   "cell_type": "code",
<<<<<<< Updated upstream
   "execution_count": 50,
   "metadata": {},
   "outputs": [],
   "source": [
    "# data.groupby('user_id').count()['isbn'].sort_values(ascending=False).sample(10000)"
   ]
  },
  {
   "cell_type": "code",
   "execution_count": 15,
   "metadata": {},
   "outputs": [],
   "source": [
    "users = pd.read_csv('raw-data/BX-Users.csv',sep = ';', encoding = 'iso-8859-1',index_col=0)"
   ]
  },
  {
   "cell_type": "code",
   "execution_count": 16,
   "metadata": {},
   "outputs": [
    {
     "data": {
      "text/html": [
       "<div>\n",
       "<style>\n",
       "    .dataframe thead tr:only-child th {\n",
       "        text-align: right;\n",
       "    }\n",
       "\n",
       "    .dataframe thead th {\n",
       "        text-align: left;\n",
       "    }\n",
       "\n",
       "    .dataframe tbody tr th {\n",
       "        vertical-align: top;\n",
       "    }\n",
       "</style>\n",
       "<table border=\"1\" class=\"dataframe\">\n",
       "  <thead>\n",
       "    <tr style=\"text-align: right;\">\n",
       "      <th></th>\n",
       "      <th>Location</th>\n",
       "      <th>Age</th>\n",
       "    </tr>\n",
       "    <tr>\n",
       "      <th>User-ID</th>\n",
       "      <th></th>\n",
       "      <th></th>\n",
       "    </tr>\n",
       "  </thead>\n",
       "  <tbody>\n",
       "    <tr>\n",
       "      <th>1</th>\n",
       "      <td>nyc, new york, usa</td>\n",
       "      <td>NaN</td>\n",
       "    </tr>\n",
       "    <tr>\n",
       "      <th>2</th>\n",
       "      <td>stockton, california, usa</td>\n",
       "      <td>18.0</td>\n",
       "    </tr>\n",
       "    <tr>\n",
       "      <th>3</th>\n",
       "      <td>moscow, yukon territory, russia</td>\n",
       "      <td>NaN</td>\n",
       "    </tr>\n",
       "    <tr>\n",
       "      <th>4</th>\n",
       "      <td>porto, v.n.gaia, portugal</td>\n",
       "      <td>17.0</td>\n",
       "    </tr>\n",
       "    <tr>\n",
       "      <th>5</th>\n",
       "      <td>farnborough, hants, united kingdom</td>\n",
       "      <td>NaN</td>\n",
       "    </tr>\n",
       "  </tbody>\n",
       "</table>\n",
       "</div>"
      ],
      "text/plain": [
       "                                   Location   Age\n",
       "User-ID                                          \n",
       "1                        nyc, new york, usa   NaN\n",
       "2                 stockton, california, usa  18.0\n",
       "3           moscow, yukon territory, russia   NaN\n",
       "4                 porto, v.n.gaia, portugal  17.0\n",
       "5        farnborough, hants, united kingdom   NaN"
      ]
     },
     "execution_count": 16,
     "metadata": {},
     "output_type": "execute_result"
    }
   ],
   "source": [
    "users.head()"
   ]
  },
  {
   "cell_type": "code",
   "execution_count": 58,
   "metadata": {},
   "outputs": [],
   "source": [
    "dd = data.groupby('user_id').count().sort_values('isbn',ascending = False)"
   ]
  },
  {
   "cell_type": "code",
   "execution_count": 59,
   "metadata": {},
   "outputs": [
    {
     "data": {
      "text/html": [
       "<div>\n",
       "<style>\n",
       "    .dataframe thead tr:only-child th {\n",
       "        text-align: right;\n",
       "    }\n",
       "\n",
       "    .dataframe thead th {\n",
       "        text-align: left;\n",
       "    }\n",
       "\n",
       "    .dataframe tbody tr th {\n",
       "        vertical-align: top;\n",
       "    }\n",
       "</style>\n",
       "<table border=\"1\" class=\"dataframe\">\n",
       "  <thead>\n",
       "    <tr style=\"text-align: right;\">\n",
       "      <th></th>\n",
       "      <th>isbn</th>\n",
       "      <th>book_rating</th>\n",
       "      <th>book_name</th>\n",
       "      <th>yop</th>\n",
       "      <th>score</th>\n",
       "    </tr>\n",
       "    <tr>\n",
       "      <th>user_id</th>\n",
       "      <th></th>\n",
       "      <th></th>\n",
       "      <th></th>\n",
       "      <th></th>\n",
       "      <th></th>\n",
       "    </tr>\n",
       "  </thead>\n",
       "  <tbody>\n",
       "    <tr>\n",
       "      <th>11676</th>\n",
       "      <td>5617</td>\n",
       "      <td>5617</td>\n",
       "      <td>5617</td>\n",
       "      <td>5617</td>\n",
       "      <td>5617</td>\n",
       "    </tr>\n",
       "    <tr>\n",
       "      <th>98391</th>\n",
       "      <td>5374</td>\n",
       "      <td>5374</td>\n",
       "      <td>5374</td>\n",
       "      <td>5374</td>\n",
       "      <td>5374</td>\n",
       "    </tr>\n",
       "    <tr>\n",
       "      <th>189835</th>\n",
       "      <td>1829</td>\n",
       "      <td>1829</td>\n",
       "      <td>1829</td>\n",
       "      <td>1829</td>\n",
       "      <td>1829</td>\n",
       "    </tr>\n",
       "    <tr>\n",
       "      <th>153662</th>\n",
       "      <td>1648</td>\n",
       "      <td>1648</td>\n",
       "      <td>1648</td>\n",
       "      <td>1648</td>\n",
       "      <td>1648</td>\n",
       "    </tr>\n",
       "    <tr>\n",
       "      <th>23902</th>\n",
       "      <td>956</td>\n",
       "      <td>956</td>\n",
       "      <td>956</td>\n",
       "      <td>956</td>\n",
       "      <td>956</td>\n",
       "    </tr>\n",
       "    <tr>\n",
       "      <th>171118</th>\n",
       "      <td>939</td>\n",
       "      <td>939</td>\n",
       "      <td>939</td>\n",
       "      <td>939</td>\n",
       "      <td>939</td>\n",
       "    </tr>\n",
       "    <tr>\n",
       "      <th>76499</th>\n",
       "      <td>937</td>\n",
       "      <td>937</td>\n",
       "      <td>937</td>\n",
       "      <td>937</td>\n",
       "      <td>937</td>\n",
       "    </tr>\n",
       "    <tr>\n",
       "      <th>235105</th>\n",
       "      <td>909</td>\n",
       "      <td>909</td>\n",
       "      <td>909</td>\n",
       "      <td>909</td>\n",
       "      <td>909</td>\n",
       "    </tr>\n",
       "    <tr>\n",
       "      <th>248718</th>\n",
       "      <td>848</td>\n",
       "      <td>848</td>\n",
       "      <td>848</td>\n",
       "      <td>848</td>\n",
       "      <td>848</td>\n",
       "    </tr>\n",
       "    <tr>\n",
       "      <th>56399</th>\n",
       "      <td>769</td>\n",
       "      <td>769</td>\n",
       "      <td>769</td>\n",
       "      <td>769</td>\n",
       "      <td>769</td>\n",
       "    </tr>\n",
       "  </tbody>\n",
       "</table>\n",
       "</div>"
      ],
      "text/plain": [
       "         isbn  book_rating  book_name   yop  score\n",
       "user_id                                           \n",
       "11676    5617         5617       5617  5617   5617\n",
       "98391    5374         5374       5374  5374   5374\n",
       "189835   1829         1829       1829  1829   1829\n",
       "153662   1648         1648       1648  1648   1648\n",
       "23902     956          956        956   956    956\n",
       "171118    939          939        939   939    939\n",
       "76499     937          937        937   937    937\n",
       "235105    909          909        909   909    909\n",
       "248718    848          848        848   848    848\n",
       "56399     769          769        769   769    769"
      ]
     },
     "execution_count": 59,
     "metadata": {},
     "output_type": "execute_result"
    }
   ],
   "source": [
    "dd.head(10)"
   ]
  },
  {
   "cell_type": "code",
   "execution_count": 47,
   "metadata": {},
=======
   "execution_count": 559,
   "metadata": {
    "collapsed": false
   },
>>>>>>> Stashed changes
   "outputs": [
    {
     "data": {
      "text/plain": [
<<<<<<< Updated upstream
       "Location    milton keynes, england, united kingdom\n",
       "Age                                             29\n",
       "country                             united kingdom\n",
       "Name: 63714, dtype: object"
      ]
     },
     "execution_count": 47,
=======
       "user_id\n",
       "114924     1\n",
       "60113      1\n",
       "212878     1\n",
       "34296      1\n",
       "251004     1\n",
       "53688      1\n",
       "91851      1\n",
       "44906      1\n",
       "10687      1\n",
       "104535     1\n",
       "184629    12\n",
       "260939     2\n",
       "180898     5\n",
       "45748      1\n",
       "128696    51\n",
       "21232      1\n",
       "130935     3\n",
       "229673     3\n",
       "143409     1\n",
       "151487     1\n",
       "16877      6\n",
       "182229     7\n",
       "20244      1\n",
       "93861      1\n",
       "254164     1\n",
       "215543     1\n",
       "192475     1\n",
       "275447     1\n",
       "222513     1\n",
       "66017      7\n",
       "          ..\n",
       "12817      3\n",
       "95656      2\n",
       "18603      1\n",
       "216402     1\n",
       "162564    16\n",
       "208960     9\n",
       "189373     1\n",
       "84639     12\n",
       "69472      3\n",
       "187344     1\n",
       "195300     1\n",
       "183508     1\n",
       "59142      2\n",
       "56863      1\n",
       "87690      9\n",
       "155627     1\n",
       "65986      1\n",
       "107825     1\n",
       "141443     1\n",
       "60876      1\n",
       "253559     1\n",
       "144038    68\n",
       "77250      1\n",
       "16155     12\n",
       "184235     1\n",
       "244        4\n",
       "153003     6\n",
       "122284     1\n",
       "10734      1\n",
       "201854     2\n",
       "Name: isbn, Length: 10000, dtype: int64"
      ]
     },
     "execution_count": 559,
>>>>>>> Stashed changes
     "metadata": {},
     "output_type": "execute_result"
    }
   ],
   "source": [
<<<<<<< Updated upstream
    "# 63714\n",
    "\n",
    "users.loc[63714]"
   ]
  },
  {
   "cell_type": "code",
   "execution_count": 40,
   "metadata": {},
   "outputs": [],
   "source": [
    "users['country'] = users['Location'].apply(lambda x: x.replace('\"','').split(',')[-1].strip())"
   ]
  },
  {
   "cell_type": "code",
   "execution_count": 46,
   "metadata": {},
   "outputs": [],
   "source": [
    "users.groupby('country').count()['Location'].sort_values(ascending = False).head(200).to_csv('chloropleth_data.csv')"
=======
    "data.groupby('user_id').count()['isbn'].sort_values(ascending=False).sample(10000)"
>>>>>>> Stashed changes
   ]
  },
  {
   "cell_type": "code",
   "execution_count": null,
   "metadata": {
    "collapsed": true
   },
   "outputs": [],
<<<<<<< Updated upstream
   "source": [
    "boo"
   ]
  },
  {
   "cell_type": "code",
   "execution_count": 71,
   "metadata": {},
   "outputs": [],
   "source": [
    "dd['reader-type'] = pd.cut(bins=[0,3,30,900,5617],include_lowest=True,x=dd['isbn'],labels=['Browsers','Casual','Involved','Engaged'])"
   ]
  },
  {
   "cell_type": "code",
   "execution_count": 83,
   "metadata": {},
   "outputs": [
    {
     "data": {
      "image/png": "iVBORw0KGgoAAAANSUhEUgAAAZkAAADyCAYAAACf4bjjAAAABHNCSVQICAgIfAhkiAAAAAlwSFlz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\nrkJggg==\n",
      "text/plain": [
       "<matplotlib.figure.Figure at 0x12070ce10>"
      ]
     },
     "metadata": {},
     "output_type": "display_data"
    }
   ],
   "source": [
    "dd.groupby('reader-type').sum()['isbn'].plot(kind='barh');\n",
    "plt.xlabel('Number Users');\n",
    "plt.ylabel('Reader Type');\n",
    "plt.title('Composition of reader base based on number of books rated\\n');\n",
    "plt.tight_layout(pad=3,w_pad=3,h_pad=3)"
   ]
=======
   "source": []
>>>>>>> Stashed changes
  },
  {
   "cell_type": "code",
   "execution_count": null,
   "metadata": {
    "collapsed": true
   },
   "outputs": [],
   "source": []
  }
 ],
 "metadata": {
<<<<<<< Updated upstream
  "anaconda-cloud": {},
  "hide_input": false,
  "kernelspec": {
   "display_name": "Python [default]",
=======
  "hide_input": false,
  "kernelspec": {
   "display_name": "Python 3",
>>>>>>> Stashed changes
   "language": "python",
   "name": "python3"
  },
  "language_info": {
   "codemirror_mode": {
    "name": "ipython",
    "version": 3
   },
   "file_extension": ".py",
   "mimetype": "text/x-python",
   "name": "python",
   "nbconvert_exporter": "python",
   "pygments_lexer": "ipython3",
<<<<<<< Updated upstream
   "version": "3.6.2"
=======
   "version": "3.4.4"
>>>>>>> Stashed changes
  },
  "varInspector": {
   "cols": {
    "lenName": 16,
    "lenType": 16,
    "lenVar": 40
   },
   "kernels_config": {
    "python": {
     "delete_cmd_postfix": "",
     "delete_cmd_prefix": "del ",
     "library": "var_list.py",
     "varRefreshCmd": "print(var_dic_list())"
    },
    "r": {
     "delete_cmd_postfix": ") ",
     "delete_cmd_prefix": "rm(",
     "library": "var_list.r",
     "varRefreshCmd": "cat(var_dic_list()) "
    }
   },
   "types_to_exclude": [
    "module",
    "function",
    "builtin_function_or_method",
    "instance",
    "_Feature"
   ],
   "window_display": false
  }
 },
 "nbformat": 4,
 "nbformat_minor": 2
}
